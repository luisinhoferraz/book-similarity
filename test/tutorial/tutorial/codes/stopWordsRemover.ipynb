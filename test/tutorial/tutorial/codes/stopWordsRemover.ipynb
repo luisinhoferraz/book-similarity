{
 "cells": [
  {
   "cell_type": "code",
   "execution_count": 1,
   "metadata": {},
   "outputs": [
    {
     "name": "stderr",
     "output_type": "stream",
     "text": [
      "[nltk_data] Downloading package stopwords to\n",
      "[nltk_data]     /Users/luisricardoferraz/nltk_data...\n",
      "[nltk_data]   Package stopwords is already up-to-date!\n",
      "[nltk_data] Downloading package punkt to\n",
      "[nltk_data]     /Users/luisricardoferraz/nltk_data...\n",
      "[nltk_data]   Package punkt is already up-to-date!\n"
     ]
    }
   ],
   "source": [
    "import nltk\n",
    "import requests\n",
    "\n",
    "import pandas as pd\n",
    "from pandas import DataFrame\n",
    "import numpy as np\n",
    "\n",
    "from nltk.tokenize import word_tokenize\n",
    "from nltk.corpus import stopwords\n",
    "nltk.download('stopwords')\n",
    "nltk.download('punkt')\n",
    "from string import punctuation\n",
    "\n",
    "import matplotlib\n",
    "import matplotlib.pyplot as plt\n",
    "\n",
    "import re\n",
    "\n",
    "import json"
   ]
  },
  {
   "cell_type": "code",
   "execution_count": 2,
   "metadata": {},
   "outputs": [],
   "source": [
    "# Criar função para requisitar a etiquetagem do PortService-Br\n",
    "    # Importante observar que, quando a palavra é desconhecida, o PortService-Br não etiqueta adequadamente a palavra\n",
    "    # Palavras desconhecidas incluem nomes próprios, abreviações, palavras com erros de ortografia, e caracteres especiais e sinais de pontuação que não são conhecidos pelo etiquetador Freeling\n",
    "# Criar função para somar as etiquetas por tipo\n",
    "\n",
    "# Incluir dados das etiquetas no DataFrame\n",
    "# Criar função para plotar os valores num gráfico usando Matplotlib\n",
    "\n",
    "# Aplicar os procedimentos em strings com stopwords\n",
    "# Remover as stopwords\n",
    "# Aplicar os procedimentos em strings sem stopwords\n",
    "\n",
    "# O problema que surgiu no gráfico tem relação com a etiquetagem repetida das palavras. Existe uma diferença entre\n",
    "# etiquetar as palavras antes ou depois da remoção das stopwords. Para resultados mais confiáveis, é melhor\n",
    "# que a etiquetagem seja feita antes de tal remoção."
   ]
  },
  {
   "cell_type": "code",
   "execution_count": 3,
   "metadata": {},
   "outputs": [],
   "source": [
    "#def requestPosTagging(text):\n",
    "#    try:\n",
    "#        payload = {'texto': str(text)}\n",
    "#        response = requests.get('http://portservice.pythonanywhere.com/analise/morfossintatica/freeling', params=payload).json()\n",
    "#    except:\n",
    "#        print(\"Characters: \"+str(len(text))+\"; Words: \"+str(len(word_tokenize(text)))+\"; Text: \"+str(text)+\"\\n\")\n",
    "#    return response\n",
    "\n",
    "def sumDifferentTags(jsonObject):    \n",
    "    tagsDictionary = {\n",
    "        'A': 0,\n",
    "        'C': 0,\n",
    "        'D': 0,\n",
    "        'N': 0,\n",
    "        'P': 0,\n",
    "        'R': 0,\n",
    "        'S': 0,\n",
    "        'V': 0,\n",
    "        'Z': 0,\n",
    "        'W': 0,\n",
    "        'I': 0,\n",
    "        'F': 0,\n",
    "        'UNKNOWN': 0,\n",
    "        'TOTAL': 0\n",
    "    }\n",
    "    \n",
    "    tagsDictionary['TOTAL'] = len(jsonObject)\n",
    "    \n",
    "    for word in jsonObject:\n",
    "        if word['lemma'] != '<unknown>':\n",
    "            if word['poss'][0] in tagsDictionary:\n",
    "                tagsDictionary[word['poss'][0]] += 1\n",
    "            else:\n",
    "                tagsDictionary['UNKNOWN'] += 1\n",
    "        else:\n",
    "            tagsDictionary['UNKNOWN'] += 1\n",
    "\n",
    "    return tagsDictionary"
   ]
  },
  {
   "cell_type": "code",
   "execution_count": 4,
   "metadata": {},
   "outputs": [],
   "source": [
    "def cleanDataframeColumns(dataframe):\n",
    "    numberList = []\n",
    "    textList = []\n",
    "    percentageList = []\n",
    "    i = 0\n",
    "    while i < dataframe.shape[0]:\n",
    "        numberList.append(0)\n",
    "        textList.append('')\n",
    "        percentageList.append(0.0)\n",
    "        i+=1\n",
    "    \n",
    "    textArrayBefore = ['extendedSynopsis']\n",
    "    for column in textArrayBefore:\n",
    "        dataframe[column] = textList\n",
    "    \n",
    "    numberArrayBefore = ['adjective_before','conjunction_before','determiner_before','noun_before','pronoun_before','adverb_before','adposition_before','verb_before','number_before','date_before','interjection_before','punctuation_before','unknown_before','total_before']\n",
    "    for column in numberArrayBefore:\n",
    "        dataframe[column] = numberList\n",
    "        \n",
    "    textArrayAfter = ['synopsisWithoutStopwords']\n",
    "    for column in textArrayAfter:\n",
    "        dataframe[column] = textList\n",
    "    \n",
    "    numberArrayAfter = ['adjective_after','conjunction_after','determiner_after','noun_after','pronoun_after','adverb_after','adposition_after','verb_after','number_after','date_after','interjection_after','punctuation_after','unknown_after','total_after']\n",
    "    for column in numberArrayAfter:\n",
    "        dataframe[column] = numberList\n",
    "    \n",
    "    dataframe['percentageOfUnknownWords'] = percentageList"
   ]
  },
  {
   "cell_type": "code",
   "execution_count": 5,
   "metadata": {},
   "outputs": [],
   "source": [
    "def executePosTagging(dataframe):\n",
    "    i = 0\n",
    "    while i < dataframe.shape[0]:\n",
    "    #while i < 5:\n",
    "        text = dataframe.sinopse.iloc[i]\n",
    "        \n",
    "        try:\n",
    "            #result = requestPosTagging(text)\n",
    "            result = json.loads(text.replace('\\'','\\\"'))\n",
    "            dictionary = sumDifferentTags(result)\n",
    "\n",
    "            dataframe.extendedSynopsis.iloc[i] = recreateSynopsis(result)\n",
    "\n",
    "            dataframe.adjective_before.iloc[i] = dictionary.get('A')\n",
    "            dataframe.conjunction_before.iloc[i] = dictionary.get('C')\n",
    "            dataframe.determiner_before.iloc[i] = dictionary.get('D')\n",
    "            dataframe.noun_before.iloc[i] = dictionary.get('N')\n",
    "            dataframe.pronoun_before.iloc[i] = dictionary.get('P')\n",
    "            dataframe.adverb_before.iloc[i] = dictionary.get('R')\n",
    "            dataframe.adposition_before.iloc[i] = dictionary.get('S')\n",
    "            dataframe.verb_before.iloc[i] = dictionary.get('V')\n",
    "            dataframe.number_before.iloc[i] = dictionary.get('Z')\n",
    "            dataframe.date_before.iloc[i] = dictionary.get('W')\n",
    "            dataframe.interjection_before.iloc[i] = dictionary.get('I')\n",
    "            dataframe.punctuation_before.iloc[i] = dictionary.get('F')\n",
    "            dataframe.unknown_before.iloc[i] = dictionary.get('UNKNOWN')\n",
    "            dataframe.total_before.iloc[i] = dictionary.get('TOTAL')\n",
    "\n",
    "            resultWithoutStopwords = removeStopwordsFromSynopsis(result)\n",
    "            dictionaryWithoutStopwords = sumDifferentTags(resultWithoutStopwords)\n",
    "\n",
    "            dataframe.synopsisWithoutStopwords.iloc[i] = recreateSynopsis(resultWithoutStopwords)\n",
    "\n",
    "            dataframe.adjective_after.iloc[i] = dictionaryWithoutStopwords.get('A')\n",
    "            dataframe.conjunction_after.iloc[i] = dictionaryWithoutStopwords.get('C')\n",
    "            dataframe.determiner_after.iloc[i] = dictionaryWithoutStopwords.get('D')\n",
    "            dataframe.noun_after.iloc[i] = dictionaryWithoutStopwords.get('N')\n",
    "            dataframe.pronoun_after.iloc[i] = dictionaryWithoutStopwords.get('P')\n",
    "            dataframe.adverb_after.iloc[i] = dictionaryWithoutStopwords.get('R')\n",
    "            dataframe.adposition_after.iloc[i] = dictionaryWithoutStopwords.get('S')\n",
    "            dataframe.verb_after.iloc[i] = dictionaryWithoutStopwords.get('V')\n",
    "            dataframe.number_after.iloc[i] = dictionaryWithoutStopwords.get('Z')\n",
    "            dataframe.date_after.iloc[i] = dictionaryWithoutStopwords.get('W')\n",
    "            dataframe.interjection_after.iloc[i] = dictionaryWithoutStopwords.get('I')\n",
    "            dataframe.punctuation_after.iloc[i] = dictionaryWithoutStopwords.get('F')\n",
    "            dataframe.unknown_after.iloc[i] = dictionaryWithoutStopwords.get('UNKNOWN')\n",
    "            dataframe.total_after.iloc[i] = dictionaryWithoutStopwords.get('TOTAL')\n",
    "\n",
    "            dataframe.percentageOfUnknownWords.iloc[i] = (dictionary.get('UNKNOWN')/dictionary.get('TOTAL'))*100\n",
    "        except:\n",
    "            #pass\n",
    "            print('deu erro!')\n",
    "        \n",
    "        i += 1"
   ]
  },
  {
   "cell_type": "code",
   "execution_count": 6,
   "metadata": {},
   "outputs": [],
   "source": [
    "stopwordsList = stopwords.words('portuguese')\n",
    "\n",
    "def removeStopwordsFromSynopsis(jsonObject):\n",
    "    synopsisWithoutStopwords = [word for word in jsonObject if word['token'] not in stopwordsList and word['lemma'] != '<unknown>' and word['poss'][0] in ['A', 'N', 'V']]\n",
    "    return synopsisWithoutStopwords"
   ]
  },
  {
   "cell_type": "code",
   "execution_count": 7,
   "metadata": {},
   "outputs": [],
   "source": [
    "def recreateSynopsis(response):\n",
    "    allWords = []\n",
    "    for item in response:\n",
    "        allWords.append(item['token'])\n",
    "    return \" \".join(allWords)"
   ]
  },
  {
   "cell_type": "code",
   "execution_count": 8,
   "metadata": {},
   "outputs": [],
   "source": [
    "#Count number of characters in each string\n",
    "def countCharactersInEachString(df, column):\n",
    "    charactersCount = []\n",
    "    for synopsis in df[column]:\n",
    "        charactersCount.append(len(str(synopsis)))\n",
    "    return charactersCount\n",
    "\n",
    "#Count number of words in each string\n",
    "def countWordsInEachString(df, column):\n",
    "    wordsCount = []\n",
    "    for synopsis in df[column]:\n",
    "        words = word_tokenize(str(synopsis))\n",
    "        wordsCount.append(len(words))\n",
    "    return wordsCount\n",
    "\n",
    "#Extract some basic statistics about synopsis\n",
    "def extractBasicStatisticsAboutSynopsis(arrayOfSizes):\n",
    "    synopsisLength = np.array(arrayOfSizes)\n",
    "    basicStatistics = \"\\t\"   \n",
    "    basicStatistics += \"Arithmetic Mean: \" + str(np.mean(synopsisLength)) + \"\\n\\t\"\n",
    "    basicStatistics += \"Median: \" + str(np.median(synopsisLength)) + \"\\n\\t\"\n",
    "    basicStatistics += \"Highest Value: \" + str(np.max(synopsisLength)) + \"\\n\\t\"\n",
    "    basicStatistics += \"Lowest Value: \" + str(np.min(synopsisLength)) + \"\\n\\t\"\n",
    "    basicStatistics += \"Mid-range: \" + str((np.max(synopsisLength)-np.min(synopsisLength))/2) + \"\\n\\t\"\n",
    "    basicStatistics += \"Variance: \" + str(np.var(synopsisLength,ddof=1)) + \"\\n\\t\"\n",
    "    basicStatistics += \"Standard Deviation: \" + str(np.std(synopsisLength,ddof=1)) + \"\\n\\t\"\n",
    "    return basicStatistics\n",
    "\n",
    "def extractPercentilesAboutSynopsis(arrayOfSizes):\n",
    "    synopsisLength = np.array(arrayOfSizes)\n",
    "    percentiles = \"Percentiles: \" + \"\\n\\t\"\n",
    "    count = 0.5\n",
    "    while count <= 100:\n",
    "        percentiles += \"Percentile \" + str(count) + \": \" + str(np.percentile(arrayOfSizes,count)) + \"\\n\\t\"\n",
    "        count += 0.5\n",
    "    return percentiles\n",
    "\n",
    "#Extract some statistics about this Dataset\n",
    "def extractStatisticsFromSynopsis(dataframe, title, column):\n",
    "    log = title + \"\\n\\n\"\n",
    "    log += \"Shape of Dataset: \" + str(dataframe.shape[0]) + \" rows and \" + str(dataframe.shape[1]) + \" columns\" + \"\\n\\n\"\n",
    "    log += \"Statistics of Synopsis Length (Characters):\" + \"\\n\"\n",
    "    charactersCount = countCharactersInEachString(dataframe, column)\n",
    "    log += extractBasicStatisticsAboutSynopsis(charactersCount) + \"\\n\"\n",
    "    log += extractPercentilesAboutSynopsis(charactersCount) + \"\\n\"\n",
    "    log += \"Statistics of Synopsis Length (Words):\" + \"\\n\"\n",
    "    wordsCount = countWordsInEachString(dataframe, column)\n",
    "    log += extractBasicStatisticsAboutSynopsis(wordsCount) + \"\\n\"\n",
    "    log += extractPercentilesAboutSynopsis(wordsCount) + \"\\n\"\n",
    "    return log"
   ]
  },
  {
   "cell_type": "code",
   "execution_count": 9,
   "metadata": {},
   "outputs": [],
   "source": [
    "filePath = '/Users/luisricardoferraz/book-similarity/test/tutorial/tutorial/spiders/synopsis-preprocessing/'"
   ]
  },
  {
   "cell_type": "code",
   "execution_count": 10,
   "metadata": {},
   "outputs": [],
   "source": [
    "#Import CSV file to a DataFrame\n",
    "df = pd.read_csv(filePath+'sinopsesProcessadas.csv')\n",
    "df = df.drop(['Unnamed: 0'],1)"
   ]
  },
  {
   "cell_type": "code",
   "execution_count": 11,
   "metadata": {},
   "outputs": [
    {
     "name": "stderr",
     "output_type": "stream",
     "text": [
      "/anaconda3/lib/python3.7/site-packages/pandas/core/indexing.py:190: SettingWithCopyWarning: \n",
      "A value is trying to be set on a copy of a slice from a DataFrame\n",
      "\n",
      "See the caveats in the documentation: http://pandas.pydata.org/pandas-docs/stable/indexing.html#indexing-view-versus-copy\n",
      "  self._setitem_with_indexer(indexer, value)\n"
     ]
    },
    {
     "name": "stdout",
     "output_type": "stream",
     "text": [
      "deu erro!\n",
      "deu erro!\n",
      "deu erro!\n",
      "deu erro!\n",
      "deu erro!\n",
      "deu erro!\n",
      "deu erro!\n",
      "deu erro!\n",
      "deu erro!\n",
      "deu erro!\n",
      "deu erro!\n",
      "deu erro!\n",
      "deu erro!\n",
      "deu erro!\n",
      "deu erro!\n",
      "deu erro!\n",
      "deu erro!\n",
      "deu erro!\n",
      "deu erro!\n",
      "deu erro!\n",
      "deu erro!\n",
      "deu erro!\n",
      "deu erro!\n",
      "deu erro!\n",
      "deu erro!\n",
      "deu erro!\n",
      "deu erro!\n",
      "deu erro!\n",
      "deu erro!\n",
      "deu erro!\n",
      "deu erro!\n",
      "deu erro!\n",
      "deu erro!\n",
      "deu erro!\n",
      "deu erro!\n",
      "deu erro!\n",
      "deu erro!\n",
      "deu erro!\n",
      "deu erro!\n",
      "deu erro!\n",
      "deu erro!\n",
      "deu erro!\n",
      "deu erro!\n",
      "deu erro!\n",
      "deu erro!\n",
      "deu erro!\n",
      "deu erro!\n",
      "deu erro!\n",
      "deu erro!\n",
      "deu erro!\n",
      "deu erro!\n",
      "deu erro!\n",
      "deu erro!\n",
      "deu erro!\n",
      "deu erro!\n",
      "deu erro!\n",
      "deu erro!\n",
      "deu erro!\n",
      "deu erro!\n",
      "deu erro!\n",
      "deu erro!\n",
      "deu erro!\n",
      "deu erro!\n",
      "deu erro!\n",
      "deu erro!\n",
      "deu erro!\n",
      "deu erro!\n",
      "deu erro!\n",
      "deu erro!\n",
      "deu erro!\n",
      "deu erro!\n",
      "deu erro!\n",
      "deu erro!\n",
      "deu erro!\n",
      "deu erro!\n",
      "deu erro!\n",
      "deu erro!\n",
      "deu erro!\n",
      "deu erro!\n",
      "deu erro!\n",
      "deu erro!\n",
      "deu erro!\n",
      "deu erro!\n",
      "deu erro!\n",
      "deu erro!\n",
      "deu erro!\n",
      "deu erro!\n",
      "deu erro!\n",
      "deu erro!\n",
      "deu erro!\n",
      "deu erro!\n",
      "deu erro!\n",
      "deu erro!\n",
      "deu erro!\n",
      "deu erro!\n"
     ]
    }
   ],
   "source": [
    "cleanDataframeColumns(df)\n",
    "executePosTagging(df)"
   ]
  },
  {
   "cell_type": "code",
   "execution_count": 12,
   "metadata": {},
   "outputs": [
    {
     "data": {
      "text/plain": [
       "0        jovem garota brasileira resolve aventurar curs...\n",
       "1        resgate primeira palavra ouvi tiros cessaram f...\n",
       "2        substantivo cela prisão verbo prender enjaular...\n",
       "3        court s king play game decide lords book times...\n",
       "4        quebrado irritado abandonado sentia dias lutav...\n",
       "5        atual próxima dias luta feminina silêncio pode...\n",
       "6        histórias contos fadas crianças ouvem fizeram ...\n",
       "7        passos garota linda dezessete anos quilos pass...\n",
       "8        existe forma leveza graça simples fato existir...\n",
       "9        thriller luta secreta bem mal pessoas habilida...\n",
       "10       crônicas gelo fogo personagens presentes quint...\n",
       "11       homem simples vida modesta amou coração sufici...\n",
       "12       oitavo volume injeta tensão fantasia universo ...\n",
       "13       diana conhecida mulher maravilha criada amadas...\n",
       "14       início século xx jovem glória sonha amor contr...\n",
       "15       tornar mulher maravilha diana filha deusa dian...\n",
       "16       podemos viver paraíso passamos inferno brasil ...\n",
       "17       henry duque anseia vida ordenada previsível ún...\n",
       "18       acaba perder pai mãe depressão vê obrigada ass...\n",
       "19       primeiras horas dia dezembro lançou última gra...\n",
       "20       escrito biógrafo oficial historiador consagrad...\n",
       "21       jovem estudante comunicação resolve fazer proj...\n",
       "22       recém casado conde deixou esposa defender duca...\n",
       "23       autoras usa melodia coração sedução implacável...\n",
       "24       cidadezinha comum interior acontece dia quietu...\n",
       "25       passado envolto segredos morte trágica pais me...\n",
       "26       receita apaixonante pegue dose d crítica culin...\n",
       "27       pequena ilha cavaleiros bravos suficiente comp...\n",
       "28       livro formato bolso ilustrações ruas traz comp...\n",
       "29       união sentimentos cate acabou ouvindo conversa...\n",
       "                               ...                        \n",
       "10269    nova rumores vizinhança chegada mulher mística...\n",
       "10270    livro história inúmeros improváveis personagen...\n",
       "10271    encontrando relato milagroso atravessa longos ...\n",
       "10272    pais morrem acidente carro primeira coisa sent...\n",
       "10273    altares ruíram templos perderam areias tempo r...\n",
       "10274    unicórnio menino vento juntos velocidade charl...\n",
       "10275    revoltas populares golpes militares guerras ci...\n",
       "10276    tina amados heróis animais fantásticos habitam...\n",
       "10277    cora escrava plantação algodão década conhece ...\n",
       "10278    conhece popular canal culinária une pessoas mu...\n",
       "10279    tempos difíceis urgência entender mundo questõ...\n",
       "10280    livro premiado autor apresenta série coisas pe...\n",
       "10281    conto tornou elemento fundamental evolução mit...\n",
       "10282    nova edição famoso livro recordes mundo encont...\n",
       "10283    guerra amor vida unem drama sensível visita le...\n",
       "10284    linda cadelinha vira lata adotou lucas opção a...\n",
       "10285    holocausto segunda guerra mundial momento deci...\n",
       "10286    sabe girls chance aproximar trio vai ficar sab...\n",
       "10287    adianta enganar ano começa carnaval conseguiu ...\n",
       "10288    adam colocou olhos doce esperava ficar fascina...\n",
       "10289    grande barulho ecoou redor mundo trazendo caos...\n",
       "10290    amorim cresceu pequena cidade andorinha pequen...\n",
       "10291    livro conhecido escritor apresenta série coisa...\n",
       "10292    dr especialista neozelandês saúde mulher foca ...\n",
       "10293    vida cole girou torno hóquei soube crescesse j...\n",
       "10294    grito vitória dor olhavam extasiados fim enxer...\n",
       "10295    quer ter própria vida quer esquecer dia tragéd...\n",
       "10296    amor compartilhamos tipo esquece tipo quer esq...\n",
       "10297    sabia imprensa capaz fazer vida intrigas boato...\n",
       "10298    livro envolvido temas emocionantes farão coraç...\n",
       "Name: synopsisWithoutStopwords, Length: 10299, dtype: object"
      ]
     },
     "execution_count": 12,
     "metadata": {},
     "output_type": "execute_result"
    }
   ],
   "source": [
    "df['synopsisWithoutStopwords']"
   ]
  },
  {
   "cell_type": "code",
   "execution_count": 13,
   "metadata": {},
   "outputs": [],
   "source": [
    "df.to_csv(filePath+'dataSetComPosTaggingERemocaoDeStopWords.csv')"
   ]
  },
  {
   "cell_type": "code",
   "execution_count": 14,
   "metadata": {},
   "outputs": [],
   "source": [
    "with open(filePath+'logDataSetComPosTaggingERemocaoDeStopWords.txt','w') as log:\n",
    "    log.write(extractStatisticsFromSynopsis(df, \"Statistics of Dataset - PosTagging and StopWords Removal\", 'sinopse'))"
   ]
  },
  {
   "cell_type": "code",
   "execution_count": 15,
   "metadata": {},
   "outputs": [],
   "source": [
    "#Import CSV file to a DataFrame\n",
    "df = pd.read_csv(filePath+'dataSetComPosTaggingERemocaoDeStopWords.csv')\n",
    "df = df.drop(['Unnamed: 0'],1)"
   ]
  },
  {
   "cell_type": "code",
   "execution_count": 16,
   "metadata": {},
   "outputs": [],
   "source": [
    "#This is me trying to fix a mistake of when I was removing Hashtags. Now all dataset versions are fixed.\n",
    "#errors = [194,1818,3216,5696,5735,5782,5793,7300]\n",
    "#for number in errors:\n",
    "#    hashtags = re.findall('#',df.sinopse.iloc[number])\n",
    "#    difference = len(hashtags)\n",
    "#    \n",
    "#    df.sinopse.iloc[number] = re.sub('#','',df.sinopse.iloc[number])\n",
    "#    \n",
    "#    df.extendedSynopsis.iloc[number] = re.sub('#','',df.extendedSynopsis.iloc[number])\n",
    "#    df.unknown_before.iloc[number] = df.unknown_before.iloc[number] - difference\n",
    "#    df.total_before.iloc[number] = df.total_before.iloc[number] - difference\n",
    "#    \n",
    "#    df.synopsisWithoutStopwords.iloc[number] = re.sub('#','',df.synopsisWithoutStopwords.iloc[number])\n",
    "#    df.unknown_after.iloc[number] = df.unknown_after.iloc[number] - difference\n",
    "#    df.total_after.iloc[number] = df.total_after.iloc[number] - difference\n",
    "#    \n",
    "#    df.percentageOfUnknownWords.iloc[number] = (df.unknown_before.iloc[number]/df.total_before.iloc[number])*100\n",
    "#\n",
    "#df.to_csv(filePath+'dataSetComPosTaggingERemocaoDeStopWords.csv')\n",
    "#with open(filePath+'logDataSetComPosTaggingERemocaoDeStopWords.txt','w') as log:\n",
    "#    log.write(extractStatisticsFromSynopsis(df, \"Statistics of Dataset - PosTagging and StopWords Removal\", 'sinopse'))"
   ]
  },
  {
   "cell_type": "code",
   "execution_count": 17,
   "metadata": {},
   "outputs": [],
   "source": [
    "df = df.dropna(axis=0,how='any',subset=['extendedSynopsis'],inplace=False)\n",
    "\n",
    "df.to_csv(filePath+'dataSetComPosTaggingBemSucedido.csv')\n",
    "with open(filePath+'logDataSetComPosTaggingBemSucedido.txt','w') as log:\n",
    "    log.write(extractStatisticsFromSynopsis(df, \"Statistics of Dataset - PosTagging Successful\", 'sinopse'))"
   ]
  },
  {
   "cell_type": "code",
   "execution_count": 18,
   "metadata": {},
   "outputs": [
    {
     "data": {
      "text/plain": [
       "(10204, 33)"
      ]
     },
     "execution_count": 18,
     "metadata": {},
     "output_type": "execute_result"
    }
   ],
   "source": [
    "df.shape"
   ]
  },
  {
   "cell_type": "code",
   "execution_count": 19,
   "metadata": {},
   "outputs": [],
   "source": [
    "df = df[df['percentageOfUnknownWords'] <= 29]\n",
    "\n",
    "df.to_csv(filePath+'dataSetComPalavrasEstrangeirasRemovidas.csv')\n",
    "with open(filePath+'logDataSetComPalavrasEstrangeirasRemovidas.txt','w') as log:\n",
    "    log.write(extractStatisticsFromSynopsis(df, \"Statistics of Dataset - Foreign Words Removed\", 'sinopse'))"
   ]
  },
  {
   "cell_type": "code",
   "execution_count": 20,
   "metadata": {},
   "outputs": [],
   "source": [
    "#i = 0\n",
    "#foreigns = 0\n",
    "#exceptions = 0\n",
    "#while i < df.shape[0]:\n",
    "#    if df.percentageOfUnknownWords.iloc[i] > 29:\n",
    "#        foreigns += 1\n",
    "#    if str(df.extendedSynopsis.iloc[i]) == 'nan':\n",
    "#        exceptions += 1\n",
    "#    i += 1\n",
    "#print(foreigns)\n",
    "#print(exceptions)\n",
    "#print(str(foreigns + exceptions))"
   ]
  },
  {
   "cell_type": "code",
   "execution_count": 21,
   "metadata": {},
   "outputs": [],
   "source": [
    "#Import CSV file to a DataFrame\n",
    "df = pd.read_csv(filePath+'dataSetComPalavrasEstrangeirasRemovidas.csv')\n",
    "df = df.drop(['Unnamed: 0'],1)"
   ]
  },
  {
   "cell_type": "code",
   "execution_count": 22,
   "metadata": {},
   "outputs": [],
   "source": [
    "dfBeforeStopWordsRemoval = df[['titulo', 'sinopse', 'extendedSynopsis', 'adjective_before', 'conjunction_before', 'determiner_before', 'noun_before', 'pronoun_before', 'adverb_before', 'adposition_before', 'verb_before', 'number_before', 'date_before', 'interjection_before', 'punctuation_before', 'unknown_before', 'total_before', 'percentageOfUnknownWords']]\n",
    "dfBeforeStopWordsRemoval.to_csv(filePath+'dataSetComPosTaggingAntesDaRemocaoDeStopwords.csv')\n",
    "with open(filePath+'logDataSetComPosTaggingAntesDaRemocaoDeStopwords.txt','w') as log:\n",
    "    log.write(extractStatisticsFromSynopsis(dfBeforeStopWordsRemoval, \"Statistics of Dataset - PosTagging before StopWords Removal\", 'extendedSynopsis'))\n",
    "\n",
    "dfAfterStopWordsRemoval = df[['titulo', 'sinopse', 'synopsisWithoutStopwords', 'adjective_after', 'conjunction_after', 'determiner_after', 'noun_after', 'pronoun_after', 'adverb_after', 'adposition_after', 'verb_after', 'number_after', 'date_after', 'interjection_after', 'punctuation_after', 'unknown_after', 'total_after']]\n",
    "dfAfterStopWordsRemoval.to_csv(filePath+'dataSetComPosTaggingDepoisDaRemocaoDeStopwords.csv')\n",
    "with open(filePath+'logDataSetComPosTaggingDepoisDaRemocaoDeStopwords.txt','w') as log:\n",
    "    log.write(extractStatisticsFromSynopsis(dfAfterStopWordsRemoval, \"Statistics of Dataset - PosTagging after StopWords Removal\", 'synopsisWithoutStopwords'))\n"
   ]
  },
  {
   "cell_type": "code",
   "execution_count": 23,
   "metadata": {},
   "outputs": [],
   "source": [
    "def generateTagsPlot(etiquetasAntes,etiquetasDepois,eixoHorizontal,tamanhoHorizontal,tamanhoVertical,larguraDaBarra,titulo,legendaHorizontal,legendaVertical):\n",
    "    totais_antes = []\n",
    "    totais_depois = []\n",
    "    for column in etiquetasAntes:\n",
    "        totais_antes.append(df[column].sum())\n",
    "    for column in etiquetasDepois:\n",
    "        totais_depois.append(df[column].sum())\n",
    "    plt.figure(figsize=(tamanhoHorizontal,tamanhoVertical))\n",
    "    registros = len(totais_antes)\n",
    "    intervalo = range(registros)\n",
    "    r1 = np.arange(len(etiquetasAntes))\n",
    "    r2 = [intervalo + larguraDaBarra for intervalo in r1]\n",
    "    opacity = 0.6\n",
    "    plt.bar(r1, totais_antes, larguraDaBarra, color=\"orange\", label='Antes', alpha=opacity)\n",
    "    plt.bar(r2, totais_depois, larguraDaBarra, color=\"green\", label='Depois', alpha=opacity)\n",
    "    plt.xlabel(legendaHorizontal)\n",
    "    plt.ylabel(legendaVertical)\n",
    "    plt.xticks([r + larguraDaBarra/2 for r in range(len(totais_antes))], eixoHorizontal)\n",
    "    plt.title(titulo)\n",
    "    plt.legend()\n",
    "    plt.show()\n",
    "    \n",
    "    i = 0\n",
    "    while i < len(eixoHorizontal):\n",
    "        print(str(eixoHorizontal[i])+'='+str(1 - (totais_depois[i]/totais_antes[i])))\n",
    "        i += 1"
   ]
  },
  {
   "cell_type": "code",
   "execution_count": 24,
   "metadata": {},
   "outputs": [
    {
     "data": {
      "image/png": "[encoded data removed]",
      "text/plain": [
       "<Figure size 1440x360 with 1 Axes>"
      ]
     },
     "metadata": {
      "needs_background": "light"
     },
     "output_type": "display_data"
    },
    {
     "name": "stdout",
     "output_type": "stream",
     "text": [
      "adjective=0.00039423907664171143\n",
      "conjunction=1.0\n",
      "determiner=1.0\n",
      "noun=0.0007095924989031221\n",
      "pronoun=1.0\n",
      "adverb=1.0\n",
      "adposition=1.0\n",
      "verb=0.1619490779288557\n",
      "number=1.0\n",
      "date=nan\n",
      "interjection=1.0\n",
      "punctuation=nan\n",
      "unknown=1.0\n"
     ]
    },
    {
     "name": "stderr",
     "output_type": "stream",
     "text": [
      "/anaconda3/lib/python3.7/site-packages/ipykernel_launcher.py:25: RuntimeWarning: invalid value encountered in long_scalars\n"
     ]
    }
   ],
   "source": [
    "etiquetasAntes = ('adjective_before','conjunction_before','determiner_before','noun_before','pronoun_before','adverb_before','adposition_before','verb_before','number_before','date_before','interjection_before','punctuation_before','unknown_before')\n",
    "etiquetasDepois = ('adjective_after','conjunction_after','determiner_after','noun_after','pronoun_after','adverb_after','adposition_after','verb_after','number_after','date_after','interjection_after','punctuation_after','unknown_after')\n",
    "eixoHorizontal = ('adjective','conjunction','determiner','noun','pronoun','adverb','adposition','verb','number','date','interjection','punctuation','unknown')\n",
    "\n",
    "generateTagsPlot(etiquetasAntes,etiquetasDepois,eixoHorizontal,20,5,0.25,'Tipos de TAGs atribuídas às sinopses - Antes e Depois da remoção de Stopwords','Etiquetas','Total de ocorrências')"
   ]
  },
  {
   "cell_type": "code",
   "execution_count": 25,
   "metadata": {},
   "outputs": [
    {
     "data": {
      "image/png": "[encoded data removed]",
      "text/plain": [
       "<Figure size 432x360 with 1 Axes>"
      ]
     },
     "metadata": {
      "needs_background": "light"
     },
     "output_type": "display_data"
    },
    {
     "name": "stdout",
     "output_type": "stream",
     "text": [
      "=0.5741038268791878\n"
     ]
    }
   ],
   "source": [
    "etiquetasAntesNew = ['total_before']\n",
    "etiquetasDepoisNew = ['total_after']\n",
    "eixoHorizontalNew = ['']\n",
    "\n",
    "generateTagsPlot(etiquetasAntesNew,etiquetasDepoisNew,eixoHorizontalNew,6,5,0.25,'Contagem de palavras nas sinopses - Antes e Depois da remoção de Stopwords','Fase do pré-processamento','Total')"
   ]
  },
  {
   "cell_type": "code",
   "execution_count": null,
   "metadata": {},
   "outputs": [],
   "source": []
  }
 ],
 "metadata": {
  "kernelspec": {
   "display_name": "Python 3",
   "language": "python",
   "name": "python3"
  },
  "language_info": {
   "codemirror_mode": {
    "name": "ipython",
    "version": 3
   },
   "file_extension": ".py",
   "mimetype": "text/x-python",
   "name": "python",
   "nbconvert_exporter": "python",
   "pygments_lexer": "ipython3",
   "version": "3.7.3"
  }
 },
 "nbformat": 4,
 "nbformat_minor": 2
}
