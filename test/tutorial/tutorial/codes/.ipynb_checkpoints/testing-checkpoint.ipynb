{
 "cells": [
  {
   "cell_type": "code",
   "execution_count": 10,
   "metadata": {},
   "outputs": [],
   "source": [
    "import pycurl\n",
    "\n",
    "# As long as the file is opened in binary mode, both Python 2 and Python 3\n",
    "# can write response body to it without decoding.\n",
    "with open('out.html', 'wb') as f:\n",
    "    c = pycurl.Curl()\n",
    "    c.setopt(c.URL, 'https://www.skoob.com.br/autor/recentes/')\n",
    "    c.setopt(c.WRITEDATA, f)\n",
    "    c.perform()\n",
    "    c.close()"
   ]
  },
  {
   "cell_type": "code",
   "execution_count": null,
   "metadata": {},
   "outputs": [],
   "source": []
  }
 ],
 "metadata": {
  "kernelspec": {
   "display_name": "Python 3",
   "language": "python",
   "name": "python3"
  },
  "language_info": {
   "codemirror_mode": {
    "name": "ipython",
    "version": 3
   },
   "file_extension": ".py",
   "mimetype": "text/x-python",
   "name": "python",
   "nbconvert_exporter": "python",
   "pygments_lexer": "ipython3",
   "version": "3.7.3"
  }
 },
 "nbformat": 4,
 "nbformat_minor": 2
}
