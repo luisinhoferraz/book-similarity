{
 "cells": [
  {
   "cell_type": "code",
   "execution_count": 1,
   "metadata": {},
   "outputs": [
    {
     "name": "stderr",
     "output_type": "stream",
     "text": [
      "[nltk_data] Downloading package stopwords to\n",
      "[nltk_data]     /Users/luisricardoferraz/nltk_data...\n",
      "[nltk_data]   Package stopwords is already up-to-date!\n",
      "[nltk_data] Downloading package punkt to\n",
      "[nltk_data]     /Users/luisricardoferraz/nltk_data...\n",
      "[nltk_data]   Package punkt is already up-to-date!\n"
     ]
    }
   ],
   "source": [
    "import nltk\n",
    "import requests\n",
    "\n",
    "import pandas as pd\n",
    "from pandas import DataFrame\n",
    "import numpy as np\n",
    "\n",
    "from nltk.tokenize import word_tokenize\n",
    "from nltk.corpus import stopwords\n",
    "nltk.download('stopwords')\n",
    "nltk.download('punkt')\n",
    "from string import punctuation\n",
    "\n",
    "import matplotlib\n",
    "import matplotlib.pyplot as plt\n",
    "\n",
    "import re\n",
    "\n",
    "import json"
   ]
  },
  {
   "cell_type": "code",
   "execution_count": 2,
   "metadata": {},
   "outputs": [],
   "source": [
    "# Criar função para requisitar a etiquetagem do PortService-Br\n",
    "    # Importante observar que, quando a palavra é desconhecida, o PortService-Br não etiqueta adequadamente a palavra\n",
    "    # Palavras desconhecidas incluem nomes próprios, abreviações, palavras com erros de ortografia, e caracteres especiais e sinais de pontuação que não são conhecidos pelo etiquetador Freeling\n",
    "# Criar função para somar as etiquetas por tipo\n",
    "\n",
    "# Incluir dados das etiquetas no DataFrame\n",
    "# Criar função para plotar os valores num gráfico usando Matplotlib\n",
    "\n",
    "# Aplicar os procedimentos em strings com stopwords\n",
    "# Remover as stopwords\n",
    "# Aplicar os procedimentos em strings sem stopwords\n",
    "\n",
    "# O problema que surgiu no gráfico tem relação com a etiquetagem repetida das palavras. Existe uma diferença entre\n",
    "# etiquetar as palavras antes ou depois da remoção das stopwords. Para resultados mais confiáveis, é melhor\n",
    "# que a etiquetagem seja feita antes de tal remoção."
   ]
  },
  {
   "cell_type": "code",
   "execution_count": 3,
   "metadata": {},
   "outputs": [],
   "source": [
    "def sumDifferentTags(jsonObject):    \n",
    "    tagsDictionary = {\n",
    "        'A': 0,\n",
    "        'C': 0,\n",
    "        'D': 0,\n",
    "        'N': 0,\n",
    "        'P': 0,\n",
    "        'R': 0,\n",
    "        'S': 0,\n",
    "        'V': 0,\n",
    "        'Z': 0,\n",
    "        'W': 0,\n",
    "        'I': 0,\n",
    "        'F': 0,\n",
    "        'UNKNOWN': 0,\n",
    "        'TOTAL': 0\n",
    "    }\n",
    "    \n",
    "    tagsDictionary['TOTAL'] = len(jsonObject)\n",
    "    \n",
    "    for word in jsonObject:\n",
    "        if word['lemma'] != '<unknown>':\n",
    "            if word['poss'][0] in tagsDictionary:\n",
    "                tagsDictionary[word['poss'][0]] += 1\n",
    "            else:\n",
    "                tagsDictionary['UNKNOWN'] += 1\n",
    "        else:\n",
    "            tagsDictionary['UNKNOWN'] += 1\n",
    "\n",
    "    return tagsDictionary"
   ]
  },
  {
   "cell_type": "code",
   "execution_count": 4,
   "metadata": {},
   "outputs": [],
   "source": [
    "def cleanDataframeColumns(dataframe):\n",
    "    numberList = []\n",
    "    textList = []\n",
    "    percentageList = []\n",
    "    i = 0\n",
    "    while i < dataframe.shape[0]:\n",
    "        numberList.append(0)\n",
    "        textList.append('')\n",
    "        percentageList.append(0.0)\n",
    "        i+=1\n",
    "    \n",
    "    textArrayBefore = ['extendedSynopsis']\n",
    "    for column in textArrayBefore:\n",
    "        dataframe[column] = textList\n",
    "    \n",
    "    numberArrayBefore = ['adjective_before','conjunction_before','determiner_before','noun_before','pronoun_before','adverb_before','adposition_before','verb_before','number_before','date_before','interjection_before','punctuation_before','unknown_before','total_before']\n",
    "    for column in numberArrayBefore:\n",
    "        dataframe[column] = numberList\n",
    "        \n",
    "    textArrayAfter = ['synopsisWithoutStopwords']\n",
    "    for column in textArrayAfter:\n",
    "        dataframe[column] = textList\n",
    "    \n",
    "    numberArrayAfter = ['adjective_after','conjunction_after','determiner_after','noun_after','pronoun_after','adverb_after','adposition_after','verb_after','number_after','date_after','interjection_after','punctuation_after','unknown_after','total_after']\n",
    "    for column in numberArrayAfter:\n",
    "        dataframe[column] = numberList\n",
    "    \n",
    "    dataframe['percentageOfUnknownWords'] = percentageList"
   ]
  },
  {
   "cell_type": "code",
   "execution_count": 5,
   "metadata": {},
   "outputs": [],
   "source": [
    "def executePosTagging(dataframe):\n",
    "    i = 0\n",
    "    while i < dataframe.shape[0]:\n",
    "        text = dataframe.sinopse.iloc[i]\n",
    "        \n",
    "        try:\n",
    "            result = json.loads(text.replace('\\'','\\\"'))\n",
    "            dictionary = sumDifferentTags(result)\n",
    "\n",
    "            dataframe.extendedSynopsis.iloc[i] = recreateSynopsis(result)\n",
    "\n",
    "            dataframe.adjective_before.iloc[i] = dictionary.get('A')\n",
    "            dataframe.conjunction_before.iloc[i] = dictionary.get('C')\n",
    "            dataframe.determiner_before.iloc[i] = dictionary.get('D')\n",
    "            dataframe.noun_before.iloc[i] = dictionary.get('N')\n",
    "            dataframe.pronoun_before.iloc[i] = dictionary.get('P')\n",
    "            dataframe.adverb_before.iloc[i] = dictionary.get('R')\n",
    "            dataframe.adposition_before.iloc[i] = dictionary.get('S')\n",
    "            dataframe.verb_before.iloc[i] = dictionary.get('V')\n",
    "            dataframe.number_before.iloc[i] = dictionary.get('Z')\n",
    "            dataframe.date_before.iloc[i] = dictionary.get('W')\n",
    "            dataframe.interjection_before.iloc[i] = dictionary.get('I')\n",
    "            dataframe.punctuation_before.iloc[i] = dictionary.get('F')\n",
    "            dataframe.unknown_before.iloc[i] = dictionary.get('UNKNOWN')\n",
    "            dataframe.total_before.iloc[i] = dictionary.get('TOTAL')\n",
    "\n",
    "            resultWithoutStopwords = removeStopwordsFromSynopsis(result)\n",
    "            dictionaryWithoutStopwords = sumDifferentTags(resultWithoutStopwords)\n",
    "\n",
    "            dataframe.synopsisWithoutStopwords.iloc[i] = recreateSynopsis(resultWithoutStopwords)\n",
    "\n",
    "            dataframe.adjective_after.iloc[i] = dictionaryWithoutStopwords.get('A')\n",
    "            dataframe.conjunction_after.iloc[i] = dictionaryWithoutStopwords.get('C')\n",
    "            dataframe.determiner_after.iloc[i] = dictionaryWithoutStopwords.get('D')\n",
    "            dataframe.noun_after.iloc[i] = dictionaryWithoutStopwords.get('N')\n",
    "            dataframe.pronoun_after.iloc[i] = dictionaryWithoutStopwords.get('P')\n",
    "            dataframe.adverb_after.iloc[i] = dictionaryWithoutStopwords.get('R')\n",
    "            dataframe.adposition_after.iloc[i] = dictionaryWithoutStopwords.get('S')\n",
    "            dataframe.verb_after.iloc[i] = dictionaryWithoutStopwords.get('V')\n",
    "            dataframe.number_after.iloc[i] = dictionaryWithoutStopwords.get('Z')\n",
    "            dataframe.date_after.iloc[i] = dictionaryWithoutStopwords.get('W')\n",
    "            dataframe.interjection_after.iloc[i] = dictionaryWithoutStopwords.get('I')\n",
    "            dataframe.punctuation_after.iloc[i] = dictionaryWithoutStopwords.get('F')\n",
    "            dataframe.unknown_after.iloc[i] = dictionaryWithoutStopwords.get('UNKNOWN')\n",
    "            dataframe.total_after.iloc[i] = dictionaryWithoutStopwords.get('TOTAL')\n",
    "\n",
    "            dataframe.percentageOfUnknownWords.iloc[i] = (dictionary.get('UNKNOWN')/dictionary.get('TOTAL'))*100\n",
    "        except:\n",
    "            pass\n",
    "        \n",
    "        i += 1"
   ]
  },
  {
   "cell_type": "code",
   "execution_count": 6,
   "metadata": {},
   "outputs": [],
   "source": [
    "stopwordsList = stopwords.words('portuguese')\n",
    "\n",
    "def removeStopwordsFromSynopsis(jsonObject):\n",
    "    synopsisWithoutStopwords = [word for word in jsonObject if word['token'] not in stopwordsList and word['lemma'] != '<unknown>' and word['poss'][0] in ['A', 'N']]\n",
    "    return synopsisWithoutStopwords"
   ]
  },
  {
   "cell_type": "code",
   "execution_count": 7,
   "metadata": {},
   "outputs": [],
   "source": [
    "def recreateSynopsis(response):\n",
    "    allWords = []\n",
    "    for item in response:\n",
    "        allWords.append(item['token'])\n",
    "    return \" \".join(allWords)"
   ]
  },
  {
   "cell_type": "code",
   "execution_count": 2,
   "metadata": {},
   "outputs": [],
   "source": [
    "#Count number of characters in each string\n",
    "def countCharactersInEachString(df, column):\n",
    "    charactersCount = []\n",
    "    for synopsis in df[column]:\n",
    "        charactersCount.append(len(str(synopsis)))\n",
    "    return charactersCount\n",
    "\n",
    "#Count number of words in each string\n",
    "def countWordsInEachString(df, column):\n",
    "    wordsCount = []\n",
    "    for synopsis in df[column]:\n",
    "        words = word_tokenize(str(synopsis))\n",
    "        wordsCount.append(len(words))\n",
    "    return wordsCount\n",
    "\n",
    "#Extract some basic statistics about synopsis\n",
    "def extractBasicStatisticsAboutSynopsis(arrayOfSizes):\n",
    "    synopsisLength = np.array(arrayOfSizes)\n",
    "    basicStatistics = \"\\t\"   \n",
    "    basicStatistics += \"Arithmetic Mean: \" + str(np.mean(synopsisLength)) + \"\\n\\t\"\n",
    "    basicStatistics += \"Median: \" + str(np.median(synopsisLength)) + \"\\n\\t\"\n",
    "    basicStatistics += \"Highest Value: \" + str(np.max(synopsisLength)) + \"\\n\\t\"\n",
    "    basicStatistics += \"Lowest Value: \" + str(np.min(synopsisLength)) + \"\\n\\t\"\n",
    "    basicStatistics += \"Mid-range: \" + str((np.max(synopsisLength)-np.min(synopsisLength))/2) + \"\\n\\t\"\n",
    "    basicStatistics += \"Variance: \" + str(np.var(synopsisLength,ddof=1)) + \"\\n\\t\"\n",
    "    basicStatistics += \"Standard Deviation: \" + str(np.std(synopsisLength,ddof=1)) + \"\\n\\t\"\n",
    "    return basicStatistics\n",
    "\n",
    "def extractPercentilesAboutSynopsis(arrayOfSizes):\n",
    "    synopsisLength = np.array(arrayOfSizes)\n",
    "    percentiles = \"Percentiles: \" + \"\\n\\t\"\n",
    "    count = 0.5\n",
    "    while count <= 100:\n",
    "        percentiles += \"Percentile \" + str(count) + \": \" + str(np.percentile(arrayOfSizes,count)) + \"\\n\\t\"\n",
    "        count += 0.5\n",
    "    return percentiles\n",
    "\n",
    "#Extract some statistics about this Dataset\n",
    "def extractStatisticsFromSynopsis(dataframe, title, column):\n",
    "    log = title + \"\\n\\n\"\n",
    "    log += \"Shape of Dataset: \" + str(dataframe.shape[0]) + \" rows and \" + str(dataframe.shape[1]) + \" columns\" + \"\\n\\n\"\n",
    "    log += \"Statistics of Synopsis Length (Characters):\" + \"\\n\"\n",
    "    charactersCount = countCharactersInEachString(dataframe, column)\n",
    "    log += extractBasicStatisticsAboutSynopsis(charactersCount) + \"\\n\"\n",
    "    log += extractPercentilesAboutSynopsis(charactersCount) + \"\\n\"\n",
    "    log += \"Statistics of Synopsis Length (Words):\" + \"\\n\"\n",
    "    wordsCount = countWordsInEachString(dataframe, column)\n",
    "    log += extractBasicStatisticsAboutSynopsis(wordsCount) + \"\\n\"\n",
    "    log += extractPercentilesAboutSynopsis(wordsCount) + \"\\n\"\n",
    "    return log"
   ]
  },
  {
   "cell_type": "code",
   "execution_count": 3,
   "metadata": {},
   "outputs": [],
   "source": [
    "filePath = '/Users/luisricardoferraz/book-similarity/test/tutorial/tutorial/spiders/synopsis-preprocessing/'"
   ]
  },
  {
   "cell_type": "code",
   "execution_count": 4,
   "metadata": {},
   "outputs": [],
   "source": [
    "#Import CSV file to a DataFrame\n",
    "df = pd.read_csv(filePath+'sinopsesProcessadas.csv')\n",
    "df = df.drop(['Unnamed: 0'],1)"
   ]
  },
  {
   "cell_type": "code",
   "execution_count": 8,
   "metadata": {},
   "outputs": [
    {
     "data": {
      "text/plain": [
       "\"[{'token': 'em', 'poss': 'SPS', 'lemma': 'em'}, {'token': 'uma', 'poss': 'DI0', 'lemma': 'um'}, {'token': 'terra', 'poss': 'NCFS', 'lemma': 'terra'}, {'token': 'onde', 'poss': 'RG', 'lemma': 'onde'}, {'token': 'o', 'poss': 'DA0', 'lemma': 'o'}, {'token': 'verão', 'poss': 'NCMS', 'lemma': 'verão'}, {'token': 'pode', 'poss': 'VMI', 'lemma': 'poder'}, {'token': 'durar', 'poss': 'VMN', 'lemma': 'durar'}, {'token': 'décadas', 'poss': 'NCFP', 'lemma': 'década'}, {'token': 'e', 'poss': 'CC', 'lemma': 'e'}, {'token': 'o', 'poss': 'DA0', 'lemma': 'o'}, {'token': 'inverno', 'poss': 'NCMS', 'lemma': 'inverno'}, {'token': 'toda', 'poss': 'DI0', 'lemma': 'todo'}, {'token': 'uma', 'poss': 'DI0', 'lemma': 'um'}, {'token': 'vida', 'poss': 'NCFS', 'lemma': 'vida'}, {'token': 'os', 'poss': 'DA0', 'lemma': 'o'}, {'token': 'problemas', 'poss': 'NCMP', 'lemma': 'problema'}, {'token': 'estão', 'poss': 'VMI', 'lemma': 'estar'}, {'token': 'apenas', 'poss': 'RG', 'lemma': 'apenas'}, {'token': 'começando', 'poss': 'VMG', 'lemma': 'começar'}, {'token': 'o', 'poss': 'DA0', 'lemma': 'o'}, {'token': 'frio', 'poss': 'NCMS', 'lemma': 'frio'}, {'token': 'está', 'poss': 'VMI', 'lemma': 'estar'}, {'token': 'de', 'poss': 'SPS', 'lemma': 'de'}, {'token': 'volta', 'poss': 'NCFS', 'lemma': 'volta'}, {'token': 'e', 'poss': 'CC', 'lemma': 'e'}, {'token': 'em', 'poss': 'SPS', 'lemma': 'em'}, {'token': 'as', 'poss': 'DA0', 'lemma': 'o'}, {'token': 'florestas', 'poss': 'NCFP', 'lemma': 'floresta'}, {'token': 'a', 'poss': 'SPS', 'lemma': 'a'}, {'token': 'o', 'poss': 'DA0', 'lemma': 'o'}, {'token': 'norte', 'poss': 'NCMS', 'lemma': 'norte'}, {'token': 'de', 'poss': 'SPS', 'lemma': 'de'}, {'token': 'winterfell', 'poss': 'AQ0', 'lemma': '<unknown>'}, {'token': 'forças', 'poss': 'NCFP', 'lemma': 'força'}, {'token': 'sobrenaturais', 'poss': 'AQ0', 'lemma': 'sobrenatural'}, {'token': 'se', 'poss': 'PP3', 'lemma': 'se'}, {'token': 'espalham', 'poss': 'VMI', 'lemma': 'espalhar'}, {'token': 'por', 'poss': 'SPS', 'lemma': 'por'}, {'token': 'trás', 'poss': 'I', 'lemma': 'trás'}, {'token': 'de', 'poss': 'SPS', 'lemma': 'de'}, {'token': 'a', 'poss': 'DA0', 'lemma': 'o'}, {'token': 'muralha', 'poss': 'NCFS', 'lemma': 'muralha'}, {'token': 'que', 'poss': 'PR0', 'lemma': 'que'}, {'token': 'protege', 'poss': 'VMI', 'lemma': 'proteger'}, {'token': 'a', 'poss': 'DA0', 'lemma': 'o'}, {'token': 'região', 'poss': 'NCFS', 'lemma': 'região'}, {'token': 'em', 'poss': 'SPS', 'lemma': 'em'}, {'token': 'o', 'poss': 'DA0', 'lemma': 'o'}, {'token': 'centro', 'poss': 'NCMS', 'lemma': 'centro'}, {'token': 'de', 'poss': 'SPS', 'lemma': 'de'}, {'token': 'o', 'poss': 'DA0', 'lemma': 'o'}, {'token': 'conflito', 'poss': 'NCMS', 'lemma': 'conflito'}, {'token': 'estão', 'poss': 'VMI', 'lemma': 'estar'}, {'token': 'os', 'poss': 'DA0', 'lemma': 'o'}, {'token': 'stark', 'poss': 'NCMS', 'lemma': '<unknown>'}, {'token': 'de', 'poss': 'SPS', 'lemma': 'de'}, {'token': 'o', 'poss': 'DA0', 'lemma': 'o'}, {'token': 'reino', 'poss': 'NCMS', 'lemma': 'reino'}, {'token': 'de', 'poss': 'SPS', 'lemma': 'de'}, {'token': 'winterfell', 'poss': 'NCMS', 'lemma': '<unknown>'}, {'token': 'uma', 'poss': 'DI0', 'lemma': 'um'}, {'token': 'família', 'poss': 'NCFS', 'lemma': 'família'}, {'token': 'tão', 'poss': 'RG', 'lemma': 'tão'}, {'token': 'áspera', 'poss': 'AQ0', 'lemma': 'áspero'}, {'token': 'quanto', 'poss': 'PR0', 'lemma': 'quanto'}, {'token': 'as', 'poss': 'DA0', 'lemma': 'o'}, {'token': 'terras', 'poss': 'NCFP', 'lemma': 'terra'}, {'token': 'que', 'poss': 'PR0', 'lemma': 'que'}, {'token': 'lhe', 'poss': 'PP3', 'lemma': 'lhe'}, {'token': 'pertencem', 'poss': 'VMI', 'lemma': 'pertencer'}, {'token': 'de', 'poss': 'SPS', 'lemma': 'de'}, {'token': 'os', 'poss': 'DA0', 'lemma': 'o'}, {'token': 'lugares', 'poss': 'NCMP', 'lemma': 'lugar'}, {'token': 'onde', 'poss': 'RG', 'lemma': 'onde'}, {'token': 'o', 'poss': 'DA0', 'lemma': 'o'}, {'token': 'frio', 'poss': 'NCMS', 'lemma': 'frio'}, {'token': 'é', 'poss': 'VMI', 'lemma': 'ser'}, {'token': 'brutal', 'poss': 'AQ0', 'lemma': 'brutal'}, {'token': 'até', 'poss': 'SPS', 'lemma': 'até'}, {'token': 'os', 'poss': 'DA0', 'lemma': 'o'}, {'token': 'distantes', 'poss': 'AQ0', 'lemma': 'distante'}, {'token': 'reinos', 'poss': 'NCMP', 'lemma': 'reino'}, {'token': 'de', 'poss': 'SPS', 'lemma': 'de'}, {'token': 'plenitude', 'poss': 'NCFS', 'lemma': 'plenitude'}, {'token': 'e', 'poss': 'CC', 'lemma': 'e'}, {'token': 'sol', 'poss': 'NCMS', 'lemma': 'sol'}, {'token': 'george', 'poss': 'VMI', 'lemma': '<unknown>'}, {'token': 'r', 'poss': 'NCMS', 'lemma': 'r'}, {'token': 'r', 'poss': 'NCMS', 'lemma': 'r'}, {'token': 'martin', 'poss': 'NCMS', 'lemma': '<unknown>'}, {'token': 'narra', 'poss': 'VMI', 'lemma': 'narrar'}, {'token': 'uma', 'poss': 'DI0', 'lemma': 'um'}, {'token': 'história', 'poss': 'NCFS', 'lemma': 'história'}, {'token': 'de', 'poss': 'SPS', 'lemma': 'de'}, {'token': 'lordes', 'poss': 'NCMP', 'lemma': 'lorde'}, {'token': 'e', 'poss': 'CC', 'lemma': 'e'}, {'token': 'damas', 'poss': 'NCFP', 'lemma': 'dama'}, {'token': 'soldados', 'poss': 'NCMP', 'lemma': 'soldado'}, {'token': 'e', 'poss': 'CC', 'lemma': 'e'}, {'token': 'mercenários', 'poss': 'NCMP', 'lemma': 'mercenário'}, {'token': 'assassinos', 'poss': 'AQ0', 'lemma': 'assassino'}, {'token': 'e', 'poss': 'CC', 'lemma': 'e'}, {'token': 'bastardos', 'poss': 'NCMP', 'lemma': 'bastardo'}, {'token': 'que', 'poss': 'PR0', 'lemma': 'que'}, {'token': 'se', 'poss': 'PP3', 'lemma': 'se'}, {'token': 'juntam', 'poss': 'VMI', 'lemma': 'juntar'}, {'token': 'em', 'poss': 'SPS', 'lemma': 'em'}, {'token': 'um', 'poss': 'DI0', 'lemma': 'um'}, {'token': 'tempo', 'poss': 'NCMS', 'lemma': 'tempo'}, {'token': 'de', 'poss': 'SPS', 'lemma': 'de'}, {'token': 'presságios', 'poss': 'NCMP', 'lemma': 'presságio'}, {'token': 'malignos', 'poss': 'AQ0', 'lemma': 'maligno'}, {'token': 'entre', 'poss': 'SPS', 'lemma': 'entre'}, {'token': 'disputas', 'poss': 'NCFP', 'lemma': 'disputa'}, {'token': 'por', 'poss': 'SPS', 'lemma': 'por'}, {'token': 'reinos', 'poss': 'NCMP', 'lemma': 'reino'}, {'token': 'tragédias', 'poss': 'NCFP', 'lemma': 'tragédia'}, {'token': 'e', 'poss': 'CC', 'lemma': 'e'}, {'token': 'traições', 'poss': 'NCFP', 'lemma': 'traição'}, {'token': 'vitória', 'poss': 'NCFS', 'lemma': 'vitória'}, {'token': 'e', 'poss': 'CC', 'lemma': 'e'}, {'token': 'terror', 'poss': 'NCMS', 'lemma': 'terror'}, {'token': 'o', 'poss': 'DA0', 'lemma': 'o'}, {'token': 'destino', 'poss': 'NCMS', 'lemma': 'destino'}, {'token': 'de', 'poss': 'SPS', 'lemma': 'de'}, {'token': 'os', 'poss': 'DA0', 'lemma': 'o'}, {'token': 'stark', 'poss': 'NCMS', 'lemma': '<unknown>'}, {'token': 'seus', 'poss': 'PX3', 'lemma': 'seu'}, {'token': 'aliados', 'poss': 'NCMP', 'lemma': 'aliado'}, {'token': 'e', 'poss': 'CC', 'lemma': 'e'}, {'token': 'seus', 'poss': 'DP3', 'lemma': 'seu'}, {'token': 'inimigos', 'poss': 'NCMP', 'lemma': 'inimigo'}, {'token': 'é', 'poss': 'VMI', 'lemma': 'ser'}, {'token': 'incerto', 'poss': 'AQ0', 'lemma': 'incerto'}, {'token': 'mas', 'poss': 'CC', 'lemma': 'mas'}, {'token': 'cada', 'poss': 'DI0', 'lemma': 'cada'}, {'token': 'um', 'poss': 'DI0', 'lemma': 'um'}, {'token': 'está', 'poss': 'VMI', 'lemma': 'estar'}, {'token': 'se', 'poss': 'PP3', 'lemma': 'se'}, {'token': 'esforçando', 'poss': 'VMG', 'lemma': 'esforçar'}, {'token': 'para', 'poss': 'SPS', 'lemma': 'para'}, {'token': 'ganhar', 'poss': 'VMN', 'lemma': 'ganhar'}, {'token': 'este', 'poss': 'DD0', 'lemma': 'este'}, {'token': 'conflito', 'poss': 'NCMS', 'lemma': 'conflito'}, {'token': 'mortal', 'poss': 'AQ0', 'lemma': 'mortal'}, {'token': 'a', 'poss': 'DA0', 'lemma': 'o'}, {'token': 'guerra', 'poss': 'NCFS', 'lemma': 'guerra'}, {'token': 'de', 'poss': 'SPS', 'lemma': 'de'}, {'token': 'os', 'poss': 'DA0', 'lemma': 'o'}, {'token': 'tronos', 'poss': 'NCMP', 'lemma': 'trono'}]\""
      ]
     },
     "execution_count": 8,
     "metadata": {},
     "output_type": "execute_result"
    }
   ],
   "source": [
    "df['sinopse'][1755]"
   ]
  },
  {
   "cell_type": "code",
   "execution_count": 11,
   "metadata": {},
   "outputs": [
    {
     "name": "stderr",
     "output_type": "stream",
     "text": [
      "/anaconda3/lib/python3.7/site-packages/pandas/core/indexing.py:190: SettingWithCopyWarning: \n",
      "A value is trying to be set on a copy of a slice from a DataFrame\n",
      "\n",
      "See the caveats in the documentation: http://pandas.pydata.org/pandas-docs/stable/indexing.html#indexing-view-versus-copy\n",
      "  self._setitem_with_indexer(indexer, value)\n"
     ]
    },
    {
     "name": "stdout",
     "output_type": "stream",
     "text": [
      "deu erro!\n",
      "deu erro!\n",
      "deu erro!\n",
      "deu erro!\n",
      "deu erro!\n",
      "deu erro!\n",
      "deu erro!\n",
      "deu erro!\n",
      "deu erro!\n",
      "deu erro!\n",
      "deu erro!\n",
      "deu erro!\n",
      "deu erro!\n",
      "deu erro!\n",
      "deu erro!\n",
      "deu erro!\n",
      "deu erro!\n",
      "deu erro!\n",
      "deu erro!\n",
      "deu erro!\n",
      "deu erro!\n",
      "deu erro!\n",
      "deu erro!\n",
      "deu erro!\n",
      "deu erro!\n",
      "deu erro!\n",
      "deu erro!\n",
      "deu erro!\n",
      "deu erro!\n",
      "deu erro!\n",
      "deu erro!\n",
      "deu erro!\n",
      "deu erro!\n",
      "deu erro!\n",
      "deu erro!\n",
      "deu erro!\n",
      "deu erro!\n",
      "deu erro!\n",
      "deu erro!\n",
      "deu erro!\n",
      "deu erro!\n",
      "deu erro!\n",
      "deu erro!\n",
      "deu erro!\n",
      "deu erro!\n",
      "deu erro!\n",
      "deu erro!\n",
      "deu erro!\n",
      "deu erro!\n",
      "deu erro!\n",
      "deu erro!\n",
      "deu erro!\n",
      "deu erro!\n",
      "deu erro!\n",
      "deu erro!\n",
      "deu erro!\n",
      "deu erro!\n",
      "deu erro!\n",
      "deu erro!\n",
      "deu erro!\n",
      "deu erro!\n",
      "deu erro!\n",
      "deu erro!\n",
      "deu erro!\n",
      "deu erro!\n",
      "deu erro!\n",
      "deu erro!\n",
      "deu erro!\n",
      "deu erro!\n",
      "deu erro!\n",
      "deu erro!\n",
      "deu erro!\n",
      "deu erro!\n",
      "deu erro!\n",
      "deu erro!\n",
      "deu erro!\n",
      "deu erro!\n",
      "deu erro!\n",
      "deu erro!\n",
      "deu erro!\n",
      "deu erro!\n",
      "deu erro!\n",
      "deu erro!\n",
      "deu erro!\n",
      "deu erro!\n",
      "deu erro!\n",
      "deu erro!\n",
      "deu erro!\n",
      "deu erro!\n",
      "deu erro!\n",
      "deu erro!\n",
      "deu erro!\n",
      "deu erro!\n",
      "deu erro!\n",
      "deu erro!\n"
     ]
    }
   ],
   "source": [
    "cleanDataframeColumns(df)\n",
    "executePosTagging(df)"
   ]
  },
  {
   "cell_type": "code",
   "execution_count": 12,
   "metadata": {},
   "outputs": [
    {
     "data": {
      "text/plain": [
       "0        jovem garota brasileira curso inglês exterior ...\n",
       "1        resgate primeira palavra tiros cima última coi...\n",
       "2        substantivo cela prisão verbo mentiras fáceis ...\n",
       "3                court s king play lords book times j over\n",
       "4        dias monstro cenas noite ano novo noite noite ...\n",
       "5        atual próxima dias luta feminina silêncio ensu...\n",
       "6        histórias contos fadas crianças sentido forma ...\n",
       "7        passos garota linda dezessete anos quilos infâ...\n",
       "8        forma leveza graça simples fato ocupações sent...\n",
       "9        thriller luta secreta bem mal pessoas habilida...\n",
       "10       crônicas gelo fogo personagens presentes quint...\n",
       "11       homem simples vida modesta coração suficiente ...\n",
       "12       oitavo volume tensão fantasia universo deliran...\n",
       "13       diana mulher maravilha personagens história qu...\n",
       "14       início século xx jovem glória amor contrário a...\n",
       "15       mulher maravilha diana filha deusa diana irmãs...\n",
       "16       paraíso inferno brasil terra furacões terremot...\n",
       "17       henry duque vida previsível única ajuda mãe ar...\n",
       "18       pai mãe depressão controle casa irmão novo pai...\n",
       "19       primeiras horas dia dezembro última grande ofe...\n",
       "20       biógrafo oficial historiador gilbert livro bio...\n",
       "21       jovem estudante comunicação projeto faculdade ...\n",
       "22       recém conde esposa ducado bretanha anos última...\n",
       "23       autoras melodia coração sedução implacável jog...\n",
       "24       cidadezinha comum interior dia quietude abalad...\n",
       "25       passado envolto segredos morte trágica pais me...\n",
       "26       receita apaixonante dose d crítica culinária r...\n",
       "27       pequena ilha cavaleiros bravos suficiente corr...\n",
       "28       livro formato bolso ilustrações ruas compilaçã...\n",
       "29       união sentimentos conversa sigilosa poderoso t...\n",
       "                               ...                        \n",
       "10269    nova rumores vizinhança chegada mulher mística...\n",
       "10270    livro história inúmeros improváveis personagen...\n",
       "10271    relato milagroso longos percursos cachorrinho ...\n",
       "10272    pais acidente carro primeira coisa própria sur...\n",
       "10273    altares templos areias tempo religiões antigas...\n",
       "10274    unicórnio menino vento juntos velocidade anos ...\n",
       "10275    revoltas populares golpes militares guerras ci...\n",
       "10276    heróis animais fantásticos volta arquivos magi...\n",
       "10277    cora escrava plantação algodão década vida com...\n",
       "10278    popular canal culinária pessoas mundo volta co...\n",
       "10279    tempos difíceis urgência mundo questões consci...\n",
       "10280    livro autor série coisas pegajosas ilustrações...\n",
       "10281    conto elemento fundamental evolução mitos lend...\n",
       "10282    nova edição famoso livro recordes mundo record...\n",
       "10283    guerra amor vida drama sensível lembranças seg...\n",
       "10284    linda cadelinha lata lucas opção alegria cacho...\n",
       "10285    holocausto segunda guerra mundial momento deci...\n",
       "10286    girls chance trio banda histórias letras curio...\n",
       "10287    ano carnaval difícil mulher perfeita espaço re...\n",
       "10288    olhos doce maneira inexplicável bom tempo ques...\n",
       "10289    grande barulho redor mundo caos confusão ataqu...\n",
       "10290    amorim pequena cidade andorinha pequeno tipos ...\n",
       "10291    livro escritor série coisas assustadoras arrep...\n",
       "10292    dr especialista neozelandês saúde mulher traba...\n",
       "10293    vida torno hóquei sonho segunda opção jornalis...\n",
       "10294    grito vitória dor fim vazio olhos azuis imensi...\n",
       "10295    própria vida dia tragédia pântano sozinho chei...\n",
       "10296    amor tipo tipo coisa passado escolha passado c...\n",
       "10297    imprensa capaz vida intrigas boatos mentiras r...\n",
       "10298    livro temas emocionantes coração início antolo...\n",
       "Name: synopsisWithoutStopwords, Length: 10299, dtype: object"
      ]
     },
     "execution_count": 12,
     "metadata": {},
     "output_type": "execute_result"
    }
   ],
   "source": [
    "df['synopsisWithoutStopwords']"
   ]
  },
  {
   "cell_type": "code",
   "execution_count": 13,
   "metadata": {},
   "outputs": [],
   "source": [
    "df.to_csv(filePath+'dataSetComPosTaggingERemocaoDeStopWords.csv')"
   ]
  },
  {
   "cell_type": "code",
   "execution_count": 14,
   "metadata": {},
   "outputs": [],
   "source": [
    "with open(filePath+'logDataSetComPosTaggingERemocaoDeStopWords.txt','w') as log:\n",
    "    log.write(extractStatisticsFromSynopsis(df, \"Statistics of Dataset - PosTagging and StopWords Removal\", 'sinopse'))"
   ]
  },
  {
   "cell_type": "code",
   "execution_count": 15,
   "metadata": {},
   "outputs": [],
   "source": [
    "#Import CSV file to a DataFrame\n",
    "df = pd.read_csv(filePath+'dataSetComPosTaggingERemocaoDeStopWords.csv')\n",
    "df = df.drop(['Unnamed: 0'],1)"
   ]
  },
  {
   "cell_type": "code",
   "execution_count": 17,
   "metadata": {},
   "outputs": [],
   "source": [
    "df = df.dropna(axis=0,how='any',subset=['extendedSynopsis'],inplace=False)\n",
    "\n",
    "df.to_csv(filePath+'dataSetComPosTaggingBemSucedido.csv')\n",
    "with open(filePath+'logDataSetComPosTaggingBemSucedido.txt','w') as log:\n",
    "    log.write(extractStatisticsFromSynopsis(df, \"Statistics of Dataset - PosTagging Successful\", 'sinopse'))"
   ]
  },
  {
   "cell_type": "code",
   "execution_count": 18,
   "metadata": {},
   "outputs": [
    {
     "data": {
      "text/plain": [
       "(10204, 33)"
      ]
     },
     "execution_count": 18,
     "metadata": {},
     "output_type": "execute_result"
    }
   ],
   "source": [
    "df.shape"
   ]
  },
  {
   "cell_type": "code",
   "execution_count": 19,
   "metadata": {},
   "outputs": [],
   "source": [
    "df = df[df['percentageOfUnknownWords'] <= 29]\n",
    "\n",
    "df.to_csv(filePath+'dataSetComPalavrasEstrangeirasRemovidas.csv')\n",
    "with open(filePath+'logDataSetComPalavrasEstrangeirasRemovidas.txt','w') as log:\n",
    "    log.write(extractStatisticsFromSynopsis(df, \"Statistics of Dataset - Foreign Words Removed\", 'sinopse'))"
   ]
  },
  {
   "cell_type": "code",
   "execution_count": 21,
   "metadata": {},
   "outputs": [],
   "source": [
    "#Import CSV file to a DataFrame\n",
    "df = pd.read_csv(filePath+'dataSetComPalavrasEstrangeirasRemovidas.csv')\n",
    "df = df.drop(['Unnamed: 0'],1)"
   ]
  },
  {
   "cell_type": "code",
   "execution_count": 22,
   "metadata": {},
   "outputs": [],
   "source": [
    "dfBeforeStopWordsRemoval = df[['titulo', 'sinopse', 'extendedSynopsis', 'adjective_before', 'conjunction_before', 'determiner_before', 'noun_before', 'pronoun_before', 'adverb_before', 'adposition_before', 'verb_before', 'number_before', 'date_before', 'interjection_before', 'punctuation_before', 'unknown_before', 'total_before', 'percentageOfUnknownWords']]\n",
    "dfBeforeStopWordsRemoval.to_csv(filePath+'dataSetComPosTaggingAntesDaRemocaoDeStopwords.csv')\n",
    "with open(filePath+'logDataSetComPosTaggingAntesDaRemocaoDeStopwords.txt','w') as log:\n",
    "    log.write(extractStatisticsFromSynopsis(dfBeforeStopWordsRemoval, \"Statistics of Dataset - PosTagging before StopWords Removal\", 'extendedSynopsis'))\n",
    "\n",
    "dfAfterStopWordsRemoval = df[['titulo', 'sinopse', 'synopsisWithoutStopwords', 'adjective_after', 'conjunction_after', 'determiner_after', 'noun_after', 'pronoun_after', 'adverb_after', 'adposition_after', 'verb_after', 'number_after', 'date_after', 'interjection_after', 'punctuation_after', 'unknown_after', 'total_after']]\n",
    "dfAfterStopWordsRemoval.to_csv(filePath+'dataSetComPosTaggingDepoisDaRemocaoDeStopwords.csv')\n",
    "with open(filePath+'logDataSetComPosTaggingDepoisDaRemocaoDeStopwords.txt','w') as log:\n",
    "    log.write(extractStatisticsFromSynopsis(dfAfterStopWordsRemoval, \"Statistics of Dataset - PosTagging after StopWords Removal\", 'synopsisWithoutStopwords'))\n"
   ]
  },
  {
   "cell_type": "code",
   "execution_count": 7,
   "metadata": {},
   "outputs": [],
   "source": [
    "def generateTagsPlot(etiquetasAntes,etiquetasDepois,eixoHorizontal,tamanhoHorizontal,tamanhoVertical,larguraDaBarra,titulo,legendaHorizontal,legendaVertical):\n",
    "    totais_antes = []\n",
    "    totais_depois = []\n",
    "    for column in etiquetasAntes:\n",
    "        totais_antes.append(df[column].sum())\n",
    "    for column in etiquetasDepois:\n",
    "        totais_depois.append(df[column].sum())\n",
    "    plt.figure(figsize=(tamanhoHorizontal,tamanhoVertical))\n",
    "    registros = len(totais_antes)\n",
    "    intervalo = range(registros)\n",
    "    r1 = np.arange(len(etiquetasAntes))\n",
    "    r2 = [intervalo + larguraDaBarra for intervalo in r1]\n",
    "    opacity = 0.6\n",
    "    plt.bar(r1, totais_antes, larguraDaBarra, color=\"orange\", label='Antes', alpha=opacity)\n",
    "    plt.bar(r2, totais_depois, larguraDaBarra, color=\"green\", label='Depois', alpha=opacity)\n",
    "    plt.xlabel(legendaHorizontal)\n",
    "    plt.ylabel(legendaVertical)\n",
    "    plt.xticks([r + larguraDaBarra/2 for r in range(len(totais_antes))], eixoHorizontal)\n",
    "    plt.title(titulo)\n",
    "    plt.legend()\n",
    "    plt.show()\n",
    "    \n",
    "    i = 0\n",
    "    while i < len(eixoHorizontal):\n",
    "        print(str(eixoHorizontal[i])+'='+str(1 - (totais_depois[i]/totais_antes[i])))\n",
    "        i += 1"
   ]
  },
  {
   "cell_type": "code",
   "execution_count": 24,
   "metadata": {},
   "outputs": [
    {
     "data": {
      "image/png": "[encoded data removed]",
      "text/plain": [
       "<Figure size 1440x360 with 1 Axes>"
      ]
     },
     "metadata": {
      "needs_background": "light"
     },
     "output_type": "display_data"
    },
    {
     "name": "stdout",
     "output_type": "stream",
     "text": [
      "adjective=0.00039423907664171143\n",
      "conjunction=1.0\n",
      "determiner=1.0\n",
      "noun=0.0007095924989031221\n",
      "pronoun=1.0\n",
      "adverb=1.0\n",
      "adposition=1.0\n",
      "verb=1.0\n",
      "number=1.0\n",
      "date=nan\n",
      "interjection=1.0\n",
      "punctuation=nan\n",
      "unknown=1.0\n"
     ]
    },
    {
     "name": "stderr",
     "output_type": "stream",
     "text": [
      "/anaconda3/lib/python3.7/site-packages/ipykernel_launcher.py:25: RuntimeWarning: invalid value encountered in long_scalars\n"
     ]
    }
   ],
   "source": [
    "etiquetasAntes = ('adjective_before','conjunction_before','determiner_before','noun_before','pronoun_before','adverb_before','adposition_before','verb_before','number_before','date_before','interjection_before','punctuation_before','unknown_before')\n",
    "etiquetasDepois = ('adjective_after','conjunction_after','determiner_after','noun_after','pronoun_after','adverb_after','adposition_after','verb_after','number_after','date_after','interjection_after','punctuation_after','unknown_after')\n",
    "eixoHorizontal = ('adjective','conjunction','determiner','noun','pronoun','adverb','adposition','verb','number','date','interjection','punctuation','unknown')\n",
    "\n",
    "generateTagsPlot(etiquetasAntes,etiquetasDepois,eixoHorizontal,20,5,0.25,'Tipos de TAGs atribuídas às sinopses - Antes e Depois da remoção de Stopwords','Etiquetas','Total de ocorrências')"
   ]
  },
  {
   "cell_type": "code",
   "execution_count": 25,
   "metadata": {},
   "outputs": [
    {
     "data": {
      "image/png": "[encoded data removed]",
      "text/plain": [
       "<Figure size 432x360 with 1 Axes>"
      ]
     },
     "metadata": {
      "needs_background": "light"
     },
     "output_type": "display_data"
    },
    {
     "name": "stdout",
     "output_type": "stream",
     "text": [
      "=0.7023676616117611\n"
     ]
    }
   ],
   "source": [
    "etiquetasAntesNew = ['total_before']\n",
    "etiquetasDepoisNew = ['total_after']\n",
    "eixoHorizontalNew = ['']\n",
    "\n",
    "generateTagsPlot(etiquetasAntesNew,etiquetasDepoisNew,eixoHorizontalNew,6,5,0.25,'Contagem de palavras nas sinopses - Antes e Depois da remoção de Stopwords','Fase do pré-processamento','Total')"
   ]
  },
  {
   "cell_type": "code",
   "execution_count": 4,
   "metadata": {},
   "outputs": [],
   "source": [
    "#Import CSV file to a DataFrame\n",
    "df = pd.read_csv(filePath+'dataSetComPosTaggingDepoisDaRemocaoDeStopwords.csv')\n",
    "df = df.drop(['Unnamed: 0'],1)"
   ]
  },
  {
   "cell_type": "code",
   "execution_count": 5,
   "metadata": {},
   "outputs": [],
   "source": [
    "df['titulo'] = [titulo.lower() for titulo in df['titulo']]\n",
    "df = df.drop_duplicates(subset=['titulo'],keep='first',inplace=False)"
   ]
  },
  {
   "cell_type": "code",
   "execution_count": 6,
   "metadata": {},
   "outputs": [],
   "source": [
    "df.to_csv(filePath+'datasetSemTitulosDuplicados.csv')\n",
    "with open(filePath+'logDatasetSemTitulosDuplicados.txt','w') as log:\n",
    "    log.write(extractStatisticsFromSynopsis(df, \"Statistics of Dataset - Removing duplicated titles\", 'synopsisWithoutStopwords'))"
   ]
  },
  {
   "cell_type": "code",
   "execution_count": null,
   "metadata": {},
   "outputs": [],
   "source": []
  }
 ],
 "metadata": {
  "kernelspec": {
   "display_name": "Python 3",
   "language": "python",
   "name": "python3"
  },
  "language_info": {
   "codemirror_mode": {
    "name": "ipython",
    "version": 3
   },
   "file_extension": ".py",
   "mimetype": "text/x-python",
   "name": "python",
   "nbconvert_exporter": "python",
   "pygments_lexer": "ipython3",
   "version": "3.7.3"
  }
 },
 "nbformat": 4,
 "nbformat_minor": 2
}
