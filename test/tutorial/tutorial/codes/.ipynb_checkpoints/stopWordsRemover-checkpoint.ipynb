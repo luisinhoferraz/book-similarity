{
 "cells": [
  {
   "cell_type": "code",
   "execution_count": 1,
   "metadata": {},
   "outputs": [],
   "source": [
    "import nltk\n",
    "import requests\n",
    "\n",
    "import pandas as pd\n",
    "from pandas import DataFrame\n",
    "import numpy as np\n",
    "\n",
    "from nltk.tokenize import word_tokenize\n",
    "from nltk.corpus import stopwords\n",
    "from string import punctuation\n",
    "\n",
    "import matplotlib\n",
    "import matplotlib.pyplot as plt"
   ]
  },
  {
   "cell_type": "code",
   "execution_count": 22,
   "metadata": {},
   "outputs": [],
   "source": [
    "# Criar função para requisitar a etiquetagem do PortService-Br\n",
    "    # Importante observar que, quando a palavra é desconhecida, o PortService-Br não etiqueta adequadamente a palavra\n",
    "    # Palavras desconhecidas incluem nomes próprios, abreviações, palavras com erros de ortografia, e caracteres especiais e sinais de pontuação que não são conhecidos pelo etiquetador Freeling\n",
    "# Criar função para somar as etiquetas por tipo\n",
    "\n",
    "# Incluir dados das etiquetas no DataFrame\n",
    "# Criar função para plotar os valores num gráfico usando Matplotlib\n",
    "\n",
    "# Aplicar os procedimentos em strings com stopwords\n",
    "# Remover as stopwords\n",
    "# Aplicar os procedimentos em strings sem stopwords\n",
    "\n",
    "# O problema que surgiu no gráfico tem relação com a etiquetagem repetida das palavras. Existe uma diferença entre\n",
    "# etiquetar as palavras antes ou depois da remoção das stopwords. Para resultados mais confiáveis, é melhor\n",
    "# que a etiquetagem seja feita antes de tal remoção."
   ]
  },
  {
   "cell_type": "code",
   "execution_count": 2,
   "metadata": {},
   "outputs": [],
   "source": [
    "def requestPosTagging(text):\n",
    "    try:\n",
    "        payload = {'texto': str(text)}\n",
    "        response = requests.get('http://portservice.pythonanywhere.com/analise/morfossintatica/freeling', params=payload).json()\n",
    "    except:\n",
    "        print(\"Characters: \"+str(len(text))+\"; Words: \"+str(len(word_tokenize(text)))+\"; Text: \"+str(text)+\"\\n\")\n",
    "    return response\n",
    "\n",
    "def sumDifferentTags(jsonObject):    \n",
    "    tagsDictionary = {\n",
    "        'A': 0,\n",
    "        'C': 0,\n",
    "        'D': 0,\n",
    "        'N': 0,\n",
    "        'P': 0,\n",
    "        'R': 0,\n",
    "        'S': 0,\n",
    "        'V': 0,\n",
    "        'Z': 0,\n",
    "        'W': 0,\n",
    "        'I': 0,\n",
    "        'F': 0,\n",
    "        'UNKNOWN': 0,\n",
    "        'TOTAL': 0\n",
    "    }\n",
    "    \n",
    "    tagsDictionary['TOTAL'] = len(jsonObject)\n",
    "    \n",
    "    for word in jsonObject:\n",
    "        if word['lemma'] != '<unknown>':\n",
    "            if word['poss'][0] in tagsDictionary:\n",
    "                tagsDictionary[word['poss'][0]] += 1\n",
    "            else:\n",
    "                tagsDictionary['UNKNOWN'] += 1\n",
    "        else:\n",
    "            tagsDictionary['UNKNOWN'] += 1\n",
    "\n",
    "    return tagsDictionary"
   ]
  },
  {
   "cell_type": "code",
   "execution_count": 3,
   "metadata": {},
   "outputs": [],
   "source": [
    "def cleanDataframeColumns(dataframe):\n",
    "    numberList = []\n",
    "    textList = []\n",
    "    percentageList = []\n",
    "    i = 0\n",
    "    while i < dataframe.shape[0]:\n",
    "        numberList.append(0)\n",
    "        textList.append('')\n",
    "        percentageList.append(0.0)\n",
    "        i+=1\n",
    "    \n",
    "    textArrayBefore = ['extendedSynopsis']\n",
    "    for column in textArrayBefore:\n",
    "        dataframe[column] = textList\n",
    "    \n",
    "    numberArrayBefore = ['adjective_before','conjunction_before','determiner_before','noun_before','pronoun_before','adverb_before','adposition_before','verb_before','number_before','date_before','interjection_before','punctuation_before','unknown_before','total_before']\n",
    "    for column in numberArrayBefore:\n",
    "        dataframe[column] = numberList\n",
    "        \n",
    "    textArrayAfter = ['synopsisWithoutStopwords']\n",
    "    for column in textArrayAfter:\n",
    "        dataframe[column] = textList\n",
    "    \n",
    "    numberArrayAfter = ['adjective_after','conjunction_after','determiner_after','noun_after','pronoun_after','adverb_after','adposition_after','verb_after','number_after','date_after','interjection_after','punctuation_after','unknown_after','total_after']\n",
    "    for column in numberArrayAfter:\n",
    "        dataframe[column] = numberList\n",
    "    \n",
    "    dataframe['percentageOfUnknownWords'] = percentageList"
   ]
  },
  {
   "cell_type": "code",
   "execution_count": 4,
   "metadata": {},
   "outputs": [],
   "source": [
    "def executePosTagging(dataframe):\n",
    "    i = 0\n",
    "    while i < 5:\n",
    "        text = dataframe.sinopse.iloc[i]\n",
    "        \n",
    "        try:\n",
    "            result = requestPosTagging(text)\n",
    "            dictionary = sumDifferentTags(result)\n",
    "\n",
    "            dataframe.extendedSynopsis.iloc[i] = recreateSynopsis(result)\n",
    "\n",
    "            dataframe.adjective_before.iloc[i] = dictionary.get('A')\n",
    "            dataframe.conjunction_before.iloc[i] = dictionary.get('C')\n",
    "            dataframe.determiner_before.iloc[i] = dictionary.get('D')\n",
    "            dataframe.noun_before.iloc[i] = dictionary.get('N')\n",
    "            dataframe.pronoun_before.iloc[i] = dictionary.get('P')\n",
    "            dataframe.adverb_before.iloc[i] = dictionary.get('R')\n",
    "            dataframe.adposition_before.iloc[i] = dictionary.get('S')\n",
    "            dataframe.verb_before.iloc[i] = dictionary.get('V')\n",
    "            dataframe.number_before.iloc[i] = dictionary.get('Z')\n",
    "            dataframe.date_before.iloc[i] = dictionary.get('W')\n",
    "            dataframe.interjection_before.iloc[i] = dictionary.get('I')\n",
    "            dataframe.punctuation_before.iloc[i] = dictionary.get('F')\n",
    "            dataframe.unknown_before.iloc[i] = dictionary.get('UNKNOWN')\n",
    "            dataframe.total_before.iloc[i] = dictionary.get('TOTAL')\n",
    "\n",
    "            resultWithoutStopwords = removeStopwordsFromSynopsis(result)\n",
    "            dictionaryWithoutStopwords = sumDifferentTags(resultWithoutStopwords)\n",
    "\n",
    "            dataframe.synopsisWithoutStopwords.iloc[i] = recreateSynopsis(resultWithoutStopwords)\n",
    "\n",
    "            dataframe.adjective_after.iloc[i] = dictionaryWithoutStopwords.get('A')\n",
    "            dataframe.conjunction_after.iloc[i] = dictionaryWithoutStopwords.get('C')\n",
    "            dataframe.determiner_after.iloc[i] = dictionaryWithoutStopwords.get('D')\n",
    "            dataframe.noun_after.iloc[i] = dictionaryWithoutStopwords.get('N')\n",
    "            dataframe.pronoun_after.iloc[i] = dictionaryWithoutStopwords.get('P')\n",
    "            dataframe.adverb_after.iloc[i] = dictionaryWithoutStopwords.get('R')\n",
    "            dataframe.adposition_after.iloc[i] = dictionaryWithoutStopwords.get('S')\n",
    "            dataframe.verb_after.iloc[i] = dictionaryWithoutStopwords.get('V')\n",
    "            dataframe.number_after.iloc[i] = dictionaryWithoutStopwords.get('Z')\n",
    "            dataframe.date_after.iloc[i] = dictionaryWithoutStopwords.get('W')\n",
    "            dataframe.interjection_after.iloc[i] = dictionaryWithoutStopwords.get('I')\n",
    "            dataframe.punctuation_after.iloc[i] = dictionaryWithoutStopwords.get('F')\n",
    "            dataframe.unknown_after.iloc[i] = dictionaryWithoutStopwords.get('UNKNOWN')\n",
    "            dataframe.total_after.iloc[i] = dictionaryWithoutStopwords.get('TOTAL')\n",
    "\n",
    "            dataframe.percentageOfUnknownWords.iloc[i] = (dictionary.get('UNKNOWN')/dictionary.get('TOTAL'))*100\n",
    "        except:\n",
    "            pass\n",
    "        \n",
    "        i += 1"
   ]
  },
  {
   "cell_type": "code",
   "execution_count": 5,
   "metadata": {},
   "outputs": [],
   "source": [
    "stopwordsList = stopwords.words('portuguese')\n",
    "\n",
    "def removeStopwordsFromSynopsis(jsonObject):\n",
    "    synopsisWithoutStopwords = [word for word in jsonObject if word['token'] not in stopwordsList]\n",
    "    return synopsisWithoutStopwords"
   ]
  },
  {
   "cell_type": "code",
   "execution_count": 6,
   "metadata": {},
   "outputs": [],
   "source": [
    "def recreateSynopsis(response):\n",
    "    allWords = []\n",
    "    for item in response:\n",
    "        allWords.append(item['token'])\n",
    "    return \" \".join(allWords)"
   ]
  },
  {
   "cell_type": "code",
   "execution_count": 7,
   "metadata": {},
   "outputs": [],
   "source": [
    "#Count number of characters in each string\n",
    "def countCharactersInEachString(df, column):\n",
    "    charactersCount = []\n",
    "    for synopsis in df[column]:\n",
    "        charactersCount.append(len(str(synopsis)))\n",
    "    return charactersCount\n",
    "\n",
    "#Count number of words in each string\n",
    "def countWordsInEachString(df, column):\n",
    "    wordsCount = []\n",
    "    for synopsis in df[column]:\n",
    "        words = word_tokenize(str(synopsis))\n",
    "        wordsCount.append(len(words))\n",
    "    return wordsCount\n",
    "\n",
    "#Extract some basic statistics about synopsis\n",
    "def extractBasicStatisticsAboutSynopsis(arrayOfSizes):\n",
    "    synopsisLength = np.array(arrayOfSizes)\n",
    "    basicStatistics = \"\\t\"   \n",
    "    basicStatistics += \"Arithmetic Mean: \" + str(np.mean(synopsisLength)) + \"\\n\\t\"\n",
    "    basicStatistics += \"Median: \" + str(np.median(synopsisLength)) + \"\\n\\t\"\n",
    "    basicStatistics += \"Highest Value: \" + str(np.max(synopsisLength)) + \"\\n\\t\"\n",
    "    basicStatistics += \"Lowest Value: \" + str(np.min(synopsisLength)) + \"\\n\\t\"\n",
    "    basicStatistics += \"Mid-range: \" + str((np.max(synopsisLength)-np.min(synopsisLength))/2) + \"\\n\\t\"\n",
    "    basicStatistics += \"Variance: \" + str(np.var(synopsisLength,ddof=1)) + \"\\n\\t\"\n",
    "    basicStatistics += \"Standard Deviation: \" + str(np.std(synopsisLength,ddof=1)) + \"\\n\\t\"\n",
    "    return basicStatistics\n",
    "\n",
    "def extractPercentilesAboutSynopsis(arrayOfSizes):\n",
    "    synopsisLength = np.array(arrayOfSizes)\n",
    "    percentiles = \"Percentiles: \" + \"\\n\\t\"\n",
    "    count = 0.5\n",
    "    while count <= 100:\n",
    "        percentiles += \"Percentile \" + str(count) + \": \" + str(np.percentile(arrayOfSizes,count)) + \"\\n\\t\"\n",
    "        count += 0.5\n",
    "    return percentiles\n",
    "\n",
    "#Extract some statistics about this Dataset\n",
    "def extractStatisticsFromSynopsis(df, title, column):\n",
    "    log = title + \"\\n\\n\"\n",
    "    log += \"Shape of Dataset: \" + str(df.shape[0]) + \" rows and \" + str(df.shape[1]) + \" columns\" + \"\\n\\n\"\n",
    "    log += \"Statistics of Synopsis Length (Characters):\" + \"\\n\"\n",
    "    charactersCount = countCharactersInEachString(df, column)\n",
    "    log += extractBasicStatisticsAboutSynopsis(charactersCount) + \"\\n\"\n",
    "    log += extractPercentilesAboutSynopsis(charactersCount) + \"\\n\"\n",
    "    log += \"Statistics of Synopsis Length (Words):\" + \"\\n\"\n",
    "    wordsCount = countWordsInEachString(df, column)\n",
    "    log += extractBasicStatisticsAboutSynopsis(wordsCount) + \"\\n\"\n",
    "    log += extractPercentilesAboutSynopsis(wordsCount) + \"\\n\"\n",
    "    return log"
   ]
  },
  {
   "cell_type": "code",
   "execution_count": 8,
   "metadata": {},
   "outputs": [],
   "source": [
    "filePath = 'C:/Users/LuisRicardoFerraz/Documents/personal/projects/book-similarity/test/tutorial/tutorial/spiders/synopsis-preprocessing/'"
   ]
  },
  {
   "cell_type": "code",
   "execution_count": 9,
   "metadata": {},
   "outputs": [],
   "source": [
    "#Import CSV file to a DataFrame\n",
    "df = pd.read_csv(filePath+'dataSetComSinopsesLimpas.csv')\n",
    "df = df.drop(['Unnamed: 0'],1)"
   ]
  },
  {
   "cell_type": "code",
   "execution_count": 10,
   "metadata": {},
   "outputs": [
    {
     "name": "stderr",
     "output_type": "stream",
     "text": [
      "C:\\Users\\LuisRicardoFerraz\\Anaconda3\\lib\\site-packages\\pandas\\core\\indexing.py:189: SettingWithCopyWarning: \n",
      "A value is trying to be set on a copy of a slice from a DataFrame\n",
      "\n",
      "See the caveats in the documentation: http://pandas.pydata.org/pandas-docs/stable/indexing.html#indexing-view-versus-copy\n",
      "  self._setitem_with_indexer(indexer, value)\n"
     ]
    }
   ],
   "source": [
    "cleanDataframeColumns(df)\n",
    "executePosTagging(df)\n",
    "#df.to_csv(filePath+'testeDePosTagging.csv')"
   ]
  },
  {
   "cell_type": "code",
   "execution_count": 11,
   "metadata": {},
   "outputs": [],
   "source": [
    "df.to_csv(filePath+'dataSetComPosTaggingERemocaoDeStopWords.csv')\n",
    "with open(filePath+'logDataSetComPosTaggingERemocaoDeStopWords.txt','w') as log:\n",
    "    log.write(extractStatisticsFromSynopsis(df, \"Statistics of Dataset - PosTagging and StopWords Removal\", 'sinopse'))"
   ]
  },
  {
   "cell_type": "code",
   "execution_count": 15,
   "metadata": {},
   "outputs": [],
   "source": [
    "dfBeforeStopWordsRemoval = df[['isbn-10', 'isbn-13', 'titulo', 'autor', 'editora', 'ano', 'paginas', 'idioma', 'leram', 'lendo', 'queremLer', 'relendo', 'abandonos', 'resenhas', 'nota', 'favoritos', 'desejados', 'trocam', 'avaliaram', 'cincoEstrelas', 'quatroEstrelas', 'tresEstrelas', 'duasEstrelas', 'umaEstrela', 'avaliacoesHomens', 'avaliacoesMulheres', 'sinopse', 'extendedSynopsis', 'adjective_before', 'conjunction_before', 'determiner_before', 'noun_before', 'pronoun_before', 'adverb_before', 'adposition_before', 'verb_before', 'number_before', 'date_before', 'interjection_before', 'punctuation_before', 'unknown_before', 'total_before', 'percentageOfUnknownWords']]\n",
    "dfBeforeStopWordsRemoval.to_csv(filePath+'dataSetComPosTaggingAntesDaRemocaoDeStopwords.csv')\n",
    "with open(filePath+'logDataSetComPosTaggingAntesDaRemocaoDeStopwords.txt','w') as log:\n",
    "    log.write(extractStatisticsFromSynopsis(df, \"Statistics of Dataset - PosTagging before StopWords Removal\", 'extendedSynopsis'))\n",
    "\n",
    "dfAfterStopWordsRemoval = df[['isbn-10', 'isbn-13', 'titulo', 'autor', 'editora', 'ano', 'paginas', 'idioma', 'leram', 'lendo', 'queremLer', 'relendo', 'abandonos', 'resenhas', 'nota', 'favoritos', 'desejados', 'trocam', 'avaliaram', 'cincoEstrelas', 'quatroEstrelas', 'tresEstrelas', 'duasEstrelas', 'umaEstrela', 'avaliacoesHomens', 'avaliacoesMulheres', 'sinopse', 'synopsisWithoutStopwords', 'adjective_after', 'conjunction_after', 'determiner_after', 'noun_after', 'pronoun_after', 'adverb_after', 'adposition_after', 'verb_after', 'number_after', 'date_after', 'interjection_after', 'punctuation_after', 'unknown_after', 'total_after']]\n",
    "dfAfterStopWordsRemoval.to_csv(filePath+'dataSetComPosTaggingDepoisDaRemocaoDeStopwords.csv')\n",
    "with open(filePath+'logDataSetComPosTaggingDepoisDaRemocaoDeStopwords.txt','w') as log:\n",
    "    log.write(extractStatisticsFromSynopsis(df, \"Statistics of Dataset - PosTagging after StopWords Removal\", 'synopsisWithoutStopwords'))\n"
   ]
  },
  {
   "cell_type": "code",
   "execution_count": 12,
   "metadata": {},
   "outputs": [],
   "source": [
    "def generatePlot(etiquetasAntes,etiquetasDepois,eixoHorizontal):\n",
    "    totais_antes = []\n",
    "    totais_depois = []\n",
    "    for column in etiquetasAntes:\n",
    "        totais_antes.append(df[column][:5].sum())\n",
    "    for column in etiquetasDepois:\n",
    "        totais_depois.append(df[column][:5].sum())\n",
    "    plt.figure(figsize=(20,5))\n",
    "    registros = len(totais_antes)\n",
    "    intervalo = range(registros)\n",
    "    larguraDaBarra = 0.25\n",
    "    r1 = np.arange(len(etiquetasAntes))\n",
    "    r2 = [intervalo + larguraDaBarra for intervalo in r1]\n",
    "    opacity = 0.6\n",
    "    plt.bar(r1, totais_antes, larguraDaBarra, color=\"orange\", label='Antes', alpha=opacity)\n",
    "    plt.bar(r2,totais_depois, larguraDaBarra, color=\"green\", label='Depois', alpha=opacity)\n",
    "    plt.xlabel('Etiquetas')\n",
    "    plt.ylabel('Total de ocorrências')\n",
    "    plt.xticks([r + larguraDaBarra/2 for r in range(len(totais_antes))], eixoHorizontal)\n",
    "    plt.title('Tipos de TAGs atribuídas às sinopses - Antes e Depois da remoção de Stopwords')\n",
    "    plt.legend()\n",
    "    plt.show()"
   ]
  },
  {
   "cell_type": "code",
   "execution_count": 13,
   "metadata": {},
   "outputs": [
    {
     "data": {
      "image/png": "[encoded data removed]",
      "text/plain": [
       "<Figure size 1440x360 with 1 Axes>"
      ]
     },
     "metadata": {
      "needs_background": "light"
     },
     "output_type": "display_data"
    }
   ],
   "source": [
    "etiquetasAntes = ('adjective_before','conjunction_before','determiner_before','noun_before','pronoun_before','adverb_before','adposition_before','verb_before','number_before','date_before','interjection_before','punctuation_before','unknown_before')\n",
    "etiquetasDepois = ('adjective_after','conjunction_after','determiner_after','noun_after','pronoun_after','adverb_after','adposition_after','verb_after','number_after','date_after','interjection_after','punctuation_after','unknown_after')\n",
    "eixoHorizontal = ('adjective','conjunction','determiner','noun','pronoun','adverb','adposition','verb','number','date','interjection','punctuation','unknown')\n",
    "\n",
    "generatePlot(etiquetasAntes,etiquetasDepois,eixoHorizontal)"
   ]
  },
  {
   "cell_type": "code",
   "execution_count": 14,
   "metadata": {},
   "outputs": [
    {
     "data": {
      "image/png": "[encoded data removed]",
      "text/plain": [
       "<Figure size 1440x360 with 1 Axes>"
      ]
     },
     "metadata": {
      "needs_background": "light"
     },
     "output_type": "display_data"
    }
   ],
   "source": [
    "etiquetasAntesNew = ('total_before','unknown_before')\n",
    "etiquetasDepoisNew = ('total_after','unknown_after')\n",
    "eixoHorizontalNew = ('total','unknown')\n",
    "\n",
    "generatePlot(etiquetasAntesNew,etiquetasDepoisNew,eixoHorizontalNew)"
   ]
  },
  {
   "cell_type": "code",
   "execution_count": 4,
   "metadata": {},
   "outputs": [
    {
     "name": "stdout",
     "output_type": "stream",
     "text": [
      "uma jovem garota brasileira resolve se aventurar em um curso de inglês no exterior na poderosa la em meio ao itinerário de passeios mesclados com estudos ela se vê em um torvelinho de emoções ao conhecer subitamente um astro em ascensão do cinema seus passeios acabam sendo mais intensos do que poderia sequer sonhar ela se vê no poderoso mundo das celebridades onde o glamour pode deslumbrar ou ofuscar seus ideais o mais importante porém seria ela capaz de manter um romance onde os holofotes nunca se apagavam \n"
     ]
    }
   ],
   "source": [
    "print(df['sinopse'][0])"
   ]
  }
 ],
 "metadata": {
  "kernelspec": {
   "display_name": "Python 3",
   "language": "python",
   "name": "python3"
  },
  "language_info": {
   "codemirror_mode": {
    "name": "ipython",
    "version": 3
   },
   "file_extension": ".py",
   "mimetype": "text/x-python",
   "name": "python",
   "nbconvert_exporter": "python",
   "pygments_lexer": "ipython3",
   "version": "3.7.0"
  }
 },
 "nbformat": 4,
 "nbformat_minor": 2
}
