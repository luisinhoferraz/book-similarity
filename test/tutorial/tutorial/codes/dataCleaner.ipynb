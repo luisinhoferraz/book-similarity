{
 "cells": [
  {
   "cell_type": "code",
   "execution_count": 1,
   "metadata": {},
   "outputs": [],
   "source": [
    "#Import packages\n",
    "import pandas as pd\n",
    "from pandas import DataFrame\n",
    "import numpy as np\n",
    "import re\n",
    "import nltk\n",
    "from nltk.tokenize import word_tokenize"
   ]
  },
  {
   "cell_type": "code",
   "execution_count": 4,
   "metadata": {},
   "outputs": [],
   "source": [
    "#Define where's the CSV file\n",
    "filePath = '/Users/luisricardoferraz/book-similarity/test/tutorial/tutorial/spiders/dataset-clean/'"
   ]
  },
  {
   "cell_type": "code",
   "execution_count": 5,
   "metadata": {},
   "outputs": [],
   "source": [
    "#Import CSV file to a DataFrame\n",
    "df = pd.read_csv(filePath+'dataSetInicial.csv')"
   ]
  },
  {
   "cell_type": "code",
   "execution_count": 6,
   "metadata": {},
   "outputs": [
    {
     "data": {
      "text/html": [
       "<div>\n",
       "<style scoped>\n",
       "    .dataframe tbody tr th:only-of-type {\n",
       "        vertical-align: middle;\n",
       "    }\n",
       "\n",
       "    .dataframe tbody tr th {\n",
       "        vertical-align: top;\n",
       "    }\n",
       "\n",
       "    .dataframe thead th {\n",
       "        text-align: right;\n",
       "    }\n",
       "</style>\n",
       "<table border=\"1\" class=\"dataframe\">\n",
       "  <thead>\n",
       "    <tr style=\"text-align: right;\">\n",
       "      <th></th>\n",
       "      <th>isbn-10</th>\n",
       "      <th>isbn-13</th>\n",
       "      <th>titulo</th>\n",
       "      <th>subtitulo</th>\n",
       "      <th>autor</th>\n",
       "      <th>editora</th>\n",
       "      <th>ano</th>\n",
       "      <th>paginas</th>\n",
       "      <th>idioma</th>\n",
       "      <th>leram</th>\n",
       "      <th>...</th>\n",
       "      <th>cincoEstrelas</th>\n",
       "      <th>quatroEstrelas</th>\n",
       "      <th>tresEstrelas</th>\n",
       "      <th>duasEstrelas</th>\n",
       "      <th>umaEstrela</th>\n",
       "      <th>avaliacoesHomens</th>\n",
       "      <th>avaliacoesMulheres</th>\n",
       "      <th>generos</th>\n",
       "      <th>tags</th>\n",
       "      <th>sinopse</th>\n",
       "    </tr>\n",
       "  </thead>\n",
       "  <tbody>\n",
       "    <tr>\n",
       "      <th>0</th>\n",
       "      <td>8552923262</td>\n",
       "      <td>9788552923268</td>\n",
       "      <td>Tapete Vermelho</td>\n",
       "      <td>NaN</td>\n",
       "      <td>M.S. Fayes</td>\n",
       "      <td>The Gift Box</td>\n",
       "      <td>\\r\\n\\r\\n        Ano: 2018</td>\n",
       "      <td>Páginas: 270</td>\n",
       "      <td>Idioma: português</td>\n",
       "      <td>20</td>\n",
       "      <td>...</td>\n",
       "      <td>50%</td>\n",
       "      <td>40%</td>\n",
       "      <td>5%</td>\n",
       "      <td>5%</td>\n",
       "      <td>0%</td>\n",
       "      <td>1%</td>\n",
       "      <td>99%</td>\n",
       "      <td>Ficção,Romance</td>\n",
       "      <td>NaN</td>\n",
       "      <td>\\r\\n                           Uma jovem garot...</td>\n",
       "    </tr>\n",
       "    <tr>\n",
       "      <th>1</th>\n",
       "      <td>8552923440</td>\n",
       "      <td>9788552923442</td>\n",
       "      <td>Hunter</td>\n",
       "      <td>Acerto de contas</td>\n",
       "      <td>Andy Collins</td>\n",
       "      <td>The Gift Box</td>\n",
       "      <td>\\r\\n\\r\\n        Ano: 2018</td>\n",
       "      <td>Páginas: 140</td>\n",
       "      <td>Idioma: português</td>\n",
       "      <td>0</td>\n",
       "      <td>...</td>\n",
       "      <td>0%</td>\n",
       "      <td>0%</td>\n",
       "      <td>0%</td>\n",
       "      <td>0%</td>\n",
       "      <td>0%</td>\n",
       "      <td>3%</td>\n",
       "      <td>97%</td>\n",
       "      <td>Literatura Brasileira,Romance</td>\n",
       "      <td>NaN</td>\n",
       "      <td>\\r\\n                           \"RESGATE\" Foi a...</td>\n",
       "    </tr>\n",
       "    <tr>\n",
       "      <th>2</th>\n",
       "      <td>8552923157</td>\n",
       "      <td>9788552923152</td>\n",
       "      <td>Cage</td>\n",
       "      <td>NaN</td>\n",
       "      <td>Andy Collins</td>\n",
       "      <td>The Gift Box</td>\n",
       "      <td>\\r\\n\\r\\n        Ano: 2018</td>\n",
       "      <td>Páginas: 256</td>\n",
       "      <td>Idioma: português</td>\n",
       "      <td>24</td>\n",
       "      <td>...</td>\n",
       "      <td>67%</td>\n",
       "      <td>8%</td>\n",
       "      <td>25%</td>\n",
       "      <td>0%</td>\n",
       "      <td>0%</td>\n",
       "      <td>3%</td>\n",
       "      <td>97%</td>\n",
       "      <td>Literatura Estrangeira,Romance</td>\n",
       "      <td>NaN</td>\n",
       "      <td>\\r\\n                           Cage: substanti...</td>\n",
       "    </tr>\n",
       "    <tr>\n",
       "      <th>3</th>\n",
       "      <td>1408857901</td>\n",
       "      <td>9781408857908</td>\n",
       "      <td>A Court of Wings and Ruin</td>\n",
       "      <td>A Court of Thorns and Roses # 3</td>\n",
       "      <td>Sarah J. Maas</td>\n",
       "      <td>Bloomsbury Childrens</td>\n",
       "      <td>\\r\\n\\r\\n        Ano: 2017</td>\n",
       "      <td>Páginas: 699</td>\n",
       "      <td>Idioma: português</td>\n",
       "      <td>616</td>\n",
       "      <td>...</td>\n",
       "      <td>77%</td>\n",
       "      <td>17%</td>\n",
       "      <td>5%</td>\n",
       "      <td>1%</td>\n",
       "      <td>0%</td>\n",
       "      <td>4%</td>\n",
       "      <td>96%</td>\n",
       "      <td>Fantasia,Ficção,Jovem adulto,Literatura Estran...</td>\n",
       "      <td>NaN</td>\n",
       "      <td>\\r\\n                           Feyre has retur...</td>\n",
       "    </tr>\n",
       "    <tr>\n",
       "      <th>4</th>\n",
       "      <td>B07GPSZKCJ</td>\n",
       "      <td>NaN</td>\n",
       "      <td>No Último Minuto</td>\n",
       "      <td>Um conto da série Mentes sombrias</td>\n",
       "      <td>Alexandra Bracken</td>\n",
       "      <td>Intrínseca</td>\n",
       "      <td>\\r\\n\\r\\n        Ano: 2018</td>\n",
       "      <td>Páginas: 90</td>\n",
       "      <td>Idioma: português</td>\n",
       "      <td>8</td>\n",
       "      <td>...</td>\n",
       "      <td>26%</td>\n",
       "      <td>37%</td>\n",
       "      <td>32%</td>\n",
       "      <td>5%</td>\n",
       "      <td>0%</td>\n",
       "      <td>23%</td>\n",
       "      <td>77%</td>\n",
       "      <td>Fantasia</td>\n",
       "      <td>NaN</td>\n",
       "      <td>\\r\\n                           A doença que cr...</td>\n",
       "    </tr>\n",
       "  </tbody>\n",
       "</table>\n",
       "<p>5 rows × 30 columns</p>\n",
       "</div>"
      ],
      "text/plain": [
       "      isbn-10        isbn-13                     titulo  \\\n",
       "0  8552923262  9788552923268            Tapete Vermelho   \n",
       "1  8552923440  9788552923442                     Hunter   \n",
       "2  8552923157  9788552923152                       Cage   \n",
       "3  1408857901  9781408857908  A Court of Wings and Ruin   \n",
       "4  B07GPSZKCJ            NaN           No Último Minuto   \n",
       "\n",
       "                           subtitulo              autor               editora  \\\n",
       "0                                NaN         M.S. Fayes          The Gift Box   \n",
       "1                   Acerto de contas       Andy Collins          The Gift Box   \n",
       "2                                NaN       Andy Collins          The Gift Box   \n",
       "3    A Court of Thorns and Roses # 3      Sarah J. Maas  Bloomsbury Childrens   \n",
       "4  Um conto da série Mentes sombrias  Alexandra Bracken            Intrínseca   \n",
       "\n",
       "                                   ano        paginas  \\\n",
       "0  \\r\\n\\r\\n        Ano: 2018             Páginas: 270   \n",
       "1  \\r\\n\\r\\n        Ano: 2018             Páginas: 140   \n",
       "2  \\r\\n\\r\\n        Ano: 2018             Páginas: 256   \n",
       "3  \\r\\n\\r\\n        Ano: 2017             Páginas: 699   \n",
       "4  \\r\\n\\r\\n        Ano: 2018              Páginas: 90   \n",
       "\n",
       "                        idioma  leram  ...  cincoEstrelas  quatroEstrelas  \\\n",
       "0          Idioma: português       20  ...            50%             40%   \n",
       "1          Idioma: português        0  ...             0%              0%   \n",
       "2          Idioma: português       24  ...            67%              8%   \n",
       "3          Idioma: português      616  ...            77%             17%   \n",
       "4          Idioma: português        8  ...            26%             37%   \n",
       "\n",
       "   tresEstrelas  duasEstrelas  umaEstrela  avaliacoesHomens  \\\n",
       "0            5%            5%          0%                1%   \n",
       "1            0%            0%          0%                3%   \n",
       "2           25%            0%          0%                3%   \n",
       "3            5%            1%          0%                4%   \n",
       "4           32%            5%          0%               23%   \n",
       "\n",
       "  avaliacoesMulheres                                            generos tags  \\\n",
       "0               99%                                      Ficção,Romance  NaN   \n",
       "1               97%                       Literatura Brasileira,Romance  NaN   \n",
       "2               97%                      Literatura Estrangeira,Romance  NaN   \n",
       "3               96%   Fantasia,Ficção,Jovem adulto,Literatura Estran...  NaN   \n",
       "4               77%                                            Fantasia  NaN   \n",
       "\n",
       "                                             sinopse  \n",
       "0  \\r\\n                           Uma jovem garot...  \n",
       "1  \\r\\n                           \"RESGATE\" Foi a...  \n",
       "2  \\r\\n                           Cage: substanti...  \n",
       "3  \\r\\n                           Feyre has retur...  \n",
       "4  \\r\\n                           A doença que cr...  \n",
       "\n",
       "[5 rows x 30 columns]"
      ]
     },
     "execution_count": 6,
     "metadata": {},
     "output_type": "execute_result"
    }
   ],
   "source": [
    "df.head()"
   ]
  },
  {
   "cell_type": "code",
   "execution_count": 7,
   "metadata": {},
   "outputs": [
    {
     "data": {
      "text/plain": [
       "\"\\r\\n                           Feyre has returned to the Spring Court, determined to gather information on Tamlin's maneuverings and the invading king threatening to bring Prythian to its knees. But to do so she must play a deadly game of deceit-and one slip may spell doom not only for Feyre, but for her world as well. As war bears down upon them all, Feyre must decide who to trust amongst the dazzling and lethal High Lords-and hunt for allies in unexpected places. In this thrilling third book in the #1 New York Times and USA Today bestselling series from Sarah J. Maas, the earth will be painted red as mighty armies grapple for power over the one thing that could destroy them all. \""
      ]
     },
     "execution_count": 7,
     "metadata": {},
     "output_type": "execute_result"
    }
   ],
   "source": [
    "df['sinopse'][3]"
   ]
  },
  {
   "cell_type": "code",
   "execution_count": 12,
   "metadata": {},
   "outputs": [
    {
     "name": "stdout",
     "output_type": "stream",
     "text": [
      "\r\n",
      "                           Feyre has returned to the Spring Court, determined to gather information on Tamlin's maneuverings and the invading king threatening to bring Prythian to its knees. But to do so she must play a deadly game of deceit-and one slip may spell doom not only for Feyre, but for her world as well. As war bears down upon them all, Feyre must decide who to trust amongst the dazzling and lethal High Lords-and hunt for allies in unexpected places. In this thrilling third book in the #1 New York Times and USA Today bestselling series from Sarah J. Maas, the earth will be painted red as mighty armies grapple for power over the one thing that could destroy them all. \n",
      "\r\n",
      "                           Uma distopia atual, próxima dos dias de hoje, sobre empoderamento e luta feminina. O SILÊNCIO PODE SER ENSURDECEDOR #100PALAVRAS O governo decreta que as mulheres só podem falar 100 palavras  por  dia. A Dra. Jean McClellan está em negação. Ela não acredita que isso esteja acontecendo de verdade. Esse é só o começo... Em pouco tempo, as mulheres também são impedidas de trabalhar e os professores não ensinam mais as meninas a ler e escrever. Antes, cada pessoa falava em média 16 mil palavras por dia, mas agora as mulheres só têm 100 palavras para se fazer ouvir. ...mas não é o fim. Lutando por si mesma, sua filha e todas as mulheres silenciadas, Jean vai reivindicar sua voz. \n",
      "\r\n",
      "                           # Um dos projetos editoriais mais bem sucedidos da Planeta Espanha no segmento de auto-ajuda empresarial, a Coleção Gestão 2000 apresenta soluções para alguns dos problemas mais recorrentes do mundo administrativo-comercial. As propostas são simples e práticas, afinal, ninguém tem tempo a perder em um mundo cada vez mais competitivo. A intenção é mostrar saídas rápidas para problemas aparentemente pequenos, que acabam por gerar grandes entraves ao fluxo das empresas.                          \n",
      "\r\n",
      "                           Beijo da lua (Wicked Games #2)  — Michelle Hauf Ao fugir de vampiros sedentos de sangue, Belladona Raynolds foi direto para os braços de um lobisomem. Como homem, Severo a atraiu com sua beleza morena. Como fera, a impressionou com um apetite sensual insaciável. Agora, Severo tentaria a todo custo manter Bella, sua parceira, a salvo da vampira que jurara vingança contra ele... A Sociedade Secreta dos Vampiros — Lisa Childs Conner West passou os últimos 50 anos culpando a si mesmo pela morte de Miranda Hamilton. Quando uma sedutora e perigosa desconhecida se oferece para fazê-lo pagar por seus pecados, ele aceita sem pensar duas vezes... \n",
      "\r\n",
      "                           Em \"Beber, jogar, f#@er\", Bob Sullivan, traído e abandonado por sua mulher, parte em uma jornada em busca da felicidade - e da liberdade. Desiludido, Sullivan nos convida a acompanhá-lo em farras homéricas e algumas confusões com que todo homem sempre sonhou: encher a cara na Irlanda, apostar até as calças em Las Vegas, e dar asas a seus desejos proibidos na Tailândia. A única regra é não ter regras.                         \n",
      "\r\n",
      "                           Uma trilha envolvente e completa, de um renomado e enigmático autor. Duas culturas antigas e um tesouro perdido em um passado distante: que segredos poderosos ele pode esconder? E até onde alguém iria para possuí-lo? Mergulhe na mais nova e emocionante caçada do mestre de ação e aventura David Gibbins.A trilha começa nas ruínas Romanas e nos leva a um naufrágio na costa do Egito. Em pouco tempo, o maior arqueologista marinho, Jack Howard, e seu time de cientistas e antigos integrantes das Forças Especiais, acabam adentrando as misteriosas selvas da Índia por perseguirem as pegadas de um lendário grupo de legionários Romanos. Enquanto isso, em um misterioso lago no Quirguistão, uma bela mulher descobre um segredo que tem tirado as vidas de inúmeros caçadores ao longo dos séculos. O que Jack descobre o leva a cavar não só o passado, mas também a história de sua própria família. Há mais ou menos um século, seu tataravô retornou de uma expedição arqueológica na Índia e ficou pra sempre traumatizado pela experiência. Para então dar descanso ao passado, Jack terá que desenterrar um artefato poderoso que nunca deveria ter sido encontrado. The Tiger Warrior (Jack Howard Series, #4) by David Gibbins (first published 2009) '-' Two ancient cultures, a lost treasure from the distant past: what powerful secrets does it conceal—and how far will some go to possess them? Dive into a new full-throttle hunt from master of the action-adventure thriller David Gibbins, as he unleashes… The trail starts in the Roman ruins and leads to a shipwreck off the coast of Egypt. Soon the world’s top marine archaeologist, Jack Howard, and his team of scientific experts and ex-Special Forces adventurers are pushing their way through the mysterious jungles of India, following in the footsteps of a legendary band of missing Roman legionnaires. Meanwhile, at a remote lake in Kyrgyzstan, a beautiful woman has found evidence of a secret knowledge that has cost the lives of countless seekers through the centuries. And what Jack uncovers will lead him to dig not only into the ancient past but into his own family history. For over a century earlier his great-great-grandfather returned from an archaeological expedition in India forever traumatized by what he’d experienced. And in order to lay the past to rest, Jack will have to unearth an artifact that might have been better left buried—and with it a power that some of history’s most ruthless tyrants have sought to rule the World…. \n",
      "\r\n",
      "                           # Aprenda com Motivando para o sucesso o que executivos do mundo todo já descobriram: uma equipe motivada é composta de pessoas valorizadas, com excelente auto-estima e, acima de tudo, que confiam plenamente no líder que têm. Motivar seu pessoal nem sempre é fácil, mas, com as dicas e técnicas apresentadas por Steve Chandler e Scott Richardson, você vai perceber que essa pode ser uma tarefa desafiadora e gratificante. Se você lidera uma equipe e deseja motivá-la, o primeiro passo é aprender a motivar a si mesmo. Este livro vai mostrar a você como fazer isso, além de ensiná-lo: # Como desacelerar e conseguir mais foco. # Por que fazer várias coisas ao mesmo tempo não é produtivo # Como manter a vida simples e objetiva # Como aproveitar as forças da sua equipe # Como evitar a tendência a enfatizar as fraquezas do seu pessoal # Maneiras simples e criativas de encorajar o senso de responsabilidade da sua equipe # Como cultivar a saudável arte do confronto. Este livro vai guiar você pelo caminho da verdadeira liderança, para que você consiga uma equipe dinâmica, produtiva e altamente eficaz. Os autores elaboraram um guia essencial, fácil de usar e inspirador para todos que estão em cargos de liderança e para quem almeja chegar lá.                          \n",
      "\r\n",
      "                           Maya Banks, best-seller #1 do NY Times, vai arrebatar seus sentidos no 3o. volume da trilogia Surrender. Primeiro ela testou os limites do desejo com a trilogia Breathless. Agora, Maya Banks, a autora best-seller #1 do NY Times, vai ultrapassá-los. Na trilogia Surrender, casais que desejam renovar seu compromisso vão perceber que um momento de desantenção pode custar muito caro... Chessy e Tate estão casados há anos. No início, o relacionamento deles era tudo o que Chessy queria. Ela oferecia ao marido a submissão e, em retribuição, ele cuidava para que ela se sentisse completamente segura e feliz. Porém, em alguns anos, Tate passou a dar menos atenção a Chessy, fazendo com que ela se sentisse em segundo plano. Cada vez mais infeliz em um casamento que havia sido, um dia, tudo o que ela tinha sonhado, Chessy sabe que algo de muito urgente precisa ser feito, antes que coloquem tudo a perder. Tate ama sua esposa.. Sentir-se provedor de Chessy sempre foi sua prioridade. Mas, ultimamente ela aparenta estar distante e infeliz, deixando-o preocupado. Tão preocupado que decide organizar uma noite muito especial, que pode reacender a chama que existia neles no começo. Mas, uma ligação no momento errado quase coloca tudo a perder: a segurança de Chessy, o plano de Tate, a crença no amor... Ao perceber que estava prestes a perdê-la, Tate prepara-se para o grande embate da sua vida. Decidido a reverter a situação a qualquer custo e conquistá-la novamente, ele vai mostrar a ela que nada é mais importante do que o amor que sentem um pelo outro.                         \n",
      "\r\n",
      "                           Você é do tipo que sonha em mudar seu status de relacionamento no Facebook, mas acha que você e sua alma gêmea são como retas paralelas que só se encontrarão no infinito? Dizem que, quando um nerd namora, ele não muda o status para “Em um relacionamento sério”, e sim para “Em um relacionamento, sério”. Mas, apesar de hoje um em cada quatro relacionamentos começar em uma rede social – e três em cada quatro terminarem por causa dela –, este livro vai lhe dar a confiança necessária para começar um relacionamento na vida real! Das mais cafajestes às mais fofas, as hilárias cantadas nerds são tudo o que você precisa para puxar papo com a pessoa certa e mostrar que, além de engraçado, você também é inteligente. É a sua chance de deixar de ser um #ForeverAlone e não passar mais as noites de sábado curtindo a “tendinight”. Afinal, o mundo é uma esfera e, na geometria esférica, as paralelas se encontram. A timidez não lhe permite aplicar tais cantadas? Não tem problema, este livro é um excelente presente tanto para quem namora quanto para quem pretende. Flores murcham e chocolate engorda, mas livros são para sempre! Joias também, mas este livro é bem mais barato – e é “joinha”.                          \n",
      "\r\n",
      "                           Sempre que João Guilherme sobe num palco para cantar passa um filme em sua cabeça. A tensão inicial, a vontade de dar o seu melhor, a batida da música, seus sonhos, tudo mexe bastante com ele. Muita coisa aconteceu desde a primeira vez em que cantou para um grande público, durante um evento do SBT, pra divulgar a novela CÚMPLICES DE UM RESGATE. De lá pra cá, a música entrou de vez em sua vida. Foram mais de 39 shows, 104 horas de voo, 16 mil abraços, 1 CD de estreia, e muitas histórias pra contar! Em #JoãoGuilhermeNaEstrada, acompanhe de perto a trajetória de João Guilherme pela MÚSICA: segredos das turnês, rotina dos shows, histórias divertidas, momentos íntimos, bastidores das canções, confissões inesquecíveis. Tudo o que você sempre quis saber e que agora ele conta em detalhes, neste livro recheado de fotos inéditas e letras das canções. \n",
      "\r\n",
      "                           Esta é a sua agenda de leituras! Um lugar para anotar todos os livros que você leu, separá-los por categorias e organizar suas metas de leitura, tudo isso enquanto enfrenta desafios estimulantes e divertidos. Apresentando as mais variadas listas e propondo uma jornada literária diversificada e ousada, o Livro de marcar livros é bem mais que uma experiência interativa: é também uma timeline dos seus hábitos literários e um espaço para planejar todas as suas próximas aventuras literárias, com a incrível possibilidade de compartilhar tudo isso com seus amigos. Não fique de fora! Embarque no #livrodemarcarlivros, navegue pelos desafios e delicie-se com o prazer da leitura!   Ilustrações: Catarina Lopes Disponível nas cores roxa e azul \n",
      "\r\n",
      "                           Para Scarlet, cuidar de suas duas filhas sozinha significa que lutar pelo amanhã é uma batalha diária. Nathan tem uma mulher, mas não se lembra o que é estar apaixonado; a única coisa que faz a volta para casa valer a pena é sua filha Zoe. A maior preocupação de Miranda é saber se seu carro tem espaço suficiente para sua irmã e seus amigos irem viajar no fim de semana, escapando das provas finais da faculdade.  Quando a notícia de uma epidemia mortal se espalha, essas pessoas comuns se deparam com situações extraordinárias e, de repente, seus destinos se misturam. Percebendo que não conseguiriam fugir do perigo, Scarlet, Nathan, e Miranda procuram desesperadamente por abrigo no mesmo rancho isolado, o Red Hill. Emoções estão a flor da pele quando novos e velhos relacionamentos são testados diante do terrível inimigo – um inimigo que já não se lembra mais o que é ser humano.  O que acontece quando aquele por quem você morreria, se transforma naquele que pode lhe destruir? Red Hill prende desde a primeira página e é impossível deixa-lo até o final surpreendente. Este é o melhor da autora Jamie McGuire!  - Melhor Distopia de 2014 pela UtopYA Com. - Red Hill deu origem a um spin off, Among Monsters. - Jamie McGuire é autora do romance best-seller Belo Desastre. Em 2012, Desastre Iminente, segundo romance de sua série chegou a #1 nas listas do New York Times, USA Today e Wall Street Journal. - Seus trabalhos de 2014 incluem o romance Bela Distração, primeiro livro da série Irmãos Maddox, também o título mais vendido da lista do New York Times. \n",
      "\r\n",
      "                           O que aconteceria se, de repente, sem nenhuma explicação, pessoas simplesmente desaparecessem, sumissem no ar? É o que os perplexos moradores de Mapleton, que perderam muitos vizinhos, amigos e companheiros no evento conhecido como Partida Repentina, precisam descobrir.Desde o ocorrido nada mais está do mesmo jeito - nem casamentos, nem amizades, nem mesmo o relacionamento entre pais e filhos. O prefeito da cidade, Kevin Garvey, quer acelerar o processo de cura, trazer um sentimento de esperanças renovadas e propósito para sua comunidade traumatizada. Ainda que sua família tenha sido desfeita com o desastre - sua esposa o deixou para se juntar a um culto cujos membros fazem voto de silêncio; seu filho, Tom, abandonou a faculdade para seguir um profeta duvidoso chamado Santo Wayne; e sua filha adolescente, Jill, não é mais a dócil estudante nota dez que costumava ser. Em meio a tudo isso, Kevin ainda se vê envolvido com Nora Durst, uma mulher que perdeu toda a sua família no 14 de Outubro e continua chocada com a tragédia, apesar de se esforçar para seguir adiante e recomeçar a vida. - See more at: http://www.globobooks.com.br/produto/deixados-para-tras-os-capa-azul-44716#sthash.zfa1rjIK.dpuf \n",
      "\r\n",
      "                           Vitória Moraes tem quinze anos, é autêntica, engraçada, meio nerd, meio gótica, tem cabelão, três piercings, está sempre de tênis de cano alto, jeans e batom roxo. Como todo adolescente, se vê diante de um monte de novidades: o primeiro amor, as mudanças no corpo e os desafios da vida social. A diferença é que, no universo do YouTube, ela é conhecida como Viih Tube, e compartilha em vídeos seu cotidiano com mais de 2 milhões de seguidores. Virou uma estrela, cercada por fãs aonde quer que vá. Foram eles que imploraram para que Viih escrevesse um livro. E, para ela, os pedidos dos fãs são uma ordem.  Em Tudo tem uma primeira vez, Viih revela que teve vontade de recorrer ao Google em busca de um tutorial antes de perder o famoso BV. É fofa ao contar como foi a primeira vez que disse “Eu te amo” para um garoto e não se poupa quando descreve o resultado infeliz da primeira vez que pintou o cabelo. Sem medo de ser contraditória, ela afirma que odeia mentira, mas já mentiu para o pai (#quemnunca?). Boa aluna, ela admite que já colou numa prova e que ficou passada quando precisou fazer recuperação. Mesmo assim, continua a queridinha dos professores. Cada capítulo conta com ilustrações e referências à linguagem da internet, e muito, muito humor. Mas que ninguém se engane: Viih tem posições firmes e um jeito só seu de contar histórias. Se todos os meninos e meninas estão conectados à internet 24 horas por dia e usam as redes sociais para tudo, Viih faz com suas palavras um retrato divertido de quem é o adolescente da atualidade. \n",
      "\r\n",
      "                           Era uma vez um sonho retrata o impacto da decadência cultural e econômica de uma sociedade sobre a história pessoal de cada um A história de J.D. Vance poderia ser igual à de milhares de outras pessoas que cresceram nas mesmas condições que ele. Seus avós migraram para a região dos Estados Unidos conhecida como Cinturão da Ferrugem, onde se tornaram operários de classe média. Mas a relativa ascensão social não significou que seus descendentes conseguissem escapar da situação de pobreza material e cultural que os prendia a um ciclo contínuo de violência doméstica, abuso de álcool e drogas e falta de perspectivas de forma geral. É nesse contexto que o autor de Era uma vez um sonho nasce e cresce, alternando momentos de negação da (des)estrutura familiar e outros de proximidade, mas nunca deixando de tentar entender o que estava errado e o que os levava a cometerem sempre os mesmos equívocos, comuns também às famílias vizinhas. J.D Vance transforma sua experiência pessoal numa narrativa emocionante sobre a degradação da classe trabalhadora branca americana – mas que poderia se passar em qualquer outro lugar do mundo. É pioneiro ao trazer uma perspectiva interna do declínio de um grupo social, visto pelos olhos de alguém que conseguiu romper com essa situação e se formar em direito numa das mais prestigiadas universidades do país. Best-seller #1 do New York Times desde novembro de 2016, o livro tem sido indicado também para quem deseja compreender as condições que suscitaram a vitória de Donald Trump nas eleições presidenciais dos EUA. \n",
      "\r\n",
      "                           Por que certas iniciativas ganham proporções tão grandes enquanto outras não dão em nada? Em O novo poder: Como disseminar ideias, engajar pessoas e estar sempre um passo à frente em um mundo hiperconectado, Jeremy Heimans e Henry Timms discutem alguns dos maiores casos de sucesso de nosso tempo — o crescimento de megaplataformas como Facebook e Uber, as vitórias inesperadas de Obama e Trump, o surgimento de movimentos como #MeToo — e revelam o que de fato está por trás de todos eles: a ascensão do novo poder, que não é mais protegido e inalcançável como o antigo, mas aberto, colaborativo e movido principalmente por indivíduos comuns. A batalha entre esses dois modelos é o que determina quem nos governa, como trabalhamos e até mesmo como pensamos e nos sentimos. Com exemplos do mundo dos negócios, do ativismo político e da cultura pop, passando pela análise de organizações como Lego, NASA e TED, os autores explicam como construir e usar da melhor forma esse novo poder. \n",
      "\r\n",
      "                           Pessoas difíceis são um desafio. Na melhor das hipóteses, elas tornam a vida mais estressante e desagradável. Na pior, chegam a interferir em projetos pessoais e impedem a conquista de metas profissionais importantes. Aprendendo a lidar com pessoas difíceis ensina a extrair o melhor desses tipos problemáticos, mesmo quando eles exibem o pior de si mesmos. Com a ajuda de técnicas eficazes e uma abordagem criativa, os autores ensinam o caminho das pedras - o aprendizado da convivência em grupo, independente das diferenças - e os atalhos para impedir que as pessoas que o incomodam enfraqueçam seu desempenho no trabalho e na vida pessoal. As lições apresentadas neste livro mostram o que fazer para contornar os comportamentos destrutivos e irritantes: # Identificar os 10 comportamentos mais indesejáveis e entender a razão que leva as pessoas a agirem desta maneira. # Desenvolver uma \"lente\" para reconhecer as intenções, pensamentos e temores das pessoas difíceis. # Usar técnicas sofisticadas de \"escuta\" para alcançar uma compreensão profunda das necessidades do outro. # Cultivar habilidades de harmonização e redirecionamento, de modo a transformar conflitos em momentos de cooperação. \n",
      "\r\n",
      "                           # Executivos e líderes empresariais bem-sucedidos sempre apontam a habilidade de fazer networking como uma das mais poderosas ferramentas para o sucesso profissional. O desafio é tornar-se um mestre na arte de cultivar relacionamentos que tragam benefícios para todos os envolvidos. Esse é o principal objetivo de Networking: Desenvolva Sua Carreira Criando Bons Relacionamentos - ensinar cada pessoa a superar a timidez, ampliar suas conexões e criar seu próprio estilo de fazer novos contatos. Este livro se baseia na idéia de que todo mundo pode aprender a fazer networking de maneira eficaz. E traz 24 dicas para desenvolver um programa de ações envolvendo as pessoas que você conhece e as que virá a conhecer - além de um planejamento estratégico para você conseguir o que deseja, enquanto ajuda os outros a também realizarem seus desejos. Para isso, é necessário, entre outras coisas: # Aprender as melhores estratégias de networking # Superar seus medos # Controlar sua linguagem corporal # Ultrapassar seus limites # Descobrir oportunidades # Relacionar-se com inteligência # Avaliar seus contatos # Desenvolver uma tática de aproximação                          \n",
      "\r\n",
      "                           Prestar um Atendimento Nota 10 é criar uma experiência positiva e inesquecível para cada cliente. E, como você verá neste livro, isso significa muito mais do que proporcionar um tratamento gentil. É suprir expectativas e satisfazer necessidades, descobrindo oportunidades de surpreender e cativar. E assim fazer com que o cliente volte sempre. Com uma linguagem e ilustrações simples e bem-humoradas, Atendimento Nota 10 apresenta uma abrangente introdução aos mais importantes aspectos envolvidos em um serviço de alta qualidade. Aqui você encontrará uma grande variedade de estratégias, técnicas e dicas para prestar o melhor atendimento: pessoalmente, pela internet e pelo telefone. Seja você um iniciante na área de atendimento, seja um profissional experiente nesse setor, esta leitura lhe dará uma visão bastante positiva sobre os desafios envolvidos nessa atividade, mostrando como: # Aplicar os princípios fundamentais do atendimento, os fatores CESAR: confiabilidade, empatia, segurança, aparência e resposta. # Ser um excelente solucionador de problemas, fazendo com que clientes decepcionados voltem a se sentir satisfeitos. # Usar os segredos do Atendimento Nota 10, como a honestidade e a capacidade de ouvir. # Formular boas perguntas para obter as respostas mais valiosas dos clientes. # Lidar com clientes infernais usando desde Por favor, me dê uma chance de ajudar você até Sinto muito por não termos encontrado um meio de trabalhar juntos. # Evitar os dez pecados do atendimento ao cliente (por exemplo, trocando o Eu não sei por ( Eu não sei, mas vou descobrir). # Cuidar de si mesmo, mantendo-se calmo e adotando sempre uma postura profissional.                          \n",
      "\r\n",
      "                           # \"O ouro no coração da pessoa é mais precioso do que o ouro em seu bolso.\" Confúcio. Que o sucesso de uma empresa depende basicamente dos clientes, todo mundo sabe. O que nem todos sabem - e este livro revela - é que os pequenos gestos e os detalhes são a estratégia mais eficiente para conquistar o coração e a alma do cliente. David Freemantle não tem dúvida de que é preciso aproveitar cada oportunidade para agradar o cliente, de preferência sem se tornar repetitivo, monótono ou inconveniente. Por isso, as 50 dicas que o autor apresenta neste livro mostram como estabelecer um relacionamento agradável e produtivo, baseado em pequenas gentilezas, bom humor e competência. Para construir um relacionamento vibrante, é fundamental motivar os profissionais de atendimento e transformar cada minuto com o cliente numa experiência positiva para ambos os lados. Afinal, é o pessoal de atendimento que injeta energia, vitalidade e calor nas relações com o cliente - e permite que a empresa colha as recompensas. Se você deseja criar vínculos fortes com seus clientes, siga os seguintes conselhos: # Seja criativo: invente novas maneiras de fazer os clientes se sentirem especiais. # Ouça o que eles têm a dizer, mesmo que sejam críticas ou reclamações. # Ria com eles. O bom humor reduz o estresse envolvido na negociação.                          \n",
      "\r\n",
      "                           # De Bem Com a Vida oferece uma série de dicas práticas para você manter as emoções sob controle, resolver os problemas do cotidiano e resgatar a alegria de viver. Donos de um repertório variado de técnicas, métodos e conselhos sobre como lidar com as questões que afetam o nosso dia-a-dia, os psicólogos Arnold A. Lazarus e Clifford N. Lazarus criaram um guia de leitura simples, em que você pode ler com prazer cada item sem precisar enfrentar textos longos e cansativos. Cada um dos 110 capítulos conta um caso baseado em uma história real e traz informações úteis e valiosas sobre psicologia, psiquiatria e saúde mental em geral. Veja alguns dos temas abordados: # Seu pensamento controla o que você sente # A ditadura do \"deve\" # Combatendo a insônia # Como salvar um relacionamento problemático... ou melhorar o que já é bom # Sobre dizer \"não\" # Aprendendo a se libertar das mágoas e dos ressentimentos                          \n",
      "\r\n",
      "                           Receitas do primeiro e maior canal brasileiro de culinária do Youtube.  Com cerca de 2 milhões de inscritos e mais de 120 milhões de visualizações, O Ana Maria Brogui, apresentado por Caio Novaes, ensina que cozinhar não é complicado.  Ao contrário, é simples e muito divertido, e fica melhor ainda se você sabe os truques e os segredos para preparar as receitas famosas que você adora de restaurantes, bares e lanchonetes, e também daquelas guloseimas deliciosas que você compra no supermercado.  Neste segundo livro do canal Ana Maria Brogui, você vai aprender mais de 100 receitas incríveis e descomplicadas para fazer em casa e surpreender amigos e familiares. Deixe aflorar o cozinheiro que mora em você e compartilhe as fotos dos seus pratos nas redes sociais, marcando-as com a hashtag #anamariabrogui! \n",
      "\r\n",
      "                           101 MANEIRAS DE SE LIVRAR DO PLÁSTICO E SALVAR O MUNDO. A guerra contra o plástico já começou e você é uma peça fundamental nesta luta. Juntos nós PODEMOS fazer a diferença! #chegadeplástico Você sabia que existem 51 trilhões de micropartículas de plástico nos oceanos neste momento? A guerra contra o plástico já começou e você é uma peça fundamental nesta luta. Este livro ilustrado contém 101 dicas simples que qualquer pessoa pode seguir para evitar o uso do plástico descartável. Você pode e deve fazer a sua parte. Cada decisão consciente que você toma no dia a dia é um passo para salvar o planeta. \n",
      "\r\n",
      "                           A Profecia das Irmãs #1 Apesar do fogo e da harmonia, a espécie humana durou até o envio dos Guardiões, que tomaram como esposas e amantes a mulher do homem, provocando sua fúria. Duas irmãs, formadas no mesmo oceano oscilante, uma a Guardiã, a outra o Portal. Uma guarda a paz, a outra realiza uma feitiçaria destrutiva em busca de devoção... Uma antiga profecia selou o destino de irmãs gêmeas por gerações. Não há como escapar do papel que lhes foi reservado. Foram arrancadas da vida tranquila e feliz que conheciam e estão irremediavelmente predestinadas a serem inimigas. Ainda que privadas da paz e da harmonia, não perderam o poder de fazerem suas próprias escolhas. Elas ainda possuem o livre arbítrio e o caminho que traçarem será decisivo para o futuro da humanidade.                         \n",
      "\r\n",
      "                           # O livro expõe as controvérsias atuais sobre a origem da vida, a sociobiologia, a evolução da linguagem e da cultura e a ética evolutiva. Revela os anseios filosóficos e religiosos, que têm distorcido as disputas entre cientistas e leigos.                         \n",
      "\r\n",
      "                           Tales of Terror #1 - O escuro causa medo por uma razão. Ou várias. Contos de terror do tio Montague é o sétimo livro de Chris Priestley, escritor, cartunista e ilustrador britânico cuja obra foi publicada tanto pela Bloomsbury Publishing – mesma editora da saga Harry Potter, escrita por J. K. Rowling – quanto pela gigante Random House. Primeiro livro de Priestley a ser publicado em português, Contos de terror do tio Montague chega ao Brasil pelo selo Pavio, da Editora Rocco, e promete captar a atenção da garotada com sua atmosfera sombria e elegante, resultado do casamento perfeito entre o texto afiado de Priestley e as charmosas ilustrações de David Roberts, na melhor linha dos clássicos de suspense. O interesse de Chris Priestley em histórias arrepiantes vem desde sua adolescência. Pelos nomes dos dois principais personagens do livro, é possível verificar as influências do autor ao escrever a obra. Tio Montague e seu sobrinho, Edgar, tiveram seus nomes inspirados por dois grandes escritores de imortais linhas macabras: M. R. James (Montague Rhodes James) e Edgar Allan Poe. Seguindo os passos de James e Poe, o estilo narrativo de Priestley e os elementos usados nos contos são clássicos. Casas mal-assombradas, pactos com demônios, monstros estranhos, relíquias amaldiçoadas e uma cornucópia de sons e vultos que arrepiam a alma fazem de Contos de terror do tio Montague um bom exemplo de literatura de terror para jovens, mas com um toque de nostalgia para os adultos. O livro conta a história de Edgar, um menino que se refugia na casa de seu excêntrico tio para ouvir suas histórias arrepiantes. Com pais que não dão muita importância para sua presença, Edgar procura o tio para passar o tempo, pois sua curiosidade em ouvir histórias horripilantes é tão grande quanto a vontade do tio de contá-las. Para Edgar, os contos são apenas invenções fantasiosas do velho tio. Mas para Montague, são contos que deveriam não somente assustar o sobrinho, mas ensiná-lo que, quando o assunto é o além, todo o cuidado é pouco. Em uma espécie de metalinguagem, o leitor é apresentado aos contos assim como Edgar. A cada história contada, a principal e que une todas como uma detalhada tapeçaria – entre o tio e Edgar – fica mais misteriosa. Ora é um mordomo que traz a bandeja com o chá, mas nunca aparece, ora é a estranha presença que Edgar sente estar o observando. “Existe alguém mais vivendo aqui, tio?” Edgar pergunta ao ouvir a maçaneta chacoalhar na porta, e a resposta, embora simples, não é otimista, mas um tanto quanto ambígua: “Vivendo? Não”, responde o tio. A narrativa de Contos de terror do tio Montague fica cada vez mais densa à medida que o tio Montague escolhe histórias mais assustadoras para contar a Edgar. Embora a narrativa seja leve e feita para ser lida em voz alta, os temas de cada conto são bem macabros e assustadores. Mas, segundo Chris Priestley, essa é a idéia, pois o autor espera que seus contos assombrem os leitores assim como os de James e Poe o assombraram. \n",
      "\r\n",
      "                           Interpretada por Maisa Silva, Juliana Almeida é a maravilhosíssima dona do Vlog da Juju, da novela Carinha de Anjo. Ela é uma estudante que, assim como muitos, vive conectada às redes sociais e não larga o smartphone pra nada – nem mesmo quando sua mãe, Rosana (Angela Dippe), resolve lhe dar umas broncas… por não largar o celular!  No seu canal, a adolescente faz vídeos abordando temas do cotidiano adolescente com o seu jeitinho espontâneo que já conquistou o público teen, além de entrevistar outros ídolos mirins. Sim, a Juju já entrevistou (e desafiou) a famosíssima youtuber Julia Silva, a linda da Larissa Manoela (#Larináticos), e até mesmo a própria Maisa! #BAPHO! Neste livro completamente dinâmico e interativo, contamos todos os segredos da Juju, mas também queremos saber os seus! Então apresentamos diversas páginas nas quais você também pode escrever sobre a família e os amigos, sobre os planos para o futuro e, é claro, sobre os #crushestambém!  Curtiu? Então além de acompanhar a Juju em todas as redes sociais, tenha ela por perto também neste livro que é #top e um #close certo! \n",
      "\r\n",
      "                           Prince Lestat and the Realms of Atlantis — The Vampire Chronicles, #12. As Crônicas Vampirescas estão de volta! Para a felicidade dos fãs da já clássica série da escritora Anne Rice, o segundo volume da nova safra de romances focados no Vampiro Lestat chega às prateleiras mesclando a mitologia dos vampiros e o universo gótico próprio da autora a elementos da Ficção Científica: em Príncipe Lestat e os Reinos de Atlântida, o príncipe dos vampiros precisa vencer Amel, espírito que um dia tomou posse de seu corpo e alma e que foi o fundador da cidade de Atlântida, prodígio da tecnologia e da ciência, para impedir que a energia dos vampiros seja destruída e seu universo alterado pelo poderio tecnológico e científico desse império perdido. ==== https://pt.m.wikipedia.org/wiki/Crônicas_Vampirescas http://vampirechronicles.wikia.com/wiki/Amel \n",
      "\r\n",
      "                           Maria Madalena ressurge na narrativa histórica do escritor e jornalista Rodrigo Alvarez. O autor de best-sellers como Jesus – O homem mais amado da História e Aparecida apresenta em #MadalenaSemFiltro um texto atual em que Madalena, num tocante depoimento em primeira pessoa, revisita suas lutas, verbaliza suas ideias sobre os homens, detalha sua relação com Jesus, mostra-se indignada com as injustiças que sofreu e reflete sobre seu passado e seu presente – o século XXI, quando foi finalmente apontada como verdadeira apóstola daquele a quem todos chamam Cristo. Ela considera e avalia tudo o que foi dito a seu respeito ao longo dos séculos e rememora a importância que tiveram mulheres como a papisa Joana, Salomé e Maria da Penha, figuras femininas que, como Maria Madalena, tornaram-se ícones ao dizer “não” aos papeis impostos e pré-concebidos pelo mundo masculino. Baseada em fatos e documentos históricos (entre eles os evangelhos apócrifos da biblioteca de NagHammadi e o místico Pistis Sophia), #MadalenaSemFiltro é uma obra de alta qualidade literária concebida de maneira original por um escritor e pesquisador em pleno domínio de seus talentos. \n",
      "\r\n",
      "                           Sinopse - Dezesseis Luas - Beautiful Creatures #1 - Kami Garcia, Margaret Stohl Ethan é um garoto normal de uma pequena cidade do sul dos Estados Unidos e totalmente atormentado por sonhos, ou melhor, pesadelos com uma garota que ele nunca conheceu. Até que ela aparece... Lena Duchannes é uma adolescente que luta para esconder seus poderes e uma maldição que assombra sua família há gerações. Mais que um romance entre eles, há um segredo decisivo que pode vir à tona. Eleito pelo Amazon um dos melhores livros de ficção de 2009. Direitos de tradução vendidos para 24 países. Um filme da série está sendo produzido. \"Pacote completo: um cenário assustador, uma maldição fatal, reencarnação, feitiços, bruxaria, vudu e personagens que simplesmente prenderão o leitor até o fim...\" Dezesseis Luas - Beautiful Creatures #1 - Kami Garcia, Margaret Stohl \n",
      "\r\n",
      "                           35 desafios fenonásticos para compartilhar nas redes sociais  Para os leitores de Minecraft e Diário de um banana. Sucesso no YouTube e com mais de 2 milhões e meio de seguidores, o youtuber português Miguel Campos estreia no mundo literário. O livro do Feromonas traz 35 desafios e cada um deles tem uma #hashtag correspondente para ser compartilhada no Facebook, Twitter ou Instagram – junto de uma foto ou vídeo do desafio realizado. • Miguel Campos, mais conhecido por Feromonas, é um fenômeno no YouTube em Portugal, com mais de dois milhões de seguidores no seu canal Fer0m0nas, onde cria gameplays, sketches e desafios. • O canal Feromonas também é adorado pelos brasileiros e pelos fãs de Minecraft de todo o mundo \n",
      "\r\n",
      "                           Os tempos mudaram, mas e o amor? Continua a dar aquele frio na barriga e fazer os jovens atravessarem quilômetros para viver uma paixão? Em \"O Amor nos Tempos de #Likes\", quatro booktubers se inspiram em três histórias da literatura para criar suas versões de contos românticos na era digital. Uma bela, jovem e famosa youtuber com medo do amor; um casal inesperado em um encontro às escuras (literalmente) e dois meninos apaixonados por livros tentando entender quem são e o que querem são os protagonistas destes contos que evocam \"Orgulho e Preconceito\" (Pam Gonçalves), \"Dom Casmurro\" (Bel Rodrigues) e \"Romeu e Julieta\" (Pedrugo). \n",
      "\r\n",
      "                           The X-Files meets The X-Men in this digital original companion series that's set in the world of Pittacus Lore’s #1 New York Times bestselling I Am Number Four series and its spin-off series, the Lorien Legacies Reborn. This is the fourth 100-page novella, continuing the electrifying story of fan favorite characters Six and Sam. The couple may have decided to leave Peter McKenna’s covert organization, but they still have unfinished business. Six and Sam feel responsible for Ghost, one of the young Human Garde they’d met back in New Orleans. They’re not sure why the girl turned against them in Mexico, but they are determined to track her down and get some answers. But are they chasing after a friend or a foe? And will they need to rescue her or defeat her? When the group finally makes contact, it seems like they might be able to convince Ghost to come back to the Academy. That is until then their plans go up in flames, forcing Six and Sam to jump into action. Without any backup from McKenna or the HGA. Without their Legacies fully returned. And without a clue as to who their real enemy is. \n",
      "\r\n",
      "                           Hailed as \"the world's preacher,\" Billy Graham enjoyed a career that spanned six decades and his ministry of faith touched the hearts and souls of millions. In Just As I Am, a #1 New York Times Bestseller, Graham reveals his life story in what the Chicago Tribune calls \"a disarmingly honest autobiography.\" With down-to-earth warmth and candor, Graham tells the stories of the events and encounters that helped shape his life. He recounts meetings with presidents, celebrities, and world leaders, including Harry S. Truman, Winston Churchill, Queen Elizabeth, and the Shah of Iran, and shares his own spiritual journey as he movingly reflects on his personal life and relationships. This is an inspirational and unforgettable portrait that will be treasured by readers everywhere. \n",
      "\r\n",
      "                           On the first anniversary of the events at Parkland, the acclaimed, New York Times bestselling author of Columbine offers an intimate, deeply moving account of the extraordinary teenage survivors who became activists and pushed back against the NRA and feckless Congressional leaders--inspiring millions of Americans to join their grassroots #neveragain movement. Nineteen years ago, Dave Cullen was among the first to arrive at Columbine High, even before most of the SWAT teams went in. While writing his acclaimed account of the tragedy, he suffered two bouts of secondary PTSD. He covered all the later tragedies from a distance, working with a cadre of experts cultivated from academia and the FBI, but swore he would never return to the scene of a ghastly crime. But in March 2018, Cullen went to Marjory Stoneman Douglas High School because something radically different was happening. In nearly twenty years witnessing the mass shootings epidemic escalate, he was stunned and awed by the courage, anger, and conviction of the high school's students. Refusing to allow adults and the media to shape their story, these remarkable adolescents took control, using their grief as a catalyst for change, transforming tragedy into a movement of astonishing hope that has galvanized a nation. Cullen unfolds the story of Parkland through the voices of key participants whose diverse personalities and outlooks comprise every facet of the movement. Instead of taking us into the minds of the killer, he takes us into the hearts of the Douglas students as they cope with the common concerns of high school students everywhere--awaiting college acceptance letters, studying for mid-term exams, competing against their athletic rivals, putting together the yearbook, staging the musical Spring Awakening, enjoying prom and graduation--while moving forward from a horrific event that has altered them forever. Deeply researched and beautifully told, Parkland is an in-depth examination of this pivotal moment in American culture--and an up-close portrait that reveals what these extraordinary young people are like as kids. As it celebrates the passion of these astonishing students who are making history, this spellbinding book is an inspiring call to action for lasting change. \n"
     ]
    }
   ],
   "source": [
    "for sinopse in df['sinopse']:\n",
    "    if '#' in str(sinopse):\n",
    "        print(sinopse)"
   ]
  },
  {
   "cell_type": "code",
   "execution_count": 10,
   "metadata": {},
   "outputs": [],
   "source": [
    "#Count number of characters in each string\n",
    "def countCharactersInEachString():\n",
    "    charactersCount = []\n",
    "    for synopsis in df['sinopse']:\n",
    "        charactersCount.append(len(str(synopsis)))\n",
    "    return charactersCount"
   ]
  },
  {
   "cell_type": "code",
   "execution_count": 22,
   "metadata": {},
   "outputs": [],
   "source": [
    "#Count number of words in each string\n",
    "def countWordsInEachString():\n",
    "    wordsCount = []\n",
    "    for synopsis in df['sinopse']:\n",
    "        words = word_tokenize(str(synopsis))\n",
    "        wordsCount.append(len(words))\n",
    "    return wordsCount"
   ]
  },
  {
   "cell_type": "code",
   "execution_count": 23,
   "metadata": {},
   "outputs": [],
   "source": [
    "#Extract some basic statistics about synopsis\n",
    "def extractBasicStatisticsAboutSynopsis(arrayOfSizes):\n",
    "    synopsisLength = np.array(arrayOfSizes)\n",
    "    basicStatistics = \"\\t\"   \n",
    "    basicStatistics += \"Arithmetic Mean: \" + str(np.mean(synopsisLength)) + \"\\n\\t\"\n",
    "    basicStatistics += \"Median: \" + str(np.median(synopsisLength)) + \"\\n\\t\"\n",
    "    basicStatistics += \"Highest Value: \" + str(np.max(synopsisLength)) + \"\\n\\t\"\n",
    "    basicStatistics += \"Lowest Value: \" + str(np.min(synopsisLength)) + \"\\n\\t\"\n",
    "    basicStatistics += \"Mid-range: \" + str((np.max(synopsisLength)-np.min(synopsisLength))/2) + \"\\n\\t\"\n",
    "    basicStatistics += \"Variance: \" + str(np.var(synopsisLength,ddof=1)) + \"\\n\\t\"\n",
    "    basicStatistics += \"Standard Deviation: \" + str(np.std(synopsisLength,ddof=1)) + \"\\n\\t\"\n",
    "    return basicStatistics"
   ]
  },
  {
   "cell_type": "code",
   "execution_count": 24,
   "metadata": {},
   "outputs": [],
   "source": [
    "def extractPercentilesAboutSynopsis(arrayOfSizes):\n",
    "    synopsisLength = np.array(arrayOfSizes)\n",
    "    percentiles = \"Percentiles: \" + \"\\n\\t\"\n",
    "    count = 0.5\n",
    "    while count <= 100:\n",
    "        percentiles += \"Percentile \" + str(count) + \": \" + str(np.percentile(arrayOfSizes,count)) + \"\\n\\t\"\n",
    "        count += 0.5\n",
    "    return percentiles"
   ]
  },
  {
   "cell_type": "code",
   "execution_count": 129,
   "metadata": {},
   "outputs": [],
   "source": [
    "#Extract types of dataset columns\n",
    "def extractTypeOfAllColumns():\n",
    "    log = \"\\t\"\n",
    "    for column in df:\n",
    "        log += str(column) + \": \" + str(df.dtypes[column]) + \"\\n\\t\"\n",
    "    return log"
   ]
  },
  {
   "cell_type": "code",
   "execution_count": 127,
   "metadata": {},
   "outputs": [
    {
     "name": "stdout",
     "output_type": "stream",
     "text": [
      "\tisbn-10: 0.0\n",
      "\tisbn-13: 0.0\n",
      "\ttitulo: 0.0\n",
      "\tautor: 0.0\n",
      "\teditora: 0.0\n",
      "\tano: 0.0\n",
      "\tpaginas: 0.0\n",
      "\tidioma: 0.0\n",
      "\tleram: 0.0\n",
      "\tlendo: 0.0\n",
      "\tqueremLer: 0.0\n",
      "\trelendo: 0.0\n",
      "\tabandonos: 0.0\n",
      "\tresenhas: 0.0\n",
      "\tnota: 0.0\n",
      "\tfavoritos: 0.0\n",
      "\tdesejados: 0.0\n",
      "\ttrocam: 0.0\n",
      "\tavaliaram: 0.0\n",
      "\tcincoEstrelas: 0.0\n",
      "\tquatroEstrelas: 0.0\n",
      "\ttresEstrelas: 0.0\n",
      "\tduasEstrelas: 0.0\n",
      "\tumaEstrela: 0.0\n",
      "\tavaliacoesHomens: 0.0\n",
      "\tavaliacoesMulheres: 0.0\n",
      "\tsinopse: 0.0\n",
      "\t\n",
      "\n"
     ]
    }
   ],
   "source": [
    "#Count the null fields in each column\n",
    "def extractNullFieldsInAllColumns():\n",
    "    log = \"\\t\"\n",
    "    for column in df:\n",
    "        array = [nullValue for nullValue in df[column] if str(nullValue) == 'nan']\n",
    "        log += str(column)+\": \"+str(len(array)*100/df.shape[0]) + \"\\n\\t\"\n",
    "    log += \"\\n\"\n",
    "    return log\n",
    "print(extractNullFieldsInAllColumns())"
   ]
  },
  {
   "cell_type": "code",
   "execution_count": 27,
   "metadata": {},
   "outputs": [],
   "source": [
    "#Extract some statistics about this Dataset\n",
    "def extractStatisticsFromDataset(title):\n",
    "    log = title + \"\\n\\n\"\n",
    "    log += \"Shape of Dataset: \" + str(df.shape[0]) + \" rows and \" + str(df.shape[1]) + \" columns\" + \"\\n\\n\"\n",
    "    log += \"Type of each column: \" + \"\\n\"\n",
    "    log += extractTypeOfAllColumns()\n",
    "    log += \"\\n\"\n",
    "    log += \"Percentage of Null Values per column:\" + \"\\n\"\n",
    "    log += extractNullFieldsInAllColumns()\n",
    "    log += \"Statistics of Synopsis Length (Characters):\" + \"\\n\"\n",
    "    charactersCount = countCharactersInEachString()\n",
    "    log += extractBasicStatisticsAboutSynopsis(charactersCount) + \"\\n\"\n",
    "    log += extractPercentilesAboutSynopsis(charactersCount) + \"\\n\"\n",
    "    log += \"Statistics of Synopsis Length (Words):\" + \"\\n\"\n",
    "    wordsCount = countWordsInEachString()\n",
    "    log += extractBasicStatisticsAboutSynopsis(wordsCount) + \"\\n\"\n",
    "    log += extractPercentilesAboutSynopsis(wordsCount) + \"\\n\"\n",
    "    return log"
   ]
  },
  {
   "cell_type": "code",
   "execution_count": 46,
   "metadata": {},
   "outputs": [],
   "source": [
    "with open('C:/Users/LuisRicardoFerraz/Documents/personal/projects/book-similarity/test/tutorial/tutorial/spiders/logDatasetInicial.txt','w') as log:\n",
    "    log.write(extractStatisticsFromDataset(\"Statistics of Dataset - Created recently\"))"
   ]
  },
  {
   "cell_type": "code",
   "execution_count": 97,
   "metadata": {},
   "outputs": [],
   "source": [
    "df = df.drop(['subtitulo','generos','tags'],1)"
   ]
  },
  {
   "cell_type": "code",
   "execution_count": 115,
   "metadata": {
    "scrolled": true
   },
   "outputs": [],
   "source": [
    "#Remove null fields from a list of columns in DataFrame\n",
    "df = df.dropna(axis=0,how='any',subset=['isbn-10','isbn-13','titulo','autor','editora','ano','paginas','leram','lendo','queremLer','relendo','abandonos','resenhas','nota','favoritos','desejados','trocam','avaliaram','cincoEstrelas','quatroEstrelas','tresEstrelas','duasEstrelas','umaEstrela','avaliacoesHomens','avaliacoesMulheres','sinopse'],inplace=False)\n",
    "df = df.dropna(axis=0,how='any',subset=['sinopse'],inplace=False)\n",
    "df = df.dropna(axis=0,how='any',subset=['ano'],inplace=False)\n",
    "df = df.dropna(axis=0,how='any',subset=['sinopse'],inplace=False)\n",
    "df = df.dropna(axis=0,how='any',subset=['ano'],inplace=False)"
   ]
  },
  {
   "cell_type": "code",
   "execution_count": 100,
   "metadata": {},
   "outputs": [],
   "source": [
    "with open(filePath+'logDatasetSemValoresNulos.txt','w') as log:\n",
    "    log.write(extractStatisticsFromDataset(\"Statistics of Dataset - Without null values\"))"
   ]
  },
  {
   "cell_type": "code",
   "execution_count": 101,
   "metadata": {},
   "outputs": [],
   "source": [
    "df.to_csv(filePath+'datasetSemCamposNulos.csv')"
   ]
  },
  {
   "cell_type": "code",
   "execution_count": 102,
   "metadata": {},
   "outputs": [],
   "source": [
    "df = pd.read_csv(filePath+'datasetSemCamposNulos.csv')\n",
    "df = df.drop(['Unnamed: 0'],1)"
   ]
  },
  {
   "cell_type": "code",
   "execution_count": 109,
   "metadata": {},
   "outputs": [],
   "source": [
    "#Remove spaces excess\n",
    "for string in df.columns:\n",
    "    df[string] = [str(item).strip() for item in df[string]]"
   ]
  },
  {
   "cell_type": "code",
   "execution_count": 111,
   "metadata": {},
   "outputs": [],
   "source": [
    "with open(filePath+'logDatasetSemEspacos.txt','w') as log:\n",
    "    log.write(extractStatisticsFromDataset(\"Statistics of Dataset - Without spaces excess\"))"
   ]
  },
  {
   "cell_type": "code",
   "execution_count": 112,
   "metadata": {},
   "outputs": [],
   "source": [
    "df.to_csv(filePath+'datasetSemEspacos.csv')"
   ]
  },
  {
   "cell_type": "code",
   "execution_count": 113,
   "metadata": {},
   "outputs": [],
   "source": [
    "df = pd.read_csv(filePath+'datasetSemEspacos.csv')\n",
    "df = df.drop(['Unnamed: 0'],1)"
   ]
  },
  {
   "cell_type": "code",
   "execution_count": 87,
   "metadata": {},
   "outputs": [],
   "source": [
    "df = df.dropna(axis=0,how='any',subset=['sinopse'],inplace=False)"
   ]
  },
  {
   "cell_type": "code",
   "execution_count": 37,
   "metadata": {},
   "outputs": [],
   "source": [
    "def removePercentage(value):\n",
    "    return int(value.replace('%',''))/100"
   ]
  },
  {
   "cell_type": "code",
   "execution_count": 117,
   "metadata": {},
   "outputs": [],
   "source": [
    "df = df[df['ano'].map(len) == 9]\n",
    "df['ano'] = [ano.replace('Ano: ', '') for ano in df['ano']]\n",
    "df = df[df['idioma'].map(len) == 17]\n",
    "df['idioma'] = [idioma.replace('Idioma: ', '') for idioma in df['idioma']]\n",
    "df['paginas'] = [pagina.replace('Páginas: ', '') for pagina in df['paginas']]\n",
    "for column in ['favoritos','desejados','trocam','avaliaram']:\n",
    "    df[column] = [re.search('[0-9]+',value).group() for value in df[column]]\n",
    "for column in ['cincoEstrelas','quatroEstrelas','tresEstrelas','duasEstrelas','umaEstrela','avaliacoesHomens','avaliacoesMulheres']:\n",
    "    df[column] = [removePercentage(value) for value in df[column]]"
   ]
  },
  {
   "cell_type": "code",
   "execution_count": 119,
   "metadata": {},
   "outputs": [],
   "source": [
    "with open(filePath+'logDatasetComOutrosCamposNormalizados.txt','w') as log:\n",
    "    log.write(extractStatisticsFromDataset(\"Statistics of Dataset - All columns but Synopsis\"))"
   ]
  },
  {
   "cell_type": "code",
   "execution_count": 120,
   "metadata": {},
   "outputs": [],
   "source": [
    "df.to_csv(filePath+'datasetComOutrosCamposNormalizados.csv')"
   ]
  },
  {
   "cell_type": "code",
   "execution_count": 130,
   "metadata": {},
   "outputs": [],
   "source": [
    "df = pd.read_csv(filePath+'datasetComOutrosCamposNormalizados.csv')\n",
    "df = df.drop(['Unnamed: 0'],1)"
   ]
  },
  {
   "cell_type": "code",
   "execution_count": 125,
   "metadata": {},
   "outputs": [],
   "source": [
    "def normalizeColumnTypes():\n",
    "    for column in ['isbn-10', 'isbn-13', 'titulo', 'autor', 'editora', 'idioma', 'sinopse']:\n",
    "        df[column] = df[column].astype(str)\n",
    "    for column in ['ano', 'paginas', 'leram', 'lendo', 'queremLer', 'relendo', 'abandonos', 'resenhas', 'favoritos', 'desejados', 'trocam', 'avaliaram']:\n",
    "        df[column] = df[column].astype(int)\n",
    "    for column in ['nota', 'cincoEstrelas', 'quatroEstrelas', 'tresEstrelas', 'duasEstrelas', 'umaEstrela', 'avaliacoesHomens', 'avaliacoesMulheres']:\n",
    "        df[column] = df[column].astype(float)"
   ]
  },
  {
   "cell_type": "code",
   "execution_count": 131,
   "metadata": {},
   "outputs": [],
   "source": [
    "normalizeColumnTypes()"
   ]
  },
  {
   "cell_type": "code",
   "execution_count": 132,
   "metadata": {},
   "outputs": [],
   "source": [
    "df = df[df['avaliaram'] <= df['leram']]\n",
    "df = df[df['favoritos'] <= df['leram']]\n",
    "df = df[df['relendo'] <= df['leram']]\n",
    "df = df[df['resenhas'] <= df['leram']]"
   ]
  },
  {
   "cell_type": "code",
   "execution_count": 133,
   "metadata": {},
   "outputs": [],
   "source": [
    "with open(filePath+'logDatasetSemOutliers.txt','w') as log:\n",
    "    log.write(extractStatisticsFromDataset(\"Statistics of Dataset - Outliers removed\"))"
   ]
  },
  {
   "cell_type": "code",
   "execution_count": 134,
   "metadata": {},
   "outputs": [],
   "source": [
    "df.to_csv(filePath+'datasetSemOutliers.csv')"
   ]
  },
  {
   "cell_type": "code",
   "execution_count": 224,
   "metadata": {},
   "outputs": [],
   "source": [
    "df = pd.read_csv(filePath+'datasetSemOutliers.csv')\n",
    "df = df.drop(['Unnamed: 0'],1)"
   ]
  },
  {
   "cell_type": "code",
   "execution_count": 225,
   "metadata": {},
   "outputs": [
    {
     "name": "stdout",
     "output_type": "stream",
     "text": [
      "(11039, 27)\n"
     ]
    }
   ],
   "source": [
    "print(df.shape)"
   ]
  },
  {
   "cell_type": "code",
   "execution_count": 226,
   "metadata": {},
   "outputs": [],
   "source": [
    "#Remove duplicates from DataFrame\n",
    "df = df.drop_duplicates(subset=['isbn-10','isbn-13'],keep='first',inplace=False)"
   ]
  },
  {
   "cell_type": "code",
   "execution_count": 227,
   "metadata": {},
   "outputs": [],
   "source": [
    "with open(filePath+'logDatasetSemDuplicatas.txt','w') as log:\n",
    "    log.write(extractStatisticsFromDataset(\"Statistics of Dataset - Duplicates removed\"))\n",
    "df.to_csv(filePath+'datasetSemDuplicatas.csv')"
   ]
  }
 ],
 "metadata": {
  "kernelspec": {
   "display_name": "Python 3",
   "language": "python",
   "name": "python3"
  },
  "language_info": {
   "codemirror_mode": {
    "name": "ipython",
    "version": 3
   },
   "file_extension": ".py",
   "mimetype": "text/x-python",
   "name": "python",
   "nbconvert_exporter": "python",
   "pygments_lexer": "ipython3",
   "version": "3.7.3"
  }
 },
 "nbformat": 4,
 "nbformat_minor": 2
}
