{
 "cells": [
  {
   "cell_type": "code",
   "execution_count": 33,
   "metadata": {},
   "outputs": [],
   "source": [
    "#Import packages\n",
    "import pandas as pd\n",
    "from pandas import DataFrame\n",
    "import numpy as np\n",
    "import re\n",
    "import nltk\n",
    "from nltk.tokenize import word_tokenize"
   ]
  },
  {
   "cell_type": "code",
   "execution_count": 2,
   "metadata": {},
   "outputs": [],
   "source": [
    "#Define where's the CSV file\n",
    "filePath = 'C:/Users/LuisRicardoFerraz/Documents/personal/projects/book-similarity/test/tutorial/tutorial/spiders/newDataSetCopy.csv'"
   ]
  },
  {
   "cell_type": "code",
   "execution_count": 3,
   "metadata": {},
   "outputs": [],
   "source": [
    "#Import CSV file to a DataFrame\n",
    "df = pd.read_csv(filePath)"
   ]
  },
  {
   "cell_type": "code",
   "execution_count": 23,
   "metadata": {},
   "outputs": [],
   "source": [
    "#Count number of characters in each string\n",
    "def countCharactersInEachString():\n",
    "    charactersCount = []\n",
    "    for synopsis in df['sinopse']:\n",
    "        charactersCount.append(len(str(synopsis)))\n",
    "    return charactersCount"
   ]
  },
  {
   "cell_type": "code",
   "execution_count": 37,
   "metadata": {},
   "outputs": [],
   "source": [
    "#Count number of words in each string\n",
    "def countWordsInEachString():\n",
    "    wordsCount = []\n",
    "    for synopsis in df['sinopse']:\n",
    "        words = word_tokenize(str(synopsis))\n",
    "        wordsCount.append(len(words))\n",
    "    return wordsCount"
   ]
  },
  {
   "cell_type": "code",
   "execution_count": 29,
   "metadata": {},
   "outputs": [],
   "source": [
    "#Extract some basic statistics about synopsis\n",
    "def extractBasicStatisticsAboutSynopsis(charactersCount):\n",
    "    synopsisLength = np.array(charactersCount)\n",
    "    basicStatistics = \"\\t\"   \n",
    "    basicStatistics += \"Arithmetic Mean: \" + str(np.mean(synopsisLength)) + \"\\n\\t\"\n",
    "    basicStatistics += \"Median: \" + str(np.median(synopsisLength)) + \"\\n\\t\"\n",
    "    basicStatistics += \"Highest Value: \" + str(np.max(synopsisLength)) + \"\\n\\t\"\n",
    "    basicStatistics += \"Lowest Value: \" + str(np.min(synopsisLength)) + \"\\n\\t\"\n",
    "    basicStatistics += \"Mid-range: \" + str((np.max(synopsisLength)-np.min(synopsisLength))/2) + \"\\n\\t\"\n",
    "    basicStatistics += \"Variance: \" + str(np.var(synopsisLength,ddof=1)) + \"\\n\\t\"\n",
    "    basicStatistics += \"Standard Deviation: \" + str(np.std(synopsisLength,ddof=1)) + \"\\n\\t\"\n",
    "    return basicStatistics"
   ]
  },
  {
   "cell_type": "code",
   "execution_count": 38,
   "metadata": {},
   "outputs": [
    {
     "name": "stdout",
     "output_type": "stream",
     "text": [
      "Statistics of Dataset - Created recently\n",
      "\n",
      "Shape of Dataset: 13647 rows and 30 columns\n",
      "\n",
      "Type of each column: \n",
      "\tisbn-10: object\n",
      "\tisbn-13: object\n",
      "\ttitulo: object\n",
      "\tsubtitulo: object\n",
      "\tautor: object\n",
      "\teditora: object\n",
      "\tano: object\n",
      "\tpaginas: object\n",
      "\tidioma: object\n",
      "\tleram: int64\n",
      "\tlendo: int64\n",
      "\tqueremLer: int64\n",
      "\trelendo: int64\n",
      "\tabandonos: int64\n",
      "\tresenhas: int64\n",
      "\tnota: float64\n",
      "\tfavoritos: object\n",
      "\tdesejados: object\n",
      "\ttrocam: object\n",
      "\tavaliaram: object\n",
      "\tcincoEstrelas: object\n",
      "\tquatroEstrelas: object\n",
      "\ttresEstrelas: object\n",
      "\tduasEstrelas: object\n",
      "\tumaEstrela: object\n",
      "\tavaliacoesHomens: object\n",
      "\tavaliacoesMulheres: object\n",
      "\tgeneros: object\n",
      "\ttags: object\n",
      "\tsinopse: object\n",
      "\t\n",
      "Statistics of Synopsis Length (Characters):\n",
      "\tArithmetic Mean: 895.6522312596175\n",
      "\tMedian: 782.0\n",
      "\tHighest Value: 8430\n",
      "\tLowest Value: 3\n",
      "\tMid-range: 4213.5\n",
      "\tVariance: 321951.01344639884\n",
      "\tStandard Deviation: 567.4072729939218\n",
      "\t\n",
      "Statistics of Synopsis Length (Words:)\n",
      "\tArithmetic Mean: 162.0361251557119\n",
      "\tMedian: 141.0\n",
      "\tHighest Value: 1536\n",
      "\tLowest Value: 0\n",
      "\tMid-range: 768.0\n",
      "\tVariance: 11370.310654426077\n",
      "\tStandard Deviation: 106.63165878118035\n",
      "\t\n",
      "\n"
     ]
    }
   ],
   "source": [
    "#Extract some statistics about this Dataset\n",
    "def extractStatisticsFromNewDataset():\n",
    "    log = \"Statistics of Dataset - Created recently\" + \"\\n\\n\"\n",
    "    log += \"Shape of Dataset: \" + str(df.shape[0]) + \" rows and \" + str(df.shape[1]) + \" columns\" + \"\\n\\n\"\n",
    "    log += \"Type of each column: \" + \"\\n\\t\"\n",
    "    for column in df:\n",
    "        log += str(column) + \": \" + str(df.dtypes[column]) + \"\\n\\t\"\n",
    "    log += \"\\n\"\n",
    "    log += \"Statistics of Synopsis Length (Characters):\" + \"\\n\"\n",
    "    charactersCount = countCharactersInEachString()\n",
    "    log += extractBasicStatisticsAboutSynopsis(charactersCount) + \"\\n\"\n",
    "    log += \"Statistics of Synopsis Length (Words:)\" + \"\\n\"\n",
    "    wordsCount = countWordsInEachString()\n",
    "    log += extractBasicStatisticsAboutSynopsis(wordsCount) + \"\\n\"\n",
    "    print(log)\n",
    "extractStatisticsFromNewDataset()"
   ]
  },
  {
   "cell_type": "code",
   "execution_count": 39,
   "metadata": {},
   "outputs": [],
   "source": [
    "#TODO: Create a new function to show the distribution of Synopsis Length (for characters and words count)"
   ]
  },
  {
   "cell_type": "code",
   "execution_count": 7,
   "metadata": {
    "scrolled": true
   },
   "outputs": [],
   "source": [
    "#Remove null fields from a list of columns in DataFrame\n",
    "df = df.dropna(axis=0,how='any',subset=['isbn-10','isbn-13','titulo','autor','editora','ano','paginas','leram','lendo','queremLer','relendo','abandonos','resenhas','nota','favoritos','desejados','trocam','avaliaram','cincoEstrelas','quatroEstrelas','tresEstrelas','duasEstrelas','umaEstrela','avaliacoesHomens','avaliacoesMulheres','sinopse'],inplace=False)"
   ]
  },
  {
   "cell_type": "code",
   "execution_count": 9,
   "metadata": {},
   "outputs": [],
   "source": [
    "for string in df.columns:\n",
    "    df[string] = [str(item).strip() for item in df[string]]"
   ]
  },
  {
   "cell_type": "code",
   "execution_count": 12,
   "metadata": {},
   "outputs": [],
   "source": [
    "#Remove duplicates from DataFrame\n",
    "df = df.drop_duplicates(subset=['isbn-10','isbn-13','titulo'],keep='first',inplace=False)"
   ]
  },
  {
   "cell_type": "code",
   "execution_count": 15,
   "metadata": {},
   "outputs": [],
   "source": [
    "df = df[df['ano'].map(len) == 9]\n",
    "df['ano'] = [ano.replace('Ano: ', '') for ano in df['ano']]"
   ]
  },
  {
   "cell_type": "code",
   "execution_count": 17,
   "metadata": {},
   "outputs": [],
   "source": [
    "df = df[df['idioma'].map(len) == 17]\n",
    "df['idioma'] = [idioma.replace('Idioma: ', '') for idioma in df['idioma']]"
   ]
  },
  {
   "cell_type": "code",
   "execution_count": 21,
   "metadata": {},
   "outputs": [],
   "source": [
    "df['paginas'] = [pagina.replace('Páginas: ', '') for pagina in df['paginas']]"
   ]
  },
  {
   "cell_type": "code",
   "execution_count": 38,
   "metadata": {
    "scrolled": true
   },
   "outputs": [],
   "source": [
    "for column in ['favoritos','desejados','trocam','avaliaram']:\n",
    "    df[column] = [re.search('[0-9]+',value).group() for value in df[column]]"
   ]
  },
  {
   "cell_type": "code",
   "execution_count": 60,
   "metadata": {},
   "outputs": [],
   "source": [
    "def removePercentage(value):\n",
    "    return int(value.replace('%',''))/100"
   ]
  },
  {
   "cell_type": "code",
   "execution_count": 63,
   "metadata": {},
   "outputs": [],
   "source": [
    "for column in ['cincoEstrelas','quatroEstrelas','tresEstrelas','duasEstrelas','umaEstrela','avaliacoesHomens','avaliacoesMulheres']:\n",
    "    df[column] = [removePercentage(value) for value in df[column]]"
   ]
  },
  {
   "cell_type": "code",
   "execution_count": 64,
   "metadata": {},
   "outputs": [],
   "source": [
    "#Export DataFrame to a new CSV file\n",
    "df.to_csv('C:/Users/LuisRicardoFerraz/Documents/personal/projects/book-similarity/test/tutorial/tutorial/spiders/newDatasetClean.csv')"
   ]
  }
 ],
 "metadata": {
  "kernelspec": {
   "display_name": "Python 3",
   "language": "python",
   "name": "python3"
  },
  "language_info": {
   "codemirror_mode": {
    "name": "ipython",
    "version": 3
   },
   "file_extension": ".py",
   "mimetype": "text/x-python",
   "name": "python",
   "nbconvert_exporter": "python",
   "pygments_lexer": "ipython3",
   "version": "3.7.0"
  }
 },
 "nbformat": 4,
 "nbformat_minor": 2
}
