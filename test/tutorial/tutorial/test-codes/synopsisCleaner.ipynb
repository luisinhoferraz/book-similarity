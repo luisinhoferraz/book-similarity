{
 "cells": [
  {
   "cell_type": "code",
   "execution_count": 1,
   "metadata": {},
   "outputs": [],
   "source": [
    "#! pip install googletrans\n",
    "import re\n",
    "from string import punctuation\n",
    "from googletrans import Translator\n",
    "import pandas as pd\n",
    "from pandas import DataFrame\n",
    "import json"
   ]
  },
  {
   "cell_type": "code",
   "execution_count": 2,
   "metadata": {},
   "outputs": [],
   "source": [
    "#Define where's the CSV file\n",
    "filePath = 'C:/Users/LuisRicardoFerraz/Documents/personal/projects/book-similarity/test/tutorial/tutorial/spiders/synopsisCleaned.csv'"
   ]
  },
  {
   "cell_type": "code",
   "execution_count": 3,
   "metadata": {},
   "outputs": [],
   "source": [
    "#Import CSV file to a DataFrame\n",
    "df = pd.read_csv(filePath)"
   ]
  },
  {
   "cell_type": "code",
   "execution_count": 5,
   "metadata": {},
   "outputs": [],
   "source": [
    "def fixDotsProblem(text):\n",
    "    occurrences = re.findall('\\.[A-Za-z]',text)\n",
    "    for string in occurrences:\n",
    "        fixing = string.replace('.','. ')\n",
    "        text = text.replace(string,fixing)\n",
    "    return text"
   ]
  },
  {
   "cell_type": "code",
   "execution_count": 6,
   "metadata": {},
   "outputs": [],
   "source": [
    "def fixPunctuation(text):\n",
    "    occurrences = re.findall('[áàãâäéèêëíìîïóòõôöúùûüA-Za-z][-./?!,\":;()\\'][áàãâäéèêëíìîïóòõôöúùûüA-Za-z]',text)\n",
    "    for string in occurrences:\n",
    "        fixing = re.sub('[-./?!,\":;()\\']+',' ', string)\n",
    "        text = text.replace(string,fixing)\n",
    "    return text"
   ]
  },
  {
   "cell_type": "code",
   "execution_count": 7,
   "metadata": {},
   "outputs": [],
   "source": [
    "def removePunctuation(text):\n",
    "    punctuationList = set(list(punctuation) + ['\\u201c','\\u201d','\\u2013'])\n",
    "    for signal in punctuationList:\n",
    "        text = text.replace(signal,'')\n",
    "    return text"
   ]
  },
  {
   "cell_type": "code",
   "execution_count": 8,
   "metadata": {},
   "outputs": [],
   "source": [
    "def cleanExtraSpaces(text):\n",
    "    text = re.sub('[ ]+',' ',text)\n",
    "    return text"
   ]
  },
  {
   "cell_type": "code",
   "execution_count": 9,
   "metadata": {},
   "outputs": [],
   "source": [
    "def cleanText(text):\n",
    "    text = fixDotsProblem(text)\n",
    "    text = fixPunctuation(text)\n",
    "    text = removePunctuation(text)\n",
    "    text = cleanExtraSpaces(text)\n",
    "    text = text.lower()\n",
    "    return text"
   ]
  },
  {
   "cell_type": "code",
   "execution_count": 10,
   "metadata": {},
   "outputs": [],
   "source": [
    "#cleanSynopsisArray = []\n",
    "#for synopsis in df['sinopse']:\n",
    "#    cleanSynopsis = cleanText(str(synopsis))\n",
    "#    cleanSynopsisArray.append(cleanSynopsis)\n",
    "df['sinopse'] = [cleanText(str(synopsis)) for synopsis in df['sinopse']]"
   ]
  },
  {
   "cell_type": "code",
   "execution_count": 6,
   "metadata": {},
   "outputs": [
    {
     "name": "stdout",
     "output_type": "stream",
     "text": [
      "(11299, 33)\n"
     ]
    }
   ],
   "source": [
    "print(df.shape)"
   ]
  },
  {
   "cell_type": "code",
   "execution_count": 5,
   "metadata": {},
   "outputs": [],
   "source": [
    "df = df.dropna(axis=0,how='any',subset=['sinopse'],inplace=False)"
   ]
  },
  {
   "cell_type": "code",
   "execution_count": null,
   "metadata": {},
   "outputs": [],
   "source": [
    "translator = Translator()\n",
    "df['sinopse'] = [synopsis for synopsis in df['sinopse'] if translator.detect(synopsis[:50]).lang == 'pt']\n",
    "#i = 0\n",
    "#for synopsis in cleanSynopsisArray:\n",
    "#    i = i+1\n",
    "#    if translator.detect(json.loads(synopsis)).lang == 'en':\n",
    "#        print(str(synopsis))\n",
    "#    if i%100 == 0:\n",
    "#        print(i)"
   ]
  },
  {
   "cell_type": "code",
   "execution_count": 19,
   "metadata": {},
   "outputs": [],
   "source": [
    "#Export DataFrame to a new CSV file\n",
    "df.to_csv('C:/Users/LuisRicardoFerraz/Documents/personal/projects/book-similarity/test/tutorial/tutorial/spiders/.csv')"
   ]
  }
 ],
 "metadata": {
  "kernelspec": {
   "display_name": "Python 3",
   "language": "python",
   "name": "python3"
  },
  "language_info": {
   "codemirror_mode": {
    "name": "ipython",
    "version": 3
   },
   "file_extension": ".py",
   "mimetype": "text/x-python",
   "name": "python",
   "nbconvert_exporter": "python",
   "pygments_lexer": "ipython3",
   "version": "3.7.0"
  }
 },
 "nbformat": 4,
 "nbformat_minor": 2
}
