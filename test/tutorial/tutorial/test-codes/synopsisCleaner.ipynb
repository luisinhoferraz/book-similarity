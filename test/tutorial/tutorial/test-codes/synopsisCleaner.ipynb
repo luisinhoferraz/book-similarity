{
 "cells": [
  {
   "cell_type": "code",
   "execution_count": 44,
   "metadata": {},
   "outputs": [],
   "source": [
    "import re\n",
    "from string import punctuation\n",
    "import pandas as pd\n",
    "from pandas import DataFrame\n",
    "import json\n",
    "import nltk\n",
    "from nltk.tokenize import word_tokenize\n",
    "from nltk.corpus import stopwords\n",
    "from string import punctuation\n",
    "import numpy as np"
   ]
  },
  {
   "cell_type": "code",
   "execution_count": 79,
   "metadata": {},
   "outputs": [],
   "source": [
    "#Define where's the CSV file\n",
    "filePath = 'C:/Users/LuisRicardoFerraz/Documents/personal/projects/book-similarity/test/tutorial/tutorial/spiders/dataSetNewSteps.csv'"
   ]
  },
  {
   "cell_type": "code",
   "execution_count": 89,
   "metadata": {},
   "outputs": [],
   "source": [
    "#Import CSV file to a DataFrame\n",
    "df = pd.read_csv(filePath)"
   ]
  },
  {
   "cell_type": "code",
   "execution_count": 4,
   "metadata": {},
   "outputs": [],
   "source": [
    "def fixDotsProblem(text):\n",
    "    occurrences = re.findall('\\.[A-Za-z]',text)\n",
    "    for string in occurrences:\n",
    "        fixing = string.replace('.','. ')\n",
    "        text = text.replace(string,fixing)\n",
    "    return text"
   ]
  },
  {
   "cell_type": "code",
   "execution_count": 5,
   "metadata": {},
   "outputs": [],
   "source": [
    "def fixPunctuation(text):\n",
    "    occurrences = re.findall('[áàãâäéèêëíìîïóòõôöúùûüA-Za-z][-./?!,\":;()\\'][áàãâäéèêëíìîïóòõôöúùûüA-Za-z]',text)\n",
    "    for string in occurrences:\n",
    "        fixing = re.sub('[-./?!,\":;()\\']+',' ', string)\n",
    "        text = text.replace(string,fixing)\n",
    "    return text"
   ]
  },
  {
   "cell_type": "code",
   "execution_count": 6,
   "metadata": {},
   "outputs": [],
   "source": [
    "def removePunctuation(text):\n",
    "    punctuationList = set(list(punctuation) + ['\\u201c','\\u201d','\\u2013'])\n",
    "    for signal in punctuationList:\n",
    "        text = text.replace(signal,'')\n",
    "    return text"
   ]
  },
  {
   "cell_type": "code",
   "execution_count": 7,
   "metadata": {},
   "outputs": [],
   "source": [
    "def cleanExtraSpaces(text):\n",
    "    text = re.sub('[ ]+',' ',text)\n",
    "    return text"
   ]
  },
  {
   "cell_type": "code",
   "execution_count": 97,
   "metadata": {},
   "outputs": [],
   "source": [
    "def removeExtraSpacesFromPunctuation(text):\n",
    "    occurrences = re.findall('[áàãâäéèêëíìîïóòõôöúùûüA-Za-z0-9] [-./?!,\":;()\\']',text)\n",
    "    for string in occurrences:\n",
    "        fixing = re.sub(' ','', string)\n",
    "        text = text.replace(string,fixing)\n",
    "    return text"
   ]
  },
  {
   "cell_type": "code",
   "execution_count": 70,
   "metadata": {},
   "outputs": [],
   "source": [
    "def cleanText(text):\n",
    "    text = fixDotsProblem(text)\n",
    "    text = fixPunctuation(text)\n",
    "    #text = removePunctuation(text)\n",
    "    text = cleanExtraSpaces(text)\n",
    "    text = text.lower()\n",
    "    return text"
   ]
  },
  {
   "cell_type": "code",
   "execution_count": 71,
   "metadata": {},
   "outputs": [],
   "source": [
    "df['sinopse'] = [cleanText(str(synopsis)) for synopsis in df['sinopse']]"
   ]
  },
  {
   "cell_type": "code",
   "execution_count": 73,
   "metadata": {},
   "outputs": [
    {
     "name": "stdout",
     "output_type": "stream",
     "text": [
      "(10713, 27)\n"
     ]
    }
   ],
   "source": [
    "#df = df.drop(['Unnamed: 0'],1)\n",
    "print(df.shape)"
   ]
  },
  {
   "cell_type": "code",
   "execution_count": 56,
   "metadata": {},
   "outputs": [],
   "source": [
    "df = df.dropna(axis=0,how='any',subset=['sinopse'],inplace=False)"
   ]
  },
  {
   "cell_type": "code",
   "execution_count": 74,
   "metadata": {},
   "outputs": [],
   "source": [
    "def contarPalavrasNaSinopse():\n",
    "    palavrasNaSinopse = []\n",
    "    for sinopse in df['sinopse']:\n",
    "        palavras = word_tokenize(sinopse)\n",
    "        palavrasNaSinopse.append(len(palavras))\n",
    "    print(len(palavrasNaSinopse))\n",
    "    return palavrasNaSinopse"
   ]
  },
  {
   "cell_type": "code",
   "execution_count": 75,
   "metadata": {},
   "outputs": [],
   "source": [
    "def extrairEstatisticas(palavrasNaSinopse):\n",
    "    synopsisLength = np.array(palavrasNaSinopse)\n",
    "\n",
    "    # Média\n",
    "    print(\"Média: \"+str(np.mean(synopsisLength)))\n",
    "\n",
    "    # Mediana\n",
    "    print(\"Mediana: \"+str(np.median(synopsisLength)))\n",
    "\n",
    "    # Máximo e Mínimo\n",
    "    print(\"Máximo: \"+str(np.max(synopsisLength)))\n",
    "    print(\"Mínimo: \"+str(np.min(synopsisLength)))\n",
    "\n",
    "    # Intervalo médio\n",
    "    print(\"Intervalo médio: \"+str((np.max(synopsisLength)-np.min(synopsisLength))/2))\n",
    "\n",
    "    # Variância e desvio-padrão\n",
    "    print(\"Variância: \"+str(np.var(synopsisLength,ddof=1)))\n",
    "    print(\"desvio-padrão: \"+str(np.std(synopsisLength,ddof=1)))"
   ]
  },
  {
   "cell_type": "code",
   "execution_count": 87,
   "metadata": {},
   "outputs": [],
   "source": [
    "list_stopwords = set(stopwords.words('portuguese'))\n",
    "def removeStopwords(text):\n",
    "    palavras = word_tokenize(text)\n",
    "    palavras_sem_stopwords = [palavra for palavra in palavras if palavra not in list_stopwords]\n",
    "    final_string = \" \".join(palavras_sem_stopwords)\n",
    "    final_string = removeExtraSpacesFromPunctuation(final_string)\n",
    "    return final_string"
   ]
  },
  {
   "cell_type": "code",
   "execution_count": 77,
   "metadata": {},
   "outputs": [
    {
     "name": "stdout",
     "output_type": "stream",
     "text": [
      "10713\n",
      "Média: 174.1065994586017\n",
      "Mediana: 151.0\n",
      "Máximo: 1541\n",
      "Mínimo: 3\n",
      "Intervalo médio: 769.0\n",
      "Variância: 11202.196439826203\n",
      "desvio-padrão: 105.84042913663097\n"
     ]
    },
    {
     "data": {
      "text/plain": [
       "0        uma jovem garota brasileira resolve se aventur...\n",
       "1        \"resgate\" foi a primeira palavra que ouvi quan...\n",
       "2        cage: substantivo: cela, prisão. verbo: prende...\n",
       "3        feyre has returned to the spring court, determ...\n",
       "4        quebrado. irritado. abandonado. era assim que ...\n",
       "5        uma distopia atual, próxima dos dias de hoje, ...\n",
       "6        as histórias de contos de fadas que as criança...\n",
       "7        maitê passos é uma garota linda, de dezessete ...\n",
       "8        existe uma forma de leveza e de graça no simpl...\n",
       "9        um thriller sobre a luta secreta entre o bem e...\n",
       "10       as crônicas de gelo e fogo. jon snow, daenerys...\n",
       "11       duke é um homem simples com uma vida modesta, ...\n",
       "12       o oitavo volume de wild cards injeta ainda mai...\n",
       "13       diana prince, mais conhecida como mulher marav...\n",
       "14       na são paulo do início do século xx, a jovem g...\n",
       "15       antes de se tornar a mulher maravilha, ela era...\n",
       "16       podemos até não viver no paraíso, mas passamos...\n",
       "17       henry cavanaugh, duque de torquil, anseia por ...\n",
       "18       viviane acaba de perder o pai. com a mãe em de...\n",
       "19       nas primeiras horas do dia 16 de dezembro de 1...\n",
       "20       escrito pelo biógrafo oficial de churchill, o ...\n",
       "21       lizzie bennet é uma jovem estudante de comunic...\n",
       "22       ainda recém casado, o conde tristan deixou sua...\n",
       "23       autoras best seller do usa today. melodia do c...\n",
       "24       sterling é uma cidadezinha comum do interior, ...\n",
       "25       o passado de mirabelle está envolto em segredo...\n",
       "26       uma receita apaixonante! pegue uma dose de mag...\n",
       "27       na pequena ilha de thisby, poucos cavaleiros s...\n",
       "28       livro em formato de bolso e com ilustrações de...\n",
       "29       união de sentimentos – anna cleary cate summer...\n",
       "                               ...                        \n",
       "10683    é 1969 no lower east side de nova york e os ru...\n",
       "10684    este livro é a história dos inúmeros e imprová...\n",
       "10685    encontrando gobi é o relato milagroso de dion ...\n",
       "10686    quando os pais de cameron post morrem em um ac...\n",
       "10687    altares ruíram e templos se perderam nas areia...\n",
       "10688    um unicórnio, um menino e o vento, juntos em u...\n",
       "10689    de revoltas populares a golpes militares, de g...\n",
       "10690    newt, tina, queenie e jacob, os amados heróis ...\n",
       "10691    cora é escrava em uma plantação de algodão da ...\n",
       "10692    você conhece o tasty: o popular canal de culin...\n",
       "10693    em tempos difíceis, há uma urgência de entende...\n",
       "10694    neste livro, o premiado autor ilan brenman apr...\n",
       "10695    o conto de beren e lúthien foi, ou tornou se, ...\n",
       "10696    nova edição do guinness world records, o mais ...\n",
       "10697    guerra, amor e vida se unem neste drama profun...\n",
       "10698    bella, uma linda cadelinha vira lata, adotou l...\n",
       "10699    antes do holocausto e da segunda guerra mundia...\n",
       "10700    você já sabe tudo sobre as bff girls? não? ent...\n",
       "10701    não adianta se enganar: o ano só começa mesmo ...\n",
       "10702    \"quando adam st. james colocou os olhos na doc...\n",
       "10703    'um grande barulho ecoou ao redor do mundo, tr...\n",
       "10704    ramon amorim cresceu na pequena cidade de ando...\n",
       "10705    neste livro, o conhecido escritor ilan brenman...\n",
       "10706    o dr. oscar serrallach é um especialista neoze...\n",
       "10707    a vida de rhys cole sempre girou em torno do h...\n",
       "10708    nunca era um grito de vitória, mas sim de dor....\n",
       "10709    sawyer quer ter a própria vida. finn quer esqu...\n",
       "10710    o amor que o finn e eu compartilhamos é do tip...\n",
       "10711    james bradley sabia o que imprensa era capaz d...\n",
       "10712    neste livro você será envolvido por temas emoc...\n",
       "Name: sinopse, Length: 10713, dtype: object"
      ]
     },
     "execution_count": 77,
     "metadata": {},
     "output_type": "execute_result"
    }
   ],
   "source": [
    "palavrasNaSinopse = contarPalavrasNaSinopse()\n",
    "extrairEstatisticas(palavrasNaSinopse)\n",
    "df['sinopse']"
   ]
  },
  {
   "cell_type": "code",
   "execution_count": 78,
   "metadata": {},
   "outputs": [
    {
     "name": "stdout",
     "output_type": "stream",
     "text": [
      "10713\n",
      "Média: 109.12704191169607\n",
      "Mediana: 94.0\n",
      "Máximo: 929\n",
      "Mínimo: 2\n",
      "Intervalo médio: 463.5\n",
      "Variância: 4476.301353244789\n",
      "desvio-padrão: 66.90516686508441\n"
     ]
    },
    {
     "data": {
      "text/plain": [
       "0        jovem garota brasileira resolve aventurar curs...\n",
       "1        `` resgate '' primeira palavra ouvi tiros cess...\n",
       "2        cage : substantivo : cela , prisão . verbo : p...\n",
       "3        feyre has returned to the spring court , deter...\n",
       "4        quebrado . irritado . abandonado . assim toni ...\n",
       "5        distopia atual , próxima dias hoje , sobre emp...\n",
       "6        histórias contos fadas crianças ouvem , nunca ...\n",
       "7        maitê passos é garota linda , dezessete anos c...\n",
       "8        existe forma leveza graça simples fato existir...\n",
       "9        thriller sobre luta secreta bem mal pessoas ha...\n",
       "10       crônicas gelo fogo . jon snow , daenerys targa...\n",
       "11       duke é homem simples vida modesta , amou algué...\n",
       "12       oitavo volume wild cards injeta ainda tensão f...\n",
       "13       diana prince , conhecida mulher maravilha é , ...\n",
       "14       paulo início século xx , jovem glória sonha am...\n",
       "15       antes tornar mulher maravilha , apenas diana ....\n",
       "16       podemos viver paraíso , passamos longe inferno...\n",
       "17       henry cavanaugh , duque torquil , anseia vida ...\n",
       "18       viviane acaba perder pai . mãe depressão , vê ...\n",
       "19       primeiras horas dia 16 dezembro 1944 , hitler ...\n",
       "20       escrito biógrafo oficial churchill , historiad...\n",
       "21       lizzie bennet é jovem estudante comunicação re...\n",
       "22       ainda recém casado , conde tristan deixou espo...\n",
       "23       autoras best seller usa today . melodia coraçã...\n",
       "24       sterling é cidadezinha comum interior , onde n...\n",
       "25       passado mirabelle envolto segredos , morte trá...\n",
       "26       receita apaixonante ! pegue dose maggie d ’ an...\n",
       "27       pequena ilha thisby , poucos cavaleiros bravos...\n",
       "28       livro formato bolso ilustrações carlos ruas , ...\n",
       "29       união sentimentos – anna cleary cate summerfie...\n",
       "                               ...                        \n",
       "10683    é 1969 lower east side nova york rumores vizin...\n",
       "10684    livro é história inúmeros improváveis personag...\n",
       "10685    encontrando gobi é relato milagroso dion leona...\n",
       "10686    pais cameron post morrem acidente carro , prim...\n",
       "10687    altares ruíram templos perderam areias tempo ,...\n",
       "10688    unicórnio , menino vento , juntos velocidade !...\n",
       "10689    revoltas populares golpes militares , guerras ...\n",
       "10690    newt , tina , queenie jacob , amados heróis an...\n",
       "10691    cora é escrava plantação algodão geórgia , déc...\n",
       "10692    conhece tasty : popular canal culinária une pe...\n",
       "10693    tempos difíceis , urgência entender mesmos mun...\n",
       "10694    neste livro , premiado autor ilan brenman apre...\n",
       "10695    conto beren lúthien , tornou , elemento fundam...\n",
       "10696    nova edição guinness world records , famoso li...\n",
       "10697    guerra , amor vida unem neste drama profundame...\n",
       "10698    bella , linda cadelinha vira lata , adotou luc...\n",
       "10699    antes holocausto segunda guerra mundial , mome...\n",
       "10700    sabe tudo sobre bff girls ? ? então é chance a...\n",
       "10701    adianta enganar : ano começa carnaval . davi c...\n",
       "10702    `` adam st. james colocou olhos doce mila carp...\n",
       "10703    'um grande barulho ecoou redor mundo , trazend...\n",
       "10704    ramon amorim cresceu pequena cidade andorinha ...\n",
       "10705    neste livro , conhecido escritor ilan brenman ...\n",
       "10706    dr. oscar serrallach é especialista neozelandê...\n",
       "10707    vida rhys cole sempre girou torno hóquei . sem...\n",
       "10708    nunca grito vitória , sim dor . todos olhavam ...\n",
       "10709    sawyer quer ter própria vida . finn quer esque...\n",
       "10710    amor finn compartilhamos é tipo nunca esquece ...\n",
       "10711    james bradley sabia imprensa capaz fazer vida ...\n",
       "10712    neste livro envolvido temas emocionantes , far...\n",
       "Name: sinopse, Length: 10713, dtype: object"
      ]
     },
     "execution_count": 78,
     "metadata": {},
     "output_type": "execute_result"
    }
   ],
   "source": [
    "df['sinopse'] = [removeStopwords(sinopse) for sinopse in df['sinopse']]\n",
    "palavrasNaSinopse = contarPalavrasNaSinopse()\n",
    "extrairEstatisticas(palavrasNaSinopse)\n",
    "df['sinopse']"
   ]
  },
  {
   "cell_type": "code",
   "execution_count": 98,
   "metadata": {},
   "outputs": [],
   "source": [
    "df['sinopse'] = [removeExtraSpacesFromPunctuation(text) for text in df['sinopse']]"
   ]
  },
  {
   "cell_type": "code",
   "execution_count": 99,
   "metadata": {},
   "outputs": [],
   "source": [
    "for text in df['sinopse']:\n",
    "    occurrences = re.findall('[1-9] [-./?!,\":;()\\']',text)\n",
    "    if len(occurrences) > 0:\n",
    "        print(occurrences)"
   ]
  },
  {
   "cell_type": "code",
   "execution_count": 100,
   "metadata": {},
   "outputs": [],
   "source": [
    "#Export DataFrame to a new CSV file\n",
    "df.to_csv(filePath)"
   ]
  }
 ],
 "metadata": {
  "kernelspec": {
   "display_name": "Python 3",
   "language": "python",
   "name": "python3"
  },
  "language_info": {
   "codemirror_mode": {
    "name": "ipython",
    "version": 3
   },
   "file_extension": ".py",
   "mimetype": "text/x-python",
   "name": "python",
   "nbconvert_exporter": "python",
   "pygments_lexer": "ipython3",
   "version": "3.7.0"
  }
 },
 "nbformat": 4,
 "nbformat_minor": 2
}
