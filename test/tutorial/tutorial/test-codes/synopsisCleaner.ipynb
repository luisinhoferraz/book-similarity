{
 "cells": [
  {
   "cell_type": "code",
   "execution_count": 1,
   "metadata": {},
   "outputs": [],
   "source": [
    "import re\n",
    "from string import punctuation\n",
    "import pandas as pd\n",
    "from pandas import DataFrame\n",
    "import json\n",
    "import nltk\n",
    "from nltk.tokenize import word_tokenize\n",
    "from nltk.corpus import stopwords\n",
    "from string import punctuation\n",
    "import numpy as np"
   ]
  },
  {
   "cell_type": "code",
   "execution_count": 2,
   "metadata": {},
   "outputs": [],
   "source": [
    "#Define where's the CSV file\n",
    "filePath = 'C:/Users/LuisRicardoFerraz/Documents/personal/projects/book-similarity/test/tutorial/tutorial/spiders/dataSetNewSteps.csv'"
   ]
  },
  {
   "cell_type": "code",
   "execution_count": 3,
   "metadata": {},
   "outputs": [],
   "source": [
    "#Import CSV file to a DataFrame\n",
    "df = pd.read_csv(filePath)"
   ]
  },
  {
   "cell_type": "code",
   "execution_count": 4,
   "metadata": {},
   "outputs": [],
   "source": [
    "def fixDotsProblem(text):\n",
    "    occurrences = re.findall('\\.[A-Za-z]',text)\n",
    "    for string in occurrences:\n",
    "        fixing = string.replace('.','. ')\n",
    "        text = text.replace(string,fixing)\n",
    "    return text"
   ]
  },
  {
   "cell_type": "code",
   "execution_count": 5,
   "metadata": {},
   "outputs": [],
   "source": [
    "def fixPunctuation(text):\n",
    "    occurrences = re.findall('[áàãâäéèêëíìîïóòõôöúùûüA-Za-z][-./?!,\":;()\\'][áàãâäéèêëíìîïóòõôöúùûüA-Za-z]',text)\n",
    "    for string in occurrences:\n",
    "        fixing = re.sub('[-./?!,\":;()\\']+',' ', string)\n",
    "        text = text.replace(string,fixing)\n",
    "    return text"
   ]
  },
  {
   "cell_type": "code",
   "execution_count": 6,
   "metadata": {},
   "outputs": [],
   "source": [
    "def removePunctuation(text):\n",
    "    punctuationList = set(list(punctuation) + ['\\u201c','\\u201d','\\u2013'])\n",
    "    for signal in punctuationList:\n",
    "        text = text.replace(signal,'')\n",
    "    return text"
   ]
  },
  {
   "cell_type": "code",
   "execution_count": 7,
   "metadata": {},
   "outputs": [],
   "source": [
    "def cleanExtraSpaces(text):\n",
    "    text = re.sub('[ ]+',' ',text)\n",
    "    return text"
   ]
  },
  {
   "cell_type": "code",
   "execution_count": 83,
   "metadata": {},
   "outputs": [],
   "source": [
    "def removeExtraSpacesFromPunctuation(text):\n",
    "    occurrences = re.findall('\\S+ [.?!,:;)]+',text)\n",
    "    for string in occurrences:\n",
    "        fixing = re.sub(' ','', string)\n",
    "        text = text.replace(string,fixing)\n",
    "    return text"
   ]
  },
  {
   "cell_type": "code",
   "execution_count": 70,
   "metadata": {},
   "outputs": [],
   "source": [
    "def cleanText(text):\n",
    "    text = fixDotsProblem(text)\n",
    "    text = fixPunctuation(text)\n",
    "    #text = removePunctuation(text)\n",
    "    text = cleanExtraSpaces(text)\n",
    "    text = text.lower()\n",
    "    return text"
   ]
  },
  {
   "cell_type": "code",
   "execution_count": 71,
   "metadata": {},
   "outputs": [],
   "source": [
    "df['sinopse'] = [cleanText(str(synopsis)) for synopsis in df['sinopse']]"
   ]
  },
  {
   "cell_type": "code",
   "execution_count": 6,
   "metadata": {},
   "outputs": [
    {
     "name": "stdout",
     "output_type": "stream",
     "text": [
      "(10712, 27)\n",
      "isbn-10                object\n",
      "isbn-13                 int64\n",
      "titulo                 object\n",
      "autor                  object\n",
      "editora                object\n",
      "ano                     int64\n",
      "paginas                 int64\n",
      "idioma                 object\n",
      "leram                   int64\n",
      "lendo                   int64\n",
      "queremLer               int64\n",
      "relendo                 int64\n",
      "abandonos               int64\n",
      "resenhas                int64\n",
      "nota                  float64\n",
      "favoritos               int64\n",
      "desejados               int64\n",
      "trocam                  int64\n",
      "avaliaram               int64\n",
      "cincoEstrelas         float64\n",
      "quatroEstrelas        float64\n",
      "tresEstrelas          float64\n",
      "duasEstrelas          float64\n",
      "umaEstrela            float64\n",
      "avaliacoesHomens      float64\n",
      "avaliacoesMulheres    float64\n",
      "sinopse                object\n",
      "dtype: object\n"
     ]
    }
   ],
   "source": [
    "df = df.drop(['Unnamed: 0'],1)\n",
    "print(df.shape)\n",
    "print(df.dtypes)"
   ]
  },
  {
   "cell_type": "code",
   "execution_count": 7,
   "metadata": {},
   "outputs": [],
   "source": [
    "df = df.dropna(axis=0,how='any',subset=['sinopse'],inplace=False)"
   ]
  },
  {
   "cell_type": "code",
   "execution_count": 8,
   "metadata": {},
   "outputs": [],
   "source": [
    "def contarPalavrasNaSinopse():\n",
    "    palavrasNaSinopse = []\n",
    "    for sinopse in df['sinopse']:\n",
    "        palavras = word_tokenize(sinopse)\n",
    "        palavrasNaSinopse.append(len(palavras))\n",
    "    print(len(palavrasNaSinopse))\n",
    "    return palavrasNaSinopse"
   ]
  },
  {
   "cell_type": "code",
   "execution_count": 9,
   "metadata": {},
   "outputs": [],
   "source": [
    "def extrairEstatisticas(palavrasNaSinopse):\n",
    "    synopsisLength = np.array(palavrasNaSinopse)\n",
    "\n",
    "    # Média\n",
    "    print(\"Média: \"+str(np.mean(synopsisLength)))\n",
    "\n",
    "    # Mediana\n",
    "    print(\"Mediana: \"+str(np.median(synopsisLength)))\n",
    "\n",
    "    # Máximo e Mínimo\n",
    "    print(\"Máximo: \"+str(np.max(synopsisLength)))\n",
    "    print(\"Mínimo: \"+str(np.min(synopsisLength)))\n",
    "\n",
    "    # Intervalo médio\n",
    "    print(\"Intervalo médio: \"+str((np.max(synopsisLength)-np.min(synopsisLength))/2))\n",
    "\n",
    "    # Variância e desvio-padrão\n",
    "    print(\"Variância: \"+str(np.var(synopsisLength,ddof=1)))\n",
    "    print(\"desvio-padrão: \"+str(np.std(synopsisLength,ddof=1)))"
   ]
  },
  {
   "cell_type": "code",
   "execution_count": 16,
   "metadata": {},
   "outputs": [],
   "source": [
    "#list_stopwords = set(stopwords.words('portuguese'))\n",
    "#def removeStopwords(text):\n",
    "    #palavras = word_tokenize(text)\n",
    "    #palavras_sem_stopwords = [palavra for palavra in palavras if palavra not in list_stopwords]\n",
    "    #final_string = \" \".join(palavras_sem_stopwords)\n",
    "    #final_string = removeExtraSpacesFromPunctuation(final_string)\n",
    "    #return final_string"
   ]
  },
  {
   "cell_type": "code",
   "execution_count": 10,
   "metadata": {},
   "outputs": [
    {
     "name": "stdout",
     "output_type": "stream",
     "text": [
      "10712\n",
      "Média: 172.8859223300971\n",
      "Mediana: 149.0\n",
      "Máximo: 1536\n",
      "Mínimo: 3\n",
      "Intervalo médio: 766.5\n",
      "Variância: 11044.402445811538\n",
      "desvio-padrão: 105.09235198534448\n"
     ]
    }
   ],
   "source": [
    "palavrasNaSinopse = contarPalavrasNaSinopse()\n",
    "extrairEstatisticas(palavrasNaSinopse)\n",
    "#df['sinopse']"
   ]
  },
  {
   "cell_type": "code",
   "execution_count": 15,
   "metadata": {},
   "outputs": [],
   "source": [
    "#df['sinopse'] = [removeStopwords(sinopse) for sinopse in df['sinopse']]\n",
    "#palavrasNaSinopse = contarPalavrasNaSinopse()\n",
    "#extrairEstatisticas(palavrasNaSinopse)\n",
    "#df['sinopse']"
   ]
  },
  {
   "cell_type": "code",
   "execution_count": 107,
   "metadata": {},
   "outputs": [],
   "source": [
    "# I may need to run this command more than once\n",
    "df['sinopse'] = [removeExtraSpacesFromPunctuation(text) for text in df['sinopse']]"
   ]
  },
  {
   "cell_type": "code",
   "execution_count": 37,
   "metadata": {},
   "outputs": [],
   "source": [
    "def removeLinksFromSynopsis():\n",
    "    df['sinopse'] = [re.sub('http\\S+','',text) for text in df['sinopse']]\n",
    "    df['sinopse'] = [re.sub('[^ ]www.\\S+','',text) for text in df['sinopse']]\n",
    "    df['sinopse'] = [re.sub('www.\\S+','',text) for text in df['sinopse']]"
   ]
  },
  {
   "cell_type": "code",
   "execution_count": 97,
   "metadata": {},
   "outputs": [],
   "source": [
    "removeLinksFromSynopsis()"
   ]
  },
  {
   "cell_type": "code",
   "execution_count": 161,
   "metadata": {},
   "outputs": [],
   "source": [
    "def removePunctuationExcess(text):\n",
    "    text = re.sub('[.]{4,}','...',text)\n",
    "    text = re.sub('[!]{2,}','!',text)\n",
    "    text = re.sub('[?]{2,}','?',text)\n",
    "    text = re.sub('[=]{2,}','=',text)\n",
    "    return text"
   ]
  },
  {
   "cell_type": "code",
   "execution_count": 168,
   "metadata": {},
   "outputs": [
    {
     "name": "stdout",
     "output_type": "stream",
     "text": [
      "\"o livro o nome de deus é misericórdia relata uma entrevista concedida ao vaticanista andrea tornielli, onde o papa francisco explica melhor o ano da misericórdia que teve inicio no dia 8 de dezembro de 215. a entrevista foi concedida em julho de 215, após a visita do papa a américa latina (equador, bolívia e paraguai). francisco recebeu o jornalista tornielli na casa santa marta, munido da bíblia e de citações dos padres da igreja. a misericórdia foi o tema da conversa, tendo em vista o jubileu extraordinário que seria aberto cinco meses depois. os frutos desse diálogo estão no livro lançado hoje. \"\"a igreja não está no mundo para condenar, mas para promover o encontro com aquele amor visceral que é a misericórdia de deus. para que isso aconteça, é necessário sair. sair das igrejas e das paróquias, sair e ir a procura das pessoas onde elas se encontram, onde sofrem, onde esperam.\"\" neste livro o papa apresenta a sua visão sobre a missão da igreja no mundo, sublinhando que quando \"\"condena o pecado\"\" o faz porque \"\"deve dizer a verdade\"\". ao mesmo tempo, no entanto, \"\"abraça o pecador que se reconhece como tal, aproxima-se dele, fala-lhe da misericórdia infinita de deus\"\", a imagem de jesus, que \"\"perdoou mesmo os que o crucificaram\"\". o livro no qual as capas em italiano, inglês, francês, alemão, espanhol e português foram escritas a mão pelo próprio pontífice será lançado simultaneamente em todo o mundo.\"\n",
      "\"autor do best-seller homens são de marte, mulheres são de vênus, o americano john gray segue linha parecida neste livro, enfatizando de forma otimista as mudanças que os chamados \"\"milagres práticos\"\" exercem na vida das pessoas. o autor enumera nove princípios para qualquer um \"\"começar a fazer mudanças na sua vida que antes pareciam impossíveis\"\". além disso, ressalta a importância cada vez maior que a espiritualidade vem ganhando como elemento importante no dia-a-dia. \"\"num sentido prático, a sociedade ficou em banho-maria nos últimos 200 anos. agora a água começou a ferver e a mudança radical de água para vapor está acontecendo.\"\" diferentemente de livros repletos de frases feitas e pouco conteúdo, john gray mostra, de forma clara e objetiva, a evolução do comportamento humano, desde o otimismo pós - ii guerra mundial até o governo clinton, \"\"o mais humano de todos os presidentes americanos – uma coleção vulnerável de virtudes e vícios\"\". passa pelo início do rock, nos anos 50, a geração\"\n"
     ]
    }
   ],
   "source": [
    "#synopsis = df['sinopse']\n",
    "for text in synopsis:\n",
    "    occurrences = re.findall('[\"]{2,} \\S+',text)\n",
    "    if len(occurrences) > 0:\n",
    "        print(text)"
   ]
  },
  {
   "cell_type": "code",
   "execution_count": 143,
   "metadata": {},
   "outputs": [
    {
     "name": "stdout",
     "output_type": "stream",
     "text": [
      "!\"#$%&'()*+,-./:;<=>?@[\\]^_`{|}~\n"
     ]
    }
   ],
   "source": [
    "print(punctuation)"
   ]
  },
  {
   "cell_type": "code",
   "execution_count": 115,
   "metadata": {},
   "outputs": [],
   "source": [
    "# I may need to run this command more than once\n",
    "synopsis = [removePunctuationExcess(text) for text in synopsis]"
   ]
  },
  {
   "cell_type": "code",
   "execution_count": 108,
   "metadata": {},
   "outputs": [],
   "source": [
    "#Export DataFrame to a new CSV file\n",
    "df.to_csv(filePath)"
   ]
  }
 ],
 "metadata": {
  "kernelspec": {
   "display_name": "Python 3",
   "language": "python",
   "name": "python3"
  },
  "language_info": {
   "codemirror_mode": {
    "name": "ipython",
    "version": 3
   },
   "file_extension": ".py",
   "mimetype": "text/x-python",
   "name": "python",
   "nbconvert_exporter": "python",
   "pygments_lexer": "ipython3",
   "version": "3.7.0"
  }
 },
 "nbformat": 4,
 "nbformat_minor": 2
}
