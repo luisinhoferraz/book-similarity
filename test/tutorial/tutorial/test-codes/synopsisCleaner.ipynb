{
 "cells": [
  {
   "cell_type": "code",
   "execution_count": 65,
   "metadata": {},
   "outputs": [],
   "source": [
    "import re\n",
    "from string import punctuation\n",
    "import pandas as pd\n",
    "from pandas import DataFrame\n",
    "import json\n",
    "import nltk\n",
    "from nltk.tokenize import word_tokenize\n",
    "from nltk.corpus import stopwords\n",
    "from string import punctuation\n",
    "import numpy as np"
   ]
  },
  {
   "cell_type": "code",
   "execution_count": 105,
   "metadata": {},
   "outputs": [],
   "source": [
    "#Define where's the CSV file\n",
    "filePath = 'C:/Users/LuisRicardoFerraz/Documents/personal/projects/book-similarity/test/tutorial/tutorial/spiders/dataSetNewSteps.csv'"
   ]
  },
  {
   "cell_type": "code",
   "execution_count": 61,
   "metadata": {},
   "outputs": [],
   "source": [
    "#Import CSV file to a DataFrame\n",
    "df = pd.read_csv(filePath)"
   ]
  },
  {
   "cell_type": "code",
   "execution_count": 4,
   "metadata": {},
   "outputs": [],
   "source": [
    "def fixDotsProblem(text):\n",
    "    occurrences = re.findall('\\.[A-Za-z]',text)\n",
    "    for string in occurrences:\n",
    "        fixing = string.replace('.','. ')\n",
    "        text = text.replace(string,fixing)\n",
    "    return text"
   ]
  },
  {
   "cell_type": "code",
   "execution_count": 5,
   "metadata": {},
   "outputs": [],
   "source": [
    "def fixPunctuation(text):\n",
    "    occurrences = re.findall('[áàãâäéèêëíìîïóòõôöúùûüA-Za-z][-./?!,\":;()\\'][áàãâäéèêëíìîïóòõôöúùûüA-Za-z]',text)\n",
    "    for string in occurrences:\n",
    "        fixing = re.sub('[-./?!,\":;()\\']+',' ', string)\n",
    "        text = text.replace(string,fixing)\n",
    "    return text"
   ]
  },
  {
   "cell_type": "code",
   "execution_count": 6,
   "metadata": {},
   "outputs": [],
   "source": [
    "def removePunctuation(text):\n",
    "    punctuationList = set(list(punctuation) + ['\\u201c','\\u201d','\\u2013'])\n",
    "    for signal in punctuationList:\n",
    "        text = text.replace(signal,'')\n",
    "    return text"
   ]
  },
  {
   "cell_type": "code",
   "execution_count": 7,
   "metadata": {},
   "outputs": [],
   "source": [
    "def cleanExtraSpaces(text):\n",
    "    text = re.sub('[ ]+',' ',text)\n",
    "    return text"
   ]
  },
  {
   "cell_type": "code",
   "execution_count": 15,
   "metadata": {},
   "outputs": [],
   "source": [
    "def removeExtraSpacesFromPunctuation(text):\n",
    "    occurrences = re.findall('[áàãâäéèêëíìîïóòõôöúùûüA-Za-z0-9] [-./?!,\":;()\\']',text)\n",
    "    for string in occurrences:\n",
    "        fixing = re.sub(' ','', string)\n",
    "        text = text.replace(string,fixing)\n",
    "    return text"
   ]
  },
  {
   "cell_type": "code",
   "execution_count": 70,
   "metadata": {},
   "outputs": [],
   "source": [
    "def cleanText(text):\n",
    "    text = fixDotsProblem(text)\n",
    "    text = fixPunctuation(text)\n",
    "    #text = removePunctuation(text)\n",
    "    text = cleanExtraSpaces(text)\n",
    "    text = text.lower()\n",
    "    return text"
   ]
  },
  {
   "cell_type": "code",
   "execution_count": 71,
   "metadata": {},
   "outputs": [],
   "source": [
    "df['sinopse'] = [cleanText(str(synopsis)) for synopsis in df['sinopse']]"
   ]
  },
  {
   "cell_type": "code",
   "execution_count": 67,
   "metadata": {},
   "outputs": [
    {
     "name": "stdout",
     "output_type": "stream",
     "text": [
      "(10713, 27)\n",
      "isbn-10                object\n",
      "isbn-13                 int64\n",
      "titulo                 object\n",
      "autor                  object\n",
      "editora                object\n",
      "ano                     int64\n",
      "paginas                 int64\n",
      "idioma                 object\n",
      "leram                   int64\n",
      "lendo                   int64\n",
      "queremLer               int64\n",
      "relendo                 int64\n",
      "abandonos               int64\n",
      "resenhas                int64\n",
      "nota                  float64\n",
      "favoritos               int64\n",
      "desejados               int64\n",
      "trocam                  int64\n",
      "avaliaram               int64\n",
      "cincoEstrelas         float64\n",
      "quatroEstrelas        float64\n",
      "tresEstrelas          float64\n",
      "duasEstrelas          float64\n",
      "umaEstrela            float64\n",
      "avaliacoesHomens      float64\n",
      "avaliacoesMulheres    float64\n",
      "sinopse                object\n",
      "dtype: object\n"
     ]
    }
   ],
   "source": [
    "df = df.drop(['Unnamed: 0'],1)\n",
    "print(df.shape)\n",
    "print(df.dtypes)"
   ]
  },
  {
   "cell_type": "code",
   "execution_count": 68,
   "metadata": {},
   "outputs": [],
   "source": [
    "df = df.dropna(axis=0,how='any',subset=['sinopse'],inplace=False)"
   ]
  },
  {
   "cell_type": "code",
   "execution_count": 69,
   "metadata": {},
   "outputs": [],
   "source": [
    "def contarPalavrasNaSinopse():\n",
    "    palavrasNaSinopse = []\n",
    "    for sinopse in df['sinopse']:\n",
    "        palavras = word_tokenize(sinopse)\n",
    "        palavrasNaSinopse.append(len(palavras))\n",
    "    print(len(palavrasNaSinopse))\n",
    "    return palavrasNaSinopse"
   ]
  },
  {
   "cell_type": "code",
   "execution_count": 70,
   "metadata": {},
   "outputs": [],
   "source": [
    "def extrairEstatisticas(palavrasNaSinopse):\n",
    "    synopsisLength = np.array(palavrasNaSinopse)\n",
    "\n",
    "    # Média\n",
    "    print(\"Média: \"+str(np.mean(synopsisLength)))\n",
    "\n",
    "    # Mediana\n",
    "    print(\"Mediana: \"+str(np.median(synopsisLength)))\n",
    "\n",
    "    # Máximo e Mínimo\n",
    "    print(\"Máximo: \"+str(np.max(synopsisLength)))\n",
    "    print(\"Mínimo: \"+str(np.min(synopsisLength)))\n",
    "\n",
    "    # Intervalo médio\n",
    "    print(\"Intervalo médio: \"+str((np.max(synopsisLength)-np.min(synopsisLength))/2))\n",
    "\n",
    "    # Variância e desvio-padrão\n",
    "    print(\"Variância: \"+str(np.var(synopsisLength,ddof=1)))\n",
    "    print(\"desvio-padrão: \"+str(np.std(synopsisLength,ddof=1)))"
   ]
  },
  {
   "cell_type": "code",
   "execution_count": 71,
   "metadata": {},
   "outputs": [],
   "source": [
    "list_stopwords = set(stopwords.words('portuguese'))\n",
    "def removeStopwords(text):\n",
    "    palavras = word_tokenize(text)\n",
    "    palavras_sem_stopwords = [palavra for palavra in palavras if palavra not in list_stopwords]\n",
    "    final_string = \" \".join(palavras_sem_stopwords)\n",
    "    final_string = removeExtraSpacesFromPunctuation(final_string)\n",
    "    return final_string"
   ]
  },
  {
   "cell_type": "code",
   "execution_count": 72,
   "metadata": {},
   "outputs": [
    {
     "name": "stdout",
     "output_type": "stream",
     "text": [
      "10712\n",
      "Média: 172.8859223300971\n",
      "Mediana: 149.0\n",
      "Máximo: 1536\n",
      "Mínimo: 3\n",
      "Intervalo médio: 766.5\n",
      "Variância: 11044.402445811538\n",
      "desvio-padrão: 105.09235198534448\n"
     ]
    }
   ],
   "source": [
    "palavrasNaSinopse = contarPalavrasNaSinopse()\n",
    "extrairEstatisticas(palavrasNaSinopse)\n",
    "#df['sinopse']"
   ]
  },
  {
   "cell_type": "code",
   "execution_count": 78,
   "metadata": {},
   "outputs": [
    {
     "name": "stdout",
     "output_type": "stream",
     "text": [
      "10713\n",
      "Média: 109.12704191169607\n",
      "Mediana: 94.0\n",
      "Máximo: 929\n",
      "Mínimo: 2\n",
      "Intervalo médio: 463.5\n",
      "Variância: 4476.301353244789\n",
      "desvio-padrão: 66.90516686508441\n"
     ]
    },
    {
     "data": {
      "text/plain": [
       "0        jovem garota brasileira resolve aventurar curs...\n",
       "1        `` resgate '' primeira palavra ouvi tiros cess...\n",
       "2        cage : substantivo : cela , prisão . verbo : p...\n",
       "3        feyre has returned to the spring court , deter...\n",
       "4        quebrado . irritado . abandonado . assim toni ...\n",
       "5        distopia atual , próxima dias hoje , sobre emp...\n",
       "6        histórias contos fadas crianças ouvem , nunca ...\n",
       "7        maitê passos é garota linda , dezessete anos c...\n",
       "8        existe forma leveza graça simples fato existir...\n",
       "9        thriller sobre luta secreta bem mal pessoas ha...\n",
       "10       crônicas gelo fogo . jon snow , daenerys targa...\n",
       "11       duke é homem simples vida modesta , amou algué...\n",
       "12       oitavo volume wild cards injeta ainda tensão f...\n",
       "13       diana prince , conhecida mulher maravilha é , ...\n",
       "14       paulo início século xx , jovem glória sonha am...\n",
       "15       antes tornar mulher maravilha , apenas diana ....\n",
       "16       podemos viver paraíso , passamos longe inferno...\n",
       "17       henry cavanaugh , duque torquil , anseia vida ...\n",
       "18       viviane acaba perder pai . mãe depressão , vê ...\n",
       "19       primeiras horas dia 16 dezembro 1944 , hitler ...\n",
       "20       escrito biógrafo oficial churchill , historiad...\n",
       "21       lizzie bennet é jovem estudante comunicação re...\n",
       "22       ainda recém casado , conde tristan deixou espo...\n",
       "23       autoras best seller usa today . melodia coraçã...\n",
       "24       sterling é cidadezinha comum interior , onde n...\n",
       "25       passado mirabelle envolto segredos , morte trá...\n",
       "26       receita apaixonante ! pegue dose maggie d ’ an...\n",
       "27       pequena ilha thisby , poucos cavaleiros bravos...\n",
       "28       livro formato bolso ilustrações carlos ruas , ...\n",
       "29       união sentimentos – anna cleary cate summerfie...\n",
       "                               ...                        \n",
       "10683    é 1969 lower east side nova york rumores vizin...\n",
       "10684    livro é história inúmeros improváveis personag...\n",
       "10685    encontrando gobi é relato milagroso dion leona...\n",
       "10686    pais cameron post morrem acidente carro , prim...\n",
       "10687    altares ruíram templos perderam areias tempo ,...\n",
       "10688    unicórnio , menino vento , juntos velocidade !...\n",
       "10689    revoltas populares golpes militares , guerras ...\n",
       "10690    newt , tina , queenie jacob , amados heróis an...\n",
       "10691    cora é escrava plantação algodão geórgia , déc...\n",
       "10692    conhece tasty : popular canal culinária une pe...\n",
       "10693    tempos difíceis , urgência entender mesmos mun...\n",
       "10694    neste livro , premiado autor ilan brenman apre...\n",
       "10695    conto beren lúthien , tornou , elemento fundam...\n",
       "10696    nova edição guinness world records , famoso li...\n",
       "10697    guerra , amor vida unem neste drama profundame...\n",
       "10698    bella , linda cadelinha vira lata , adotou luc...\n",
       "10699    antes holocausto segunda guerra mundial , mome...\n",
       "10700    sabe tudo sobre bff girls ? ? então é chance a...\n",
       "10701    adianta enganar : ano começa carnaval . davi c...\n",
       "10702    `` adam st. james colocou olhos doce mila carp...\n",
       "10703    'um grande barulho ecoou redor mundo , trazend...\n",
       "10704    ramon amorim cresceu pequena cidade andorinha ...\n",
       "10705    neste livro , conhecido escritor ilan brenman ...\n",
       "10706    dr. oscar serrallach é especialista neozelandê...\n",
       "10707    vida rhys cole sempre girou torno hóquei . sem...\n",
       "10708    nunca grito vitória , sim dor . todos olhavam ...\n",
       "10709    sawyer quer ter própria vida . finn quer esque...\n",
       "10710    amor finn compartilhamos é tipo nunca esquece ...\n",
       "10711    james bradley sabia imprensa capaz fazer vida ...\n",
       "10712    neste livro envolvido temas emocionantes , far...\n",
       "Name: sinopse, Length: 10713, dtype: object"
      ]
     },
     "execution_count": 78,
     "metadata": {},
     "output_type": "execute_result"
    }
   ],
   "source": [
    "df['sinopse'] = [removeStopwords(sinopse) for sinopse in df['sinopse']]\n",
    "palavrasNaSinopse = contarPalavrasNaSinopse()\n",
    "extrairEstatisticas(palavrasNaSinopse)\n",
    "#df['sinopse']"
   ]
  },
  {
   "cell_type": "code",
   "execution_count": 16,
   "metadata": {},
   "outputs": [],
   "source": [
    "df['sinopse'] = [removeExtraSpacesFromPunctuation(text) for text in df['sinopse']]"
   ]
  },
  {
   "cell_type": "code",
   "execution_count": 54,
   "metadata": {},
   "outputs": [],
   "source": [
    "def removeLinksFromSynopsis():\n",
    "    df['sinopse'] = [re.sub('http\\S+','',text) for text in df['sinopse']]"
   ]
  },
  {
   "cell_type": "code",
   "execution_count": 55,
   "metadata": {},
   "outputs": [],
   "source": [
    "removeLinksFromSynopsis()"
   ]
  },
  {
   "cell_type": "code",
   "execution_count": 104,
   "metadata": {},
   "outputs": [
    {
     "name": "stdout",
     "output_type": "stream",
     "text": [
      "melanie tucker estava presa no mesmo iate junto a seu odiado adam stone. seguia sendo muito encantador e muito sexy… e muito perigoso para ficar a sós com ele em uma ilha. ===================== / =============== / ============ body heat:melanie tucker found herself trapped on the same party boat with nemesisadam stone! he was still too smooth, too sexy. and it was too much when theyboth fell overboard--and wound up stranded together! what could they doabout all that delicious body heat sizzling between them?slow burn:ten days of sun and surf at a luxury resort. it was bliss to ally hennessy'til she realized flynn ryder had engineered her fantasy vacation! flynnwanted her back in his life--and in his bed-at any cost. he'd figured beingalone with him would ignite the flame that had always burned between them...\n",
      "jogos de espelhos ser escolhida pelo escritor booth dewitt para interpretar a papel da cruel ex-esposa dele era a grande chance para a carreira de ariel, kirkwood. e ela queria mais do que ser a atriz principal de um filme autobiográfico de booth. mas será que conseguiria convencê-lo a vê-la como uma mulher real? =========== um herói em nova york  a especialidade do roteirista de quadrinhos mitch dempsey era criar super-heróis, não ser um deles... mas havia alga em hester wallace, a tímida mãe solteira que acabara de se mudar para a andar de cima, que despertava nele a desejo de protegê-la, honrá-la e amá-la para sempre.\n",
      "[comentário à ediçãp portuguesa por cláudia de sousa dias]: ballester é um autor que já nos habituou, de forma assaz viciante, às suas irresistíveis provocações sob a forma de sátira, que deliciam o palato literário mais requintado, tal como um chocolate amargo, perfumado com especiarias. a arte de ballester manifesta-se, no caso de «crónica do rei pasmado», em “pegar” num facto, trivial, para o mais comum dos mortais – o desejo de um marido contemplar a esposa tal como veio ao mundo – num episódio romanesco. ou melhor, burlesco, face à controvérsia, que faz lembrar o humor típico do teatro shakespeariano, uma vez que, à primeira vista, a polémica gerada à volta do assunto em questão poder-se-ia resumir em num único título do dramaturgo britânico: muito barulho por nada. porque o facto de um marido desejar contemplar a esposa nua não teria, aparentemente, nada de extraordinário. a não ser pela particularidade de o marido em questão se tratar do rei filipe iv de espanha – filipe iii de portugal – e a mulher em questão, a rainha isabel de bourbon. junte-se, ainda, as contingências impostas pelo formalismo da corte espanhola no século xvii que exigia, na época, um requerimento formal de cada vez que o soberano pretendesse passar a noite no quarto da rainha tendo, para tal, de apresentar justificação. o que implicava que um pedido, tão insólito para a época, colocasse a corte – e o clero em particular – em pé de guerra e desencadeasse toda uma rede de intrigas… [a trama]: a situação ficcional escolhida pelo autor insere-se no contexto histórico de uma espanha dominada pela inquisição. tem, à cabeça do reino, um monarca semi-virgem – uma vez que, mesmo sendo pai, estava ainda londe de saber o significado da palavra erotismo –, cuja ingenuidade (ou falta de autonomia) o leva a manifestar publicamente, alto e bom som, a vontade em observar a nudez da rainha, após ter dormido com uma prostituta ter, pela primeira vez, contemplado o corpo nu de uma mulher. as dificuldades criadas pelo protocolo, que regula todos os actos do rei – públicos e privados – obrigam o monarca a submeter-se à humilhação de tornar públicos os seus desejos mais íntimos. esta ausência de distinção entre vida pública e privada, num chefe de estado, imposta tanto pelos cortesãos como pelo clero, traduz-se numa feroz luta pelo poder entre aqueles que lhe estão próximos. esta situação encontra apenas terreno fértil quando o poder está ocupado por alguém com uma personalidade dita “demasiado branda”, para não dizer frágil. e de um povo manipulável, porque rude e ignorante, subjugado pelo terror supersticioso de uma vingança divina, face aos supostos “pecados carnais” do rei que representaria a divindade na terra. (...) ===texto completo no blog há sempre um livro...à nossa espera! === [editorial caminho de lisboa]: \"tal como acontecera já em espanha, a crónica do rei pasmado foi um grande êxito em portugal. nada mais natural. é que este «scherzo em re(i) maior alegre, mas não demasiado», como o próprio autor lhe chama, é um livro particularmente saboroso, hábil e irónico, narrado com a mestria e a sabedoria de um escritor como ballester. a partir do pasmo extasiado do rei ao ver pela primeira vez uma mulher nua, e ao querer ver nua também a rainha, toda uma intriga se tece na corte, metendo nobres, inquisidores, uma afamada meretriz, um jesuíta português, a superiora do convento; toda uma tela de uma obra que bem justifica o qualificativo de pitoresca, num divertimento de primeira água.\"\n",
      "james michener atuou durante muito tempo como parceiro de uma grande editora norte-americana -- o que lhe garantiu uma visão privilegiada dos bastidores do mundo editorial. em \"o romance\", michener convida o leitor a conhecer o lado interno desse fascínio, que se apóia numa megaestrutura capaz de colocar no mercado uma quantidade enorme de livros, com um nível de qualidade invejável. === \n",
      "a mulher que eles chamavam fatal é a revelação de um enigma, de como as mulheres simples se transformaram no final do século xix na origem dos mais terríveis assombros, muitas vezes sob a aparência de delícias paradisíacas. neste a mulher que eles chamavam fatal, a autora mireille dottin-orsini percorre um caminho revelador através de imagens de mulheres fatais da literatura e da arte do fim do século xix, especialmente entre 1880-1914. elas eram perigosas, maléficas, assassinas, o portal do suicídio, como a bela otero, que arruinava e levava os amantes à morte, ou sarah bernhardt, que teve relações sexuais dentro de um caixão. estas vampiras mal-assombradas pouco tinham a ver com as mulheres de carne e osso, obrigadas a suportar tão alheias imagens. a autora tenta se aproximar da origem de tantas dalilas, evas e salomés, tanto do imaginário masculino quanto do feminino. ==>> sinopse publicada anteriormente em www.livrariacultura.com.br\n",
      "certa manhã, o jovem londrino black sai para um compromisso de negócios, banal, encontra um homem enforcado e percebe que a sua vida está prestes a mudar... contribuem para a mudança, uma bela atriz, um sócio bizarro, um roqueiro endoidecido e uma rede de fraudes em que todo mundo que black conhece está envolvido. eis um romance no melhor estilo de william boyd: urbano e hipnótico. ==== \n",
      "em 1910, maia, uma menina órfã de 13 anos, se muda para a amazônia. vai morar com parentes distantes, expatriados que tentam construir lá uma nova inglaterra e tem medo de tudo o que é desconhecido e nativo da região. maia logo se apaixona pela beleza e força do país e de seus habitantes. a menina vive muitas aventuras, entre elas, ajuda um menino inglês a seguir seu sonho de viver no brasil, em vez de voltar para a inglaterra. |...| maia se va al amazonas, de eva ibbotson '-' acompañada de la misteriosa señorita minton, maia navega por el imponente amazonas rumbo a la ciudad de manaus, situada a unos mil quinientos kilómetros de su desembocadura en el mar atlántico. mientras contempla la inmensidad del río y la frondosa vegetación que la rodea, maia se pregunta cómo será su futuro en aquel extraño lugar, donde ha de comenzar una nueva vida en casa de unos tíos lejanos a quienes no conoce. pero lo que maia no sabe es que en aquel maravilloso paraje conocerá a finn, un silencioso muchacho inglés que vive con los indios y comparte su pasión por la selva. y menos aún, que ambos se encontrarán en situaciones tan emocionantes como peligrosas. ¡ni en sus sueños más audaces habría imaginado maia las extraordinarias aventuras que la esperan en las riberas del río amazonas!\" ==== \n",
      "depois do sucesso internacional de a catedral do mar, que vendeu mais de quatro milhões de exemplares em todo o mundo, o catalão ildefonso falcones está de volta com mais um romance histórico emocionante, com fortes elementos de aventura, paixão, amor e traição... dessa vez, ele conta a história de um jovem preso entre duas religiões e dois amores, em busca da liberdade do seu povo e da sua própria. falcones recria os eventos do ano de 1568, no sul da espanha -- os vales e montes de *alpujarras*, nas faldas da encosta sul da sierra nevada - andaluzia, parte do antigo reino de granada. palco de um dos mais sangrentos conflitos do século xvi.  naquele ano, os mouriscos -- descendentes dos árabes e mouros sarracenos que praticamente arrebataram a península ibérica séculos antes -- se insurgiram, declarando guerra à coroa espanhola, após a proclamação do édito real que proibia o uso da língua árabe e a prática dos costumes e crenças dos muçulmanos na região. colhido no turbilhão da revolta, o jovem hernando – filho de uma muçulmana violentada por um padre católico, por isso visto com desconfiança pelos dois lados em confflito – é forçado a tomar partido e amadurecer rapidamente para sobreviver, enfrentando os massacres e as constantes mudanças de poder; a escravidão e a submissão, após a derrota dos muçulmanos -- que tentam preservar sua cultura de forma clandestina, enquanto vê sua própria família ser dilacerada pela guerra. inicialmente rejeitado entre os muçulmanos e maltratado por seu padrasto brahim por sua origem mestiça, hernando, por força da sorte e de sua sagacidade, acaba encontrando na guerra oportunidades para crescer na estima de seu próprio povo, chegando a ganhar a confiança de fernando de válor ou aben humeya, declarado rei dos muçulmanos de granada, e o amor de fátima, uma jovem viúva a quem salva da morte. ao mesmo tempo, hernando acaba atraindo a inimizade de um arrieiro desonesto, ubaid, e de seu padrasto brahim que, atraído por fátima, torna-se um obstáculo à sua união. ==== (*) alpujarras -- último foco da resistência mourisca:   ==== \n",
      "prince lestat and the realms of atlantis — the vampire chronicles, #12. as crônicas vampirescas estão de volta! para a felicidade dos fãs da já clássica série da escritora anne rice, o segundo volume da nova safra de romances focados no vampiro lestat chega às prateleiras mesclando a mitologia dos vampiros e o universo gótico próprio da autora a elementos da ficção científica: em príncipe lestat e os reinos de atlântida, o príncipe dos vampiros precisa vencer amel, espírito que um dia tomou posse de seu corpo e alma e que foi o fundador da cidade de atlântida, prodígio da tecnologia e da ciência, para impedir que a energia dos vampiros seja destruída e seu universo alterado pelo poderio tecnológico e científico desse império perdido. ====  \n"
     ]
    }
   ],
   "source": [
    "synopsis = df['sinopse']\n",
    "for text in synopsis:\n",
    "    occurrences = re.findall('={2,}',text)\n",
    "    if len(occurrences) > 0:\n",
    "        print(text)"
   ]
  },
  {
   "cell_type": "code",
   "execution_count": 108,
   "metadata": {},
   "outputs": [],
   "source": [
    "#Export DataFrame to a new CSV file\n",
    "df.to_csv(filePath)"
   ]
  }
 ],
 "metadata": {
  "kernelspec": {
   "display_name": "Python 3",
   "language": "python",
   "name": "python3"
  },
  "language_info": {
   "codemirror_mode": {
    "name": "ipython",
    "version": 3
   },
   "file_extension": ".py",
   "mimetype": "text/x-python",
   "name": "python",
   "nbconvert_exporter": "python",
   "pygments_lexer": "ipython3",
   "version": "3.7.0"
  }
 },
 "nbformat": 4,
 "nbformat_minor": 2
}
