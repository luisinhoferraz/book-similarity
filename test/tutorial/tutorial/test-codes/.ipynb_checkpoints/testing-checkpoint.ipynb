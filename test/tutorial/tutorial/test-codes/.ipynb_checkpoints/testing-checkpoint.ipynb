{
 "cells": [
  {
   "cell_type": "code",
   "execution_count": 1,
   "metadata": {},
   "outputs": [],
   "source": [
    "#! pip install googletrans\n",
    "import re\n",
    "from string import punctuation\n",
    "from googletrans import Translator"
   ]
  },
  {
   "cell_type": "code",
   "execution_count": 2,
   "metadata": {},
   "outputs": [],
   "source": [
    "texto1 = \"Ele achava que o c\\u00e3o era imortal.Assim come\\u00e7a a vasta, poderosa e comovente narrativa de Susan Orlean sobre a jornada de Rin Tin Tin \\u2013 de sobrevivente \\u00f3rf\\u00e3o a astro do cinema e \\u00edcone internacional do showbiz.Suzan, redatora da New Yorker chamada de \\u201cpatrim\\u00f4nio nacional\\u201d pelo Washington Post, passou cerca de dez anos pesquisando e escrevendo sua mais cativante obra: a hist\\u00f3ria de um c\\u00e3o que nasceu em 1.918 e nunca morreu. A narrativa come\\u00e7a num campo de batalha franc\\u00eas da Primeira Guerra Mundial, quando Lee Duncan, um jovem soldado americano, descobre um sobrevivente: um pastor-alem\\u00e3o rec\\u00e9m-nascido nas ru\\u00ednas de um canil bombardeado. Para Duncan, que passou parte da inf\\u00e2ncia num orfanato, a sobreviv\\u00eancia do c\\u00e3o fora um milagre. Havia algo em Rin Tin Tin que o compelia a compartilh\\u00e1-lo com o mundo. Duncan o levou, ent\\u00e3o, para a Calif\\u00f3rnia, onde suas aptid\\u00f5es f\\u00edsicas e a capacidade de representar chamaram a aten\\u00e7\\u00e3o da Warner Bros. Durante os dez anos seguintes, Rinty estrelou 23 sucessos do cinema mudo que salvaram o est\\u00fadio da fal\\u00eancia e fizeram dele o c\\u00e3o mais famoso de todos os tempos. No auge da popularidade, Rin Tin Tin foi o campe\\u00e3o de bilheteria de Hollywood. Ao longo das d\\u00e9cadas seguintes, Rinty e seus descendentes fizeram a conturbada jornada do cinema mudo ao falado, do preto e branco \\u00e0 cor, do r\\u00e1dio \\u00e0 televis\\u00e3o, culminando no seriado de TV As Aventuras de Rin-Tin-Tin, um dos mais populares programas da \\u00e9poca do baby boom. O legado do c\\u00e3o her\\u00f3i foi consolidado por Duncan e alguns outros \\u2013 como Bert Leonard, o produtor do seriado da TV, e Daphne Hereford, a propriet\\u00e1ria do atual Rin Tin Tin \\u2013, que dedicaram a vida para assegurar a imortalidade da lenda. Na ess\\u00eancia de Rin Tin Tin \\u2013 a Vida e a Lenda h\\u00e1 um tocante estudo do duradouro v\\u00ednculo entre os humanos e os animais. Mas o livro \\u00e9 tamb\\u00e9m uma hist\\u00f3ria ricamente matizada da ind\\u00fastria do entretenimento e do empreendedorismo no s\\u00e9culo XX. Abarcando um per\\u00edodo de 90 anos, ele aborda a mudan\\u00e7a de status dos c\\u00e3es, de ajudantes em fazendas a membros diletos das fam\\u00edlias urbanas, da origem do treinamento para a obedi\\u00eancia \\u00e0 evolu\\u00e7\\u00e3o gen\\u00e9tica das ra\\u00e7as, da ascens\\u00e3o de Hollywood ao passado e presente dos c\\u00e3es de guerra. Rico de humor e emo\\u00e7\\u00e3o, repleto de momentos que certamente levar\\u00e3o o leitor \\u00e0s l\\u00e1grimas, Rin Tin Tin fez parte da prestigiad\\u00edssima lista dos 100 MELHORES LIVROS DO ANO do New York Times, principalmente por ser uma mescla irresist\\u00edvel de hist\\u00f3ria, humanismo e maestria narrativa \\u2013 espl\\u00eandida celebra\\u00e7\\u00e3o de um grande \\u00edcone universal por uma das mais talentosas escritoras da atualidade.\""
   ]
  },
  {
   "cell_type": "code",
   "execution_count": 3,
   "metadata": {},
   "outputs": [],
   "source": [
    "texto2 = \"\\\"\\\"RESGATE\\\"\\\" Foi a primeira palavra que ouvi quando os tiros cessaram. \"\"ELE ESTÁ FERIDO, TIRE-O DAQUI!\"\" Foi o que ouvi quando fui levado para cima. \"\"ARRANQUE ISSO DELE\"\" Foi a última coisa que ouvi antes de me render a escuridão. Uma década depois e essas palavras ainda permeiam meus pensamentos. Antes, elas me causavam medo, mas aprendi a lidar com ele. Transformei o medo em ódio, em uma motivação. O combustível que precisava e a justificativa perfeita para a escuridão dentro de mim. Hoje eu tenho um plano, e não vou desviar, nem que isso signifique silenciar a única voz capaz de acalmar os demônios na minha cabeça danificada. Eles roubaram a minha vida, e não a quero de volta. Meu único desejo é acabar com a deles.\""
   ]
  },
  {
   "cell_type": "code",
   "execution_count": 4,
   "metadata": {},
   "outputs": [],
   "source": [
    "texto3 = \"Feyre has returned to the Spring Court, determined to gather information on Tamlin's maneuverings and the invading king threatening to bring Prythian to its knees. But to do so she must play a deadly game of deceit-and one slip may spell doom not only for Feyre, but for her world as well. As war bears down upon them all, Feyre must decide who to trust amongst the dazzling and lethal High Lords-and hunt for allies in unexpected places. In this thrilling third book in the #1 New York Times and USA Today bestselling series from Sarah J. Maas, the earth will be painted red as mighty armies grapple for power over the one thing that could destroy them all.\""
   ]
  },
  {
   "cell_type": "code",
   "execution_count": 5,
   "metadata": {},
   "outputs": [],
   "source": [
    "textos = [texto1,texto2,texto3]"
   ]
  },
  {
   "cell_type": "code",
   "execution_count": 14,
   "metadata": {},
   "outputs": [],
   "source": [
    "def fixDotsProblem(text):\n",
    "    occurrences = re.findall('\\.[A-Za-z]',text)\n",
    "    for string in occurrences:\n",
    "        fixing = string.replace('.','. ')\n",
    "        text = text.replace(string,fixing)\n",
    "    return text"
   ]
  },
  {
   "cell_type": "code",
   "execution_count": 7,
   "metadata": {},
   "outputs": [],
   "source": [
    "def fixPunctuation(text):\n",
    "    occurrences = re.findall('[áàãâäéèêëíìîïóòõôöúùûüA-Za-z][-./?!,\":;()\\'][áàãâäéèêëíìîïóòõôöúùûüA-Za-z]',texto)\n",
    "    for string in occurrences:\n",
    "        fixing = re.sub('[-./?!,\":;()\\']+',' ', string)\n",
    "        text = text.replace(string,fixing)\n",
    "    return text"
   ]
  },
  {
   "cell_type": "code",
   "execution_count": 8,
   "metadata": {},
   "outputs": [],
   "source": [
    "def removePunctuation(text):\n",
    "    punctuationList = set(list(punctuation) + ['\\u201c','\\u201d','\\u2013'])\n",
    "    for signal in punctuationList:\n",
    "        text = text.replace(signal,'')\n",
    "    return text"
   ]
  },
  {
   "cell_type": "code",
   "execution_count": 9,
   "metadata": {},
   "outputs": [],
   "source": [
    "def cleanExtraSpaces(text):\n",
    "    text = re.sub('[ ]+',' ',text)\n",
    "    return text"
   ]
  },
  {
   "cell_type": "code",
   "execution_count": 10,
   "metadata": {},
   "outputs": [],
   "source": [
    "def cleanText(text):\n",
    "    text = fixDotsProblem(text)\n",
    "    text = fixPunctuation(text)\n",
    "    text = removePunctuation(text)\n",
    "    text = cleanExtraSpaces(text)\n",
    "    text = text.lower()\n",
    "    return text"
   ]
  },
  {
   "cell_type": "code",
   "execution_count": 12,
   "metadata": {},
   "outputs": [],
   "source": [
    "translator = Translator()"
   ]
  },
  {
   "cell_type": "code",
   "execution_count": 13,
   "metadata": {},
   "outputs": [
    {
     "name": "stdout",
     "output_type": "stream",
     "text": [
      "Detected(lang=pt, confidence=1)\n",
      "Detected(lang=pt, confidence=1)\n",
      "Detected(lang=en, confidence=1)\n"
     ]
    }
   ],
   "source": [
    "#for texto in df['sinopse']:\n",
    "#    print(translator.detect(texto).lang)\n",
    "for texto in textos:\n",
    "    print(translator.detect(str(texto)))"
   ]
  },
  {
   "cell_type": "code",
   "execution_count": 11,
   "metadata": {
    "scrolled": true
   },
   "outputs": [
    {
     "name": "stdout",
     "output_type": "stream",
     "text": [
      "ele achava que o cão era imortal assim começa a vasta poderosa e comovente narrativa de susan orlean sobre a jornada de rin tin tin de sobrevivente órfão a astro do cinema e ícone internacional do showbiz suzan redatora da new yorker chamada de patrimônio nacional pelo washington post passou cerca de dez anos pesquisando e escrevendo sua mais cativante obra a história de um cão que nasceu em 1918 e nunca morreu a narrativa começa num campo de batalha francês da primeira guerra mundial quando lee duncan um jovem soldado americano descobre um sobrevivente um pastor alemão recém nascido nas ruínas de um canil bombardeado para duncan que passou parte da infância num orfanato a sobrevivência do cão fora um milagre havia algo em rin tin tin que o compelia a compartilhá lo com o mundo duncan o levou então para a califórnia onde suas aptidões físicas e a capacidade de representar chamaram a atenção da warner bros durante os dez anos seguintes rinty estrelou 23 sucessos do cinema mudo que salvaram o estúdio da falência e fizeram dele o cão mais famoso de todos os tempos no auge da popularidade rin tin tin foi o campeão de bilheteria de hollywood ao longo das décadas seguintes rinty e seus descendentes fizeram a conturbada jornada do cinema mudo ao falado do preto e branco à cor do rádio à televisão culminando no seriado de tv as aventuras de rin tin tin um dos mais populares programas da época do baby boom o legado do cão herói foi consolidado por duncan e alguns outros como bert leonard o produtor do seriado da tv e daphne hereford a proprietária do atual rin tin tin que dedicaram a vida para assegurar a imortalidade da lenda na essência de rin tin tin a vida e a lenda há um tocante estudo do duradouro vínculo entre os humanos e os animais mas o livro é também uma história ricamente matizada da indústria do entretenimento e do empreendedorismo no século xx abarcando um período de 90 anos ele aborda a mudança de status dos cães de ajudantes em fazendas a membros diletos das famílias urbanas da origem do treinamento para a obediência à evolução genética das raças da ascensão de hollywood ao passado e presente dos cães de guerra rico de humor e emoção repleto de momentos que certamente levarão o leitor às lágrimas rin tin tin fez parte da prestigiadíssima lista dos 100 melhores livros do ano do new york times principalmente por ser uma mescla irresistível de história humanismo e maestria narrativa esplêndida celebração de um grande ícone universal por uma das mais talentosas escritoras da atualidade\n",
      "resgate foi a primeira palavra que ouvi quando os tiros cessaram ele está ferido tire o daqui foi o que ouvi quando fui levado para cima arranque isso dele foi a última coisa que ouvi antes de me render a escuridão uma década depois e essas palavras ainda permeiam meus pensamentos antes elas me causavam medo mas aprendi a lidar com ele transformei o medo em ódio em uma motivação o combustível que precisava e a justificativa perfeita para a escuridão dentro de mim hoje eu tenho um plano e não vou desviar nem que isso signifique silenciar a única voz capaz de acalmar os demônios na minha cabeça danificada eles roubaram a minha vida e não a quero de volta meu único desejo é acabar com a deles\n",
      "feyre has returned to the spring court determined to gather information on tamlin s maneuverings and the invading king threatening to bring prythian to its knees but to do so she must play a deadly game of deceit and one slip may spell doom not only for feyre but for her world as well as war bears down upon them all feyre must decide who to trust amongst the dazzling and lethal high lords and hunt for allies in unexpected places in this thrilling third book in the 1 new york times and usa today bestselling series from sarah j maas the earth will be painted red as mighty armies grapple for power over the one thing that could destroy them all\n"
     ]
    }
   ],
   "source": [
    "for texto in textos:\n",
    "    texto = cleanText(texto)\n",
    "    print(cleanText(texto))\n",
    "#texto = cleanText(texto)\n",
    "#print(texto)"
   ]
  }
 ],
 "metadata": {
  "kernelspec": {
   "display_name": "Python 3",
   "language": "python",
   "name": "python3"
  },
  "language_info": {
   "codemirror_mode": {
    "name": "ipython",
    "version": 3
   },
   "file_extension": ".py",
   "mimetype": "text/x-python",
   "name": "python",
   "nbconvert_exporter": "python",
   "pygments_lexer": "ipython3",
   "version": "3.7.0"
  }
 },
 "nbformat": 4,
 "nbformat_minor": 2
}
