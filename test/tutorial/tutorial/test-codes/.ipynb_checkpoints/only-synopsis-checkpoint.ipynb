{
 "cells": [
  {
   "cell_type": "code",
   "execution_count": 1,
   "metadata": {},
   "outputs": [],
   "source": [
    "import nltk\n",
    "\n",
    "from nltk.tokenize import word_tokenize\n",
    "from nltk.corpus import stopwords\n",
    "from string import punctuation"
   ]
  },
  {
   "cell_type": "code",
   "execution_count": 2,
   "metadata": {},
   "outputs": [],
   "source": [
    "import pandas as pd\n",
    "from pandas import DataFrame\n",
    "import json\n",
    "import requests"
   ]
  },
  {
   "cell_type": "code",
   "execution_count": 3,
   "metadata": {},
   "outputs": [],
   "source": [
    "#Define where's the CSV file\n",
    "filePath = 'C:/Users/LuisRicardoFerraz/Documents/personal/projects/book-similarity/test/tutorial/tutorial/spiders/testing-synopsis-with-lemmas.csv'"
   ]
  },
  {
   "cell_type": "code",
   "execution_count": 4,
   "metadata": {},
   "outputs": [],
   "source": [
    "#Import CSV file to a DataFrame\n",
    "df = pd.read_csv(filePath, names = [\"Text\"])"
   ]
  },
  {
   "cell_type": "code",
   "execution_count": 22,
   "metadata": {},
   "outputs": [],
   "source": [
    "list_stopwords = set(stopwords.words('portuguese') + list(punctuation))\n",
    "def removeStopwords(text):\n",
    "    palavras = word_tokenize(text)\n",
    "    palavras_sem_stopwords = [palavra for palavra in palavras if palavra not in list_stopwords]\n",
    "    final_string = \" \".join(palavras_sem_stopwords)\n",
    "    return final_string"
   ]
  },
  {
   "cell_type": "code",
   "execution_count": 23,
   "metadata": {},
   "outputs": [],
   "source": [
    "df = [removeStopwords(text) for text in df]"
   ]
  },
  {
   "cell_type": "code",
   "execution_count": 5,
   "metadata": {},
   "outputs": [
    {
     "name": "stdout",
     "output_type": "stream",
     "text": [
      "                                                    Text\n",
      "0      uma jovem garota brasileira resolve se aventur...\n",
      "1      resgate foi a primeira palavra que ouvi quando...\n",
      "2      cage substantivo cela prisão verbo prender enj...\n",
      "3      feyre has returned to the spring court determi...\n",
      "4      quebrado irritado abandonado era assim que ton...\n",
      "5      uma distopia atual próxima dos dias de hoje so...\n",
      "6      as histórias de contos de fadas que as criança...\n",
      "7      maitê passos é uma garota linda de dezessete a...\n",
      "8      dandelion guardava dentro de si os mistérios q...\n",
      "9      existe uma forma de leveza e de graça no simpl...\n",
      "10     com clareza e independência o guia politicamen...\n",
      "11     um thriller sobre a luta secreta entre o bem e...\n",
      "12     as crônicas de gelo e fogo jon snow daenerys t...\n",
      "13     duke é um homem simples com uma vida modesta m...\n",
      "14     o oitavo volume de wild cards injeta ainda mai...\n",
      "15     diana prince mais conhecida como mulher maravi...\n",
      "16     na são paulo do início do século xx a jovem gl...\n",
      "17     antes de se tornar a mulher maravilha ela era ...\n",
      "18     podemos até não viver no paraíso mas passamos ...\n",
      "19     henry cavanaugh duque de torquil anseia por um...\n",
      "20     viviane acaba de perder o pai com a mãe em dep...\n",
      "21     nas primeiras horas do dia 16 de dezembro de 1...\n",
      "22     escrito pelo biógrafo oficial de churchill o h...\n",
      "23     lizzie bennet é uma jovem estudante de comunic...\n",
      "24     segundo livro da minissérie herdeiros secretos...\n",
      "25     ainda recém casado o conde tristan deixou sua ...\n",
      "26     autoras best seller do usa today melodia do co...\n",
      "27     sterling é uma cidadezinha comum do interior o...\n",
      "28     o passado de mirabelle está envolto em segredo...\n",
      "29     uma receita apaixonante pegue uma dose de magg...\n",
      "...                                                  ...\n",
      "11269  quando os pais de cameron post morrem em um ac...\n",
      "11270  altares ruíram e templos se perderam nas areia...\n",
      "11271  um unicórnio um menino e o vento juntos em uma...\n",
      "11272  de revoltas populares a golpes militares de gu...\n",
      "11273  newt tina queenie e jacob os amados heróis de ...\n",
      "11274  cora é escrava em uma plantação de algodão da ...\n",
      "11275  você conhece o tasty o popular canal de culiná...\n",
      "11276  em tempos difíceis há uma urgência de entender...\n",
      "11277  neste livro o premiado autor ilan brenman apre...\n",
      "11278  o conto de beren e lúthien foi ou tornou se el...\n",
      "11279  nova edição do guinness world records o mais f...\n",
      "11280  1895 londres está assustada um assassino assom...\n",
      "11281  guerra amor e vida se unem neste drama profund...\n",
      "11282  bella uma linda cadelinha vira lata adotou luc...\n",
      "11283  antes do holocausto e da segunda guerra mundia...\n",
      "11284  você já sabe tudo sobre as bff girls não então...\n",
      "11285  não adianta se enganar o ano só começa mesmo d...\n",
      "11286  quando adam st james colocou os olhos na doce ...\n",
      "11287  um grande barulho ecoou ao redor do mundo traz...\n",
      "11288  ramon amorim cresceu na pequena cidade de ando...\n",
      "11289  neste livro o conhecido escritor ilan brenman ...\n",
      "11290  o dr oscar serrallach é um especialista neozel...\n",
      "11291  uma universidade renomada quatro universitário...\n",
      "11292  a vida de rhys cole sempre girou em torno do h...\n",
      "11293  nunca era um grito de vitória mas sim de dor t...\n",
      "11294  sawyer quer ter a própria vida finn quer esque...\n",
      "11295  o amor que o finn e eu compartilhamos é do tip...\n",
      "11296  james bradley sabia o que imprensa era capaz d...\n",
      "11297  dizem que o bater de asas de uma simples borbo...\n",
      "11298  neste livro você será envolvido por temas emoc...\n",
      "\n",
      "[11299 rows x 1 columns]\n"
     ]
    }
   ],
   "source": [
    "#df = df['sinopse']\n",
    "print(df)"
   ]
  },
  {
   "cell_type": "code",
   "execution_count": 6,
   "metadata": {},
   "outputs": [],
   "source": [
    "def executarEtiquetagemMorfossintatica(texto):\n",
    "    payload = {'texto': texto}\n",
    "    response = requests.get('http://portservice.pythonanywhere.com/analise/morfossintatica/freeling', params=payload).json()\n",
    "    string = []\n",
    "    for word in response:\n",
    "        string.append(word['lemma'] if word['lemma'] != '<unknown>' else word['token'])\n",
    "    finalString = \" \".join(string)\n",
    "\n",
    "    return finalString.replace('+',' ')"
   ]
  },
  {
   "cell_type": "code",
   "execution_count": 7,
   "metadata": {
    "scrolled": true
   },
   "outputs": [
    {
     "ename": "TypeError",
     "evalue": "string indices must be integers",
     "output_type": "error",
     "traceback": [
      "\u001b[1;31m---------------------------------------------------------------------------\u001b[0m",
      "\u001b[1;31mTypeError\u001b[0m                                 Traceback (most recent call last)",
      "\u001b[1;32m<ipython-input-7-6fc933305694>\u001b[0m in \u001b[0;36m<module>\u001b[1;34m()\u001b[0m\n\u001b[1;32m----> 1\u001b[1;33m \u001b[0mdf\u001b[0m \u001b[1;33m=\u001b[0m \u001b[1;33m[\u001b[0m\u001b[0mexecutarEtiquetagemMorfossintatica\u001b[0m\u001b[1;33m(\u001b[0m\u001b[0mtexto\u001b[0m\u001b[1;33m)\u001b[0m \u001b[1;32mfor\u001b[0m \u001b[0mtexto\u001b[0m \u001b[1;32min\u001b[0m \u001b[0mdf\u001b[0m\u001b[1;33m[\u001b[0m\u001b[1;34m'Text'\u001b[0m\u001b[1;33m]\u001b[0m\u001b[1;33m]\u001b[0m\u001b[1;33m\u001b[0m\u001b[0m\n\u001b[0m\u001b[0;32m      2\u001b[0m \u001b[1;31m#for texto in df['Text']:\u001b[0m\u001b[1;33m\u001b[0m\u001b[1;33m\u001b[0m\u001b[0m\n\u001b[0;32m      3\u001b[0m \u001b[1;31m#    print(executarEtiquetagemMorfossintatica(texto))\u001b[0m\u001b[1;33m\u001b[0m\u001b[1;33m\u001b[0m\u001b[0m\n",
      "\u001b[1;32m<ipython-input-7-6fc933305694>\u001b[0m in \u001b[0;36m<listcomp>\u001b[1;34m(.0)\u001b[0m\n\u001b[1;32m----> 1\u001b[1;33m \u001b[0mdf\u001b[0m \u001b[1;33m=\u001b[0m \u001b[1;33m[\u001b[0m\u001b[0mexecutarEtiquetagemMorfossintatica\u001b[0m\u001b[1;33m(\u001b[0m\u001b[0mtexto\u001b[0m\u001b[1;33m)\u001b[0m \u001b[1;32mfor\u001b[0m \u001b[0mtexto\u001b[0m \u001b[1;32min\u001b[0m \u001b[0mdf\u001b[0m\u001b[1;33m[\u001b[0m\u001b[1;34m'Text'\u001b[0m\u001b[1;33m]\u001b[0m\u001b[1;33m]\u001b[0m\u001b[1;33m\u001b[0m\u001b[0m\n\u001b[0m\u001b[0;32m      2\u001b[0m \u001b[1;31m#for texto in df['Text']:\u001b[0m\u001b[1;33m\u001b[0m\u001b[1;33m\u001b[0m\u001b[0m\n\u001b[0;32m      3\u001b[0m \u001b[1;31m#    print(executarEtiquetagemMorfossintatica(texto))\u001b[0m\u001b[1;33m\u001b[0m\u001b[1;33m\u001b[0m\u001b[0m\n",
      "\u001b[1;32m<ipython-input-6-6b3c1cc16de6>\u001b[0m in \u001b[0;36mexecutarEtiquetagemMorfossintatica\u001b[1;34m(texto)\u001b[0m\n\u001b[0;32m      4\u001b[0m     \u001b[0mstring\u001b[0m \u001b[1;33m=\u001b[0m \u001b[1;33m[\u001b[0m\u001b[1;33m]\u001b[0m\u001b[1;33m\u001b[0m\u001b[0m\n\u001b[0;32m      5\u001b[0m     \u001b[1;32mfor\u001b[0m \u001b[0mword\u001b[0m \u001b[1;32min\u001b[0m \u001b[0mresponse\u001b[0m\u001b[1;33m:\u001b[0m\u001b[1;33m\u001b[0m\u001b[0m\n\u001b[1;32m----> 6\u001b[1;33m         \u001b[0mstring\u001b[0m\u001b[1;33m.\u001b[0m\u001b[0mappend\u001b[0m\u001b[1;33m(\u001b[0m\u001b[0mword\u001b[0m\u001b[1;33m[\u001b[0m\u001b[1;34m'lemma'\u001b[0m\u001b[1;33m]\u001b[0m \u001b[1;32mif\u001b[0m \u001b[0mword\u001b[0m\u001b[1;33m[\u001b[0m\u001b[1;34m'lemma'\u001b[0m\u001b[1;33m]\u001b[0m \u001b[1;33m!=\u001b[0m \u001b[1;34m'<unknown>'\u001b[0m \u001b[1;32melse\u001b[0m \u001b[0mword\u001b[0m\u001b[1;33m[\u001b[0m\u001b[1;34m'token'\u001b[0m\u001b[1;33m]\u001b[0m\u001b[1;33m)\u001b[0m\u001b[1;33m\u001b[0m\u001b[0m\n\u001b[0m\u001b[0;32m      7\u001b[0m     \u001b[0mfinalString\u001b[0m \u001b[1;33m=\u001b[0m \u001b[1;34m\" \"\u001b[0m\u001b[1;33m.\u001b[0m\u001b[0mjoin\u001b[0m\u001b[1;33m(\u001b[0m\u001b[0mstring\u001b[0m\u001b[1;33m)\u001b[0m\u001b[1;33m\u001b[0m\u001b[0m\n\u001b[0;32m      8\u001b[0m \u001b[1;33m\u001b[0m\u001b[0m\n",
      "\u001b[1;31mTypeError\u001b[0m: string indices must be integers"
     ]
    }
   ],
   "source": [
    "df = [executarEtiquetagemMorfossintatica(texto) for texto in df['Text']]\n",
    "#for texto in df['Text']:\n",
    "#    print(executarEtiquetagemMorfossintatica(texto))"
   ]
  },
  {
   "cell_type": "code",
   "execution_count": 32,
   "metadata": {},
   "outputs": [],
   "source": [
    "df = pd.DataFrame(df)"
   ]
  },
  {
   "cell_type": "code",
   "execution_count": 20,
   "metadata": {},
   "outputs": [],
   "source": [
    "#Export DataFrame to a new CSV file\n",
    "df.to_csv('C:/Users/LuisRicardoFerraz/Documents/personal/projects/book-similarity/test/tutorial/tutorial/spiders/testing-synopsis-with-lemmas.csv', encoding=\"utf-8\")"
   ]
  }
 ],
 "metadata": {
  "kernelspec": {
   "display_name": "Python 3",
   "language": "python",
   "name": "python3"
  },
  "language_info": {
   "codemirror_mode": {
    "name": "ipython",
    "version": 3
   },
   "file_extension": ".py",
   "mimetype": "text/x-python",
   "name": "python",
   "nbconvert_exporter": "python",
   "pygments_lexer": "ipython3",
   "version": "3.7.0"
  }
 },
 "nbformat": 4,
 "nbformat_minor": 2
}
