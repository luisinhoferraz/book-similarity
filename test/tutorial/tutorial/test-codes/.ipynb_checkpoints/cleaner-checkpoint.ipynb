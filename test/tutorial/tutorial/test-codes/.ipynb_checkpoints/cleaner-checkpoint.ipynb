{
 "cells": [
  {
   "cell_type": "code",
   "execution_count": 1,
   "metadata": {},
   "outputs": [],
   "source": [
    "#Import packages\n",
    "import pandas as pd\n",
    "from pandas import DataFrame\n",
    "import re"
   ]
  },
  {
   "cell_type": "code",
   "execution_count": 2,
   "metadata": {},
   "outputs": [],
   "source": [
    "#Define where's the CSV file\n",
    "filePath = 'C:/Users/LuisRicardoFerraz/Documents/personal/projects/book-similarity/test/tutorial/tutorial/spiders/newDataSet.csv'"
   ]
  },
  {
   "cell_type": "code",
   "execution_count": 3,
   "metadata": {},
   "outputs": [],
   "source": [
    "#Import CSV file to a DataFrame\n",
    "df = pd.read_csv(filePath)"
   ]
  },
  {
   "cell_type": "code",
   "execution_count": 7,
   "metadata": {
    "scrolled": true
   },
   "outputs": [],
   "source": [
    "#Remove null fields from a list of columns in DataFrame\n",
    "df = df.dropna(axis=0,how='any',subset=['isbn-10','isbn-13','titulo','autor','editora','ano','paginas','leram','lendo','queremLer','relendo','abandonos','resenhas','nota','favoritos','desejados','trocam','avaliaram','cincoEstrelas','quatroEstrelas','tresEstrelas','duasEstrelas','umaEstrela','avaliacoesHomens','avaliacoesMulheres','sinopse'],inplace=False)"
   ]
  },
  {
   "cell_type": "code",
   "execution_count": 9,
   "metadata": {},
   "outputs": [],
   "source": [
    "for string in df.columns:\n",
    "    df[string] = [str(item).strip() for item in df[string]]"
   ]
  },
  {
   "cell_type": "code",
   "execution_count": 12,
   "metadata": {},
   "outputs": [],
   "source": [
    "#Remove duplicates from DataFrame\n",
    "df = df.drop_duplicates(subset=['isbn-10','isbn-13','titulo'],keep='first',inplace=False)"
   ]
  },
  {
   "cell_type": "code",
   "execution_count": 15,
   "metadata": {},
   "outputs": [],
   "source": [
    "df = df[df['ano'].map(len) == 9]\n",
    "df['ano'] = [ano.replace('Ano: ', '') for ano in df['ano']]"
   ]
  },
  {
   "cell_type": "code",
   "execution_count": 17,
   "metadata": {},
   "outputs": [],
   "source": [
    "df = df[df['idioma'].map(len) == 17]\n",
    "df['idioma'] = [idioma.replace('Idioma: ', '') for idioma in df['idioma']]"
   ]
  },
  {
   "cell_type": "code",
   "execution_count": 21,
   "metadata": {},
   "outputs": [],
   "source": [
    "df['paginas'] = [pagina.replace('Páginas: ', '') for pagina in df['paginas']]"
   ]
  },
  {
   "cell_type": "code",
   "execution_count": 38,
   "metadata": {
    "scrolled": true
   },
   "outputs": [],
   "source": [
    "for column in ['favoritos','desejados','trocam','avaliaram']:\n",
    "    df[column] = [re.search('[0-9]+',value).group() for value in df[column]]"
   ]
  },
  {
   "cell_type": "code",
   "execution_count": 60,
   "metadata": {},
   "outputs": [],
   "source": [
    "def removePercentage(value):\n",
    "    return int(value.replace('%',''))/100"
   ]
  },
  {
   "cell_type": "code",
   "execution_count": 63,
   "metadata": {},
   "outputs": [],
   "source": [
    "for column in ['cincoEstrelas','quatroEstrelas','tresEstrelas','duasEstrelas','umaEstrela','avaliacoesHomens','avaliacoesMulheres']:\n",
    "    df[column] = [removePercentage(value) for value in df[column]]"
   ]
  },
  {
   "cell_type": "code",
   "execution_count": 64,
   "metadata": {},
   "outputs": [],
   "source": [
    "#Export DataFrame to a new CSV file\n",
    "df.to_csv('C:/Users/LuisRicardoFerraz/Documents/personal/projects/book-similarity/test/tutorial/tutorial/spiders/newDatasetClean.csv')"
   ]
  }
 ],
 "metadata": {
  "kernelspec": {
   "display_name": "Python 3",
   "language": "python",
   "name": "python3"
  },
  "language_info": {
   "codemirror_mode": {
    "name": "ipython",
    "version": 3
   },
   "file_extension": ".py",
   "mimetype": "text/x-python",
   "name": "python",
   "nbconvert_exporter": "python",
   "pygments_lexer": "ipython3",
   "version": "3.7.0"
  }
 },
 "nbformat": 4,
 "nbformat_minor": 2
}
