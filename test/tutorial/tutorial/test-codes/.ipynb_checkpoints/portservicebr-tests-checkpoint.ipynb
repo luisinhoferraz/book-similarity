{
 "cells": [
  {
   "cell_type": "code",
   "execution_count": 1,
   "metadata": {},
   "outputs": [],
   "source": [
    "import requests\n",
    "import nltk\n",
    "\n",
    "from nltk.tokenize import word_tokenize"
   ]
  },
  {
   "cell_type": "code",
   "execution_count": 12,
   "metadata": {},
   "outputs": [],
   "source": [
    "text = \"diana prince mais conhecida como mulher maravilha é desde 1941 quando foi criada por wiliam marston uma das mais amadas personagens da história dos quadrinhos mas ela vai muito além da amazona que deixou paraíso sua ilha natal para combater o crime na américa símbolo sexual e ícone feminista a mulher maravilha tornou se um paradigma de representação feminina num universo dominado por homens super poderosos e em quase oitenta anos de existência passou por inúmeros desenhistas aventuras e transformações essa história pouco conhecida até por seus mais ardorosos fãs é contada em todos os detalhes em mulher maravilha amazona heroína ícone de robert greenberger uma edição luxuosa totalmente ilustrada enriquecida por capas e tirinhas raras que traz a evolução da personagem e demonstra a real dimensão de seu impacto no mundo dos super heróis na história da dc comics e no cenário da cultura pop mundial trazida novamente aos holofotes por produções cinematográficas recentes como o filme que leva seu nome e também o futuro lançamento liga da justiça a mulher maravilha vive hoje um novo momento de glória totalmente alinhado com a ascensão de um novo ideário feminista e movimentos de empoderamento de mulheres um livro imperdível que promete conquistar dos fãs mais antigos aos novos admiradores e fazer juz à grandeza dessa personagem que volta aos holofotes com força total após o lançamento do filme que leva seu nome\"\n",
    "payload = {'texto': text}"
   ]
  },
  {
   "cell_type": "code",
   "execution_count": 2,
   "metadata": {},
   "outputs": [],
   "source": [
    "text = \"resgate foi a primeira palavra que ouvi quando os tiros cessaram ele está ferido tire o daqui foi o que ouvi quando fui levado para cima arranque isso dele foi a última coisa que ouvi antes de me render a escuridão uma década depois e essas palavras ainda permeiam meus pensamentos antes elas me causavam medo mas aprendi a lidar com ele transformei o medo em ódio em uma motivação o combustível que precisava e a justificativa perfeita para a escuridão dentro de mim hoje eu tenho um plano e não vou desviar nem que isso signifique silenciar a única voz capaz de acalmar os demônios na minha cabeça danificada eles roubaram a minha vida e não a quero de volta meu único desejo é acabar com a deles\"\n",
    "payload = {'texto': text}"
   ]
  },
  {
   "cell_type": "code",
   "execution_count": 3,
   "metadata": {},
   "outputs": [],
   "source": [
    "text = \"cage substantivo cela prisão verbo prender enjaular mentiras são fáceis de se dizer fluem com naturalidade assim como as ondas uma após a outra consumindo afogando até que chega em um ponto que você não consegue mais voltar a superfície é nesse estágio que me encontro mas não é fácil ignorar o rosto do único homem que eu amei mesmo que esse rosto me atormente e agora meu castelo de areia será derrubado pelas minhas ondas de mentiras não posso fugir não posso gritar não posso dizer a verdade cage está de volta e meu inferno acaba de ganhar um novo significado\"\n",
    "payload = {'texto': text}"
   ]
  },
  {
   "cell_type": "code",
   "execution_count": 10,
   "metadata": {},
   "outputs": [],
   "source": [
    "text = \"feyre has returned to the spring court determined to gather information on tamlin s maneuverings and the invading king threatening to bring prythian to its knees but to do so she must play a deadly game of deceit and one slip may spell doom not only for feyre but for her world as well as war bears down upon them all feyre must decide who to trust amongst the dazzling and lethal high lords and hunt for allies in unexpected places in this thrilling third book in the 1 new york times and usa today bestselling series from sarah j maas the earth will be painted red as mighty armies grapple for power over the one thing that could destroy them all\"\n",
    "payload = {'texto': text}"
   ]
  },
  {
   "cell_type": "code",
   "execution_count": 3,
   "metadata": {},
   "outputs": [],
   "source": [
    "r = requests.get('http://portservice.pythonanywhere.com/analise/lexicosemantica/ontopt/', params=payload).json()"
   ]
  },
  {
   "cell_type": "code",
   "execution_count": 14,
   "metadata": {},
   "outputs": [],
   "source": [
    "r = requests.get('http://portservice.pythonanywhere.com/analise/morfossintatica/freeling', params=payload).json()"
   ]
  },
  {
   "cell_type": "code",
   "execution_count": 15,
   "metadata": {},
   "outputs": [
    {
     "name": "stdout",
     "output_type": "stream",
     "text": [
      "[{'token': 'diana', 'poss': 'NCFS', 'lemma': 'diana'}, {'token': 'prince', 'poss': 'VMI', 'lemma': '<unknown>'}, {'token': 'mais', 'poss': 'RG', 'lemma': 'mais'}, {'token': 'conhecida', 'poss': 'VMP', 'lemma': 'conhecer'}, {'token': 'como', 'poss': 'CS', 'lemma': 'como'}, {'token': 'mulher', 'poss': 'NCFS', 'lemma': 'mulher'}, {'token': 'maravilha', 'poss': 'NCFS', 'lemma': 'maravilha'}, {'token': 'é', 'poss': 'VMI', 'lemma': 'ser'}, {'token': 'desde', 'poss': 'SPS', 'lemma': 'desde'}, {'token': '1941', 'poss': 'Z', 'lemma': '@card@'}, {'token': 'quando', 'poss': 'RG', 'lemma': 'quando'}, {'token': 'foi', 'poss': 'VMI', 'lemma': 'ir'}, {'token': 'criada', 'poss': 'VMP', 'lemma': 'criar'}, {'token': 'por', 'poss': 'SPS', 'lemma': 'por'}, {'token': 'wiliam', 'poss': 'VMI', 'lemma': '<unknown>'}, {'token': 'marston', 'poss': 'NCMS', 'lemma': '<unknown>'}, {'token': 'uma', 'poss': 'Z', 'lemma': 'um'}, {'token': 'de', 'poss': 'SPS', 'lemma': 'de'}, {'token': 'as', 'poss': 'DA0', 'lemma': 'o'}, {'token': 'mais', 'poss': 'RG', 'lemma': 'mais'}, {'token': 'amadas', 'poss': 'VMP', 'lemma': 'amar'}, {'token': 'personagens', 'poss': 'NCFP', 'lemma': 'personagem'}, {'token': 'de', 'poss': 'SPS', 'lemma': 'de'}, {'token': 'a', 'poss': 'DA0', 'lemma': 'o'}, {'token': 'história', 'poss': 'NCFS', 'lemma': 'história'}, {'token': 'de', 'poss': 'SPS', 'lemma': 'de'}, {'token': 'os', 'poss': 'DA0', 'lemma': 'o'}, {'token': 'quadrinhos', 'poss': 'NCMP', 'lemma': 'quadro'}, {'token': 'mas', 'poss': 'CC', 'lemma': 'mas'}, {'token': 'ela', 'poss': 'PP3', 'lemma': 'ele'}, {'token': 'vai', 'poss': 'VMI', 'lemma': 'ir'}, {'token': 'muito', 'poss': 'RG', 'lemma': 'muito'}, {'token': 'além', 'poss': 'RG', 'lemma': 'além'}, {'token': 'de', 'poss': 'SPS', 'lemma': 'de'}, {'token': 'a', 'poss': 'DA0', 'lemma': 'o'}, {'token': 'amazona', 'poss': 'NCFS', 'lemma': 'amazona'}, {'token': 'que', 'poss': 'PR0', 'lemma': 'que'}, {'token': 'deixou', 'poss': 'VMI', 'lemma': 'deixar'}, {'token': 'paraíso', 'poss': 'NCMS', 'lemma': 'paraíso'}, {'token': 'sua', 'poss': 'PX3', 'lemma': 'seu'}, {'token': 'ilha', 'poss': 'NCFS', 'lemma': 'ilha'}, {'token': 'natal', 'poss': 'AQ0', 'lemma': 'natal'}, {'token': 'para', 'poss': 'SPS', 'lemma': 'para'}, {'token': 'combater', 'poss': 'VMN', 'lemma': 'combater'}, {'token': 'o', 'poss': 'DA0', 'lemma': 'o'}, {'token': 'crime', 'poss': 'NCMS', 'lemma': 'crime'}, {'token': 'em', 'poss': 'SPS', 'lemma': 'em'}, {'token': 'a', 'poss': 'DA0', 'lemma': 'o'}, {'token': 'américa', 'poss': 'AQ0', 'lemma': '<unknown>'}, {'token': 'símbolo', 'poss': 'NCMS', 'lemma': 'símbolo'}, {'token': 'sexual', 'poss': 'AQ0', 'lemma': 'sexual'}, {'token': 'e', 'poss': 'CC', 'lemma': 'e'}, {'token': 'ícone', 'poss': 'NCMS', 'lemma': 'ícone'}, {'token': 'feminista', 'poss': 'AQ0', 'lemma': 'feminista'}, {'token': 'a', 'poss': 'DA0', 'lemma': 'o'}, {'token': 'mulher', 'poss': 'NCFS', 'lemma': 'mulher'}, {'token': 'maravilha', 'poss': 'NCFS', 'lemma': 'maravilha'}, {'token': 'tornou', 'poss': 'VMI', 'lemma': 'tornar'}, {'token': 'se', 'poss': 'PP3', 'lemma': 'se'}, {'token': 'um', 'poss': 'DI0', 'lemma': 'um'}, {'token': 'paradigma', 'poss': 'NCMS', 'lemma': 'paradigma'}, {'token': 'de', 'poss': 'SPS', 'lemma': 'de'}, {'token': 'representação', 'poss': 'NCFS', 'lemma': 'representação'}, {'token': 'feminina', 'poss': 'AQ0', 'lemma': 'feminino'}, {'token': 'em', 'poss': 'SPS', 'lemma': 'em'}, {'token': 'um', 'poss': 'DI0', 'lemma': 'um'}, {'token': 'universo', 'poss': 'NCMS', 'lemma': 'universo'}, {'token': 'dominado', 'poss': 'VMP', 'lemma': 'dominar'}, {'token': 'por', 'poss': 'SPS', 'lemma': 'por'}, {'token': 'homens', 'poss': 'NCMP', 'lemma': 'homem'}, {'token': 'super', 'poss': 'AQ0', 'lemma': 'super'}, {'token': 'poderosos', 'poss': 'AQ0', 'lemma': 'poderoso'}, {'token': 'e', 'poss': 'CC', 'lemma': 'e'}, {'token': 'em', 'poss': 'SPS', 'lemma': 'em'}, {'token': 'quase', 'poss': 'RG', 'lemma': 'quase'}, {'token': 'oitenta', 'poss': 'Z', 'lemma': 'oitenta'}, {'token': 'anos', 'poss': 'NCMP', 'lemma': 'ano'}, {'token': 'de', 'poss': 'SPS', 'lemma': 'de'}, {'token': 'existência', 'poss': 'NCFS', 'lemma': 'existência'}, {'token': 'passou', 'poss': 'VMI', 'lemma': 'passar'}, {'token': 'por', 'poss': 'SPS', 'lemma': 'por'}, {'token': 'inúmeros', 'poss': 'AQ0', 'lemma': 'inúmero'}, {'token': 'desenhistas', 'poss': 'NCCP', 'lemma': 'desenhista'}, {'token': 'aventuras', 'poss': 'NCFP', 'lemma': 'aventura'}, {'token': 'e', 'poss': 'CC', 'lemma': 'e'}, {'token': 'transformações', 'poss': 'NCFP', 'lemma': 'transformação'}, {'token': 'essa', 'poss': 'DD0', 'lemma': 'esse'}, {'token': 'história', 'poss': 'NCFS', 'lemma': 'história'}, {'token': 'pouco', 'poss': 'RG', 'lemma': 'pouco'}, {'token': 'conhecida', 'poss': 'VMP', 'lemma': 'conhecer'}, {'token': 'até', 'poss': 'RG', 'lemma': 'até'}, {'token': 'por', 'poss': 'SPS', 'lemma': 'por'}, {'token': 'seus', 'poss': 'DP3', 'lemma': 'seu'}, {'token': 'mais', 'poss': 'RG', 'lemma': 'mais'}, {'token': 'ardorosos', 'poss': 'AQ0', 'lemma': 'ardoroso'}, {'token': 'fãs', 'poss': 'NCMP', 'lemma': 'fã'}, {'token': 'é', 'poss': 'VMI', 'lemma': 'ser'}, {'token': 'contada', 'poss': 'VMP', 'lemma': 'contar'}, {'token': 'em', 'poss': 'SPS', 'lemma': 'em'}, {'token': 'todos', 'poss': 'DI0', 'lemma': 'todo'}, {'token': 'os', 'poss': 'DA0', 'lemma': 'o'}, {'token': 'detalhes', 'poss': 'NCMP', 'lemma': 'detalhe'}, {'token': 'em', 'poss': 'SPS', 'lemma': 'em'}, {'token': 'mulher', 'poss': 'NCFS', 'lemma': 'mulher'}, {'token': 'maravilha', 'poss': 'VMI', 'lemma': 'maravilhar'}, {'token': 'amazona', 'poss': 'NCFS', 'lemma': 'amazona'}, {'token': 'heroína', 'poss': 'NCFS', 'lemma': 'heroína'}, {'token': 'ícone', 'poss': 'NCMS', 'lemma': 'ícone'}, {'token': 'de', 'poss': 'SPS', 'lemma': 'de'}, {'token': 'robert', 'poss': 'NCMS', 'lemma': '<unknown>'}, {'token': 'greenberger', 'poss': 'VMN', 'lemma': '<unknown>'}, {'token': 'uma', 'poss': 'DI0', 'lemma': 'um'}, {'token': 'edição', 'poss': 'NCFS', 'lemma': 'edição'}, {'token': 'luxuosa', 'poss': 'AQ0', 'lemma': 'luxuoso'}, {'token': 'totalmente', 'poss': 'RG', 'lemma': 'totalmente'}, {'token': 'ilustrada', 'poss': 'VMP', 'lemma': 'ilustrar'}, {'token': 'enriquecida', 'poss': 'VMP', 'lemma': 'enriquecer'}, {'token': 'por', 'poss': 'SPS', 'lemma': 'por'}, {'token': 'capas', 'poss': 'NCFP', 'lemma': 'capa'}, {'token': 'e', 'poss': 'CC', 'lemma': 'e'}, {'token': 'tirinhas', 'poss': 'NCFP', 'lemma': 'tira'}, {'token': 'raras', 'poss': 'AQ0', 'lemma': 'raro'}, {'token': 'que', 'poss': 'PR0', 'lemma': 'que'}, {'token': 'traz', 'poss': 'VMI', 'lemma': 'trazer'}, {'token': 'a', 'poss': 'DA0', 'lemma': 'o'}, {'token': 'evolução', 'poss': 'NCFS', 'lemma': 'evolução'}, {'token': 'de', 'poss': 'SPS', 'lemma': 'de'}, {'token': 'a', 'poss': 'DA0', 'lemma': 'o'}, {'token': 'personagem', 'poss': 'NCFS', 'lemma': 'personagem'}, {'token': 'e', 'poss': 'CC', 'lemma': 'e'}, {'token': 'demonstra', 'poss': 'VMI', 'lemma': 'demonstrar'}, {'token': 'a', 'poss': 'DA0', 'lemma': 'o'}, {'token': 'real', 'poss': 'AQ0', 'lemma': 'real'}, {'token': 'dimensão', 'poss': 'NCFS', 'lemma': 'dimensão'}, {'token': 'de', 'poss': 'SPS', 'lemma': 'de'}, {'token': 'seu', 'poss': 'DP3', 'lemma': 'seu'}, {'token': 'impacto', 'poss': 'NCMS', 'lemma': 'impacto'}, {'token': 'em', 'poss': 'SPS', 'lemma': 'em'}, {'token': 'o', 'poss': 'DA0', 'lemma': 'o'}, {'token': 'mundo', 'poss': 'NCMS', 'lemma': 'mundo'}, {'token': 'de', 'poss': 'SPS', 'lemma': 'de'}, {'token': 'os', 'poss': 'DA0', 'lemma': 'o'}, {'token': 'super', 'poss': 'AQ0', 'lemma': 'super'}, {'token': 'heróis', 'poss': 'NCMP', 'lemma': 'herói'}, {'token': 'em', 'poss': 'SPS', 'lemma': 'em'}, {'token': 'a', 'poss': 'DA0', 'lemma': 'o'}, {'token': 'história', 'poss': 'NCFS', 'lemma': 'história'}, {'token': 'de', 'poss': 'SPS', 'lemma': 'de'}, {'token': 'a', 'poss': 'DA0', 'lemma': 'o'}, {'token': 'dc', 'poss': 'NCMS', 'lemma': '<unknown>'}, {'token': 'comics', 'poss': 'NCMP', 'lemma': 'comic'}, {'token': 'e', 'poss': 'CC', 'lemma': 'e'}, {'token': 'em', 'poss': 'SPS', 'lemma': 'em'}, {'token': 'o', 'poss': 'DA0', 'lemma': 'o'}, {'token': 'cenário', 'poss': 'NCMS', 'lemma': 'cenário'}, {'token': 'de', 'poss': 'SPS', 'lemma': 'de'}, {'token': 'a', 'poss': 'DA0', 'lemma': 'o'}, {'token': 'cultura', 'poss': 'NCFS', 'lemma': 'cultura'}, {'token': 'pop', 'poss': 'AQ0', 'lemma': 'pop'}, {'token': 'mundial', 'poss': 'AQ0', 'lemma': 'mundial'}, {'token': 'trazida', 'poss': 'VMP', 'lemma': 'trazer'}, {'token': 'novamente', 'poss': 'RG', 'lemma': 'novamente'}, {'token': 'a', 'poss': 'SPS', 'lemma': 'a'}, {'token': 'os', 'poss': 'DA0', 'lemma': 'o'}, {'token': 'holofotes', 'poss': 'NCMP', 'lemma': 'holofote'}, {'token': 'por', 'poss': 'SPS', 'lemma': 'por'}, {'token': 'produções', 'poss': 'NCFP', 'lemma': 'produção'}, {'token': 'cinematográficas', 'poss': 'AQ0', 'lemma': 'cinematográfico'}, {'token': 'recentes', 'poss': 'AQ0', 'lemma': 'recente'}, {'token': 'como', 'poss': 'CS', 'lemma': 'como'}, {'token': 'o', 'poss': 'DA0', 'lemma': 'o'}, {'token': 'filme', 'poss': 'NCMS', 'lemma': 'filme'}, {'token': 'que', 'poss': 'PR0', 'lemma': 'que'}, {'token': 'leva', 'poss': 'VMI', 'lemma': 'levar'}, {'token': 'seu', 'poss': 'DP3', 'lemma': 'seu'}, {'token': 'nome', 'poss': 'NCMS', 'lemma': 'nome'}, {'token': 'e', 'poss': 'CC', 'lemma': 'e'}, {'token': 'também', 'poss': 'RG', 'lemma': 'também'}, {'token': 'o', 'poss': 'DA0', 'lemma': 'o'}, {'token': 'futuro', 'poss': 'AQ0', 'lemma': 'futuro'}, {'token': 'lançamento', 'poss': 'NCMS', 'lemma': 'lançamento'}, {'token': 'liga', 'poss': 'VMI', 'lemma': 'ligar'}, {'token': 'de', 'poss': 'SPS', 'lemma': 'de'}, {'token': 'a', 'poss': 'DA0', 'lemma': 'o'}, {'token': 'justiça', 'poss': 'NCFS', 'lemma': 'justiça'}, {'token': 'a', 'poss': 'SPS', 'lemma': 'a'}, {'token': 'mulher', 'poss': 'NCFS', 'lemma': 'mulher'}, {'token': 'maravilha', 'poss': 'NCFS', 'lemma': 'maravilha'}, {'token': 'vive', 'poss': 'VMI', 'lemma': 'viver'}, {'token': 'hoje', 'poss': 'RG', 'lemma': 'hoje'}, {'token': 'um', 'poss': 'DI0', 'lemma': 'um'}, {'token': 'novo', 'poss': 'AQ0', 'lemma': 'novo'}, {'token': 'momento', 'poss': 'NCMS', 'lemma': 'momento'}, {'token': 'de', 'poss': 'SPS', 'lemma': 'de'}, {'token': 'glória', 'poss': 'NCFS', 'lemma': 'glória'}, {'token': 'totalmente', 'poss': 'RG', 'lemma': 'totalmente'}, {'token': 'alinhado', 'poss': 'VMP', 'lemma': 'alinhar'}, {'token': 'com', 'poss': 'SPS', 'lemma': 'com'}, {'token': 'a', 'poss': 'DA0', 'lemma': 'o'}, {'token': 'ascensão', 'poss': 'NCFS', 'lemma': 'ascensão'}, {'token': 'de', 'poss': 'SPS', 'lemma': 'de'}, {'token': 'um', 'poss': 'DI0', 'lemma': 'um'}, {'token': 'novo', 'poss': 'AQ0', 'lemma': 'novo'}, {'token': 'ideário', 'poss': 'NCMS', 'lemma': 'ideário'}, {'token': 'feminista', 'poss': 'AQ0', 'lemma': 'feminista'}, {'token': 'e', 'poss': 'CC', 'lemma': 'e'}, {'token': 'movimentos', 'poss': 'NCMP', 'lemma': 'movimento'}, {'token': 'de', 'poss': 'SPS', 'lemma': 'de'}, {'token': 'empoderamento', 'poss': 'NCMS', 'lemma': '<unknown>'}, {'token': 'de', 'poss': 'SPS', 'lemma': 'de'}, {'token': 'mulheres', 'poss': 'NCFP', 'lemma': 'mulher'}, {'token': 'um', 'poss': 'DI0', 'lemma': 'um'}, {'token': 'livro', 'poss': 'NCMS', 'lemma': 'livro'}, {'token': 'imperdível', 'poss': 'AQ0', 'lemma': 'imperdível'}, {'token': 'que', 'poss': 'PR0', 'lemma': 'que'}, {'token': 'promete', 'poss': 'VMI', 'lemma': 'prometer'}, {'token': 'conquistar', 'poss': 'VMN', 'lemma': 'conquistar'}, {'token': 'de', 'poss': 'SPS', 'lemma': 'de'}, {'token': 'os', 'poss': 'DA0', 'lemma': 'o'}, {'token': 'fãs', 'poss': 'NCMP', 'lemma': 'fã'}, {'token': 'mais', 'poss': 'RG', 'lemma': 'mais'}, {'token': 'antigos', 'poss': 'AQ0', 'lemma': 'antigo'}, {'token': 'a', 'poss': 'SPS', 'lemma': 'a'}, {'token': 'os', 'poss': 'DA0', 'lemma': 'o'}, {'token': 'novos', 'poss': 'AQ0', 'lemma': 'novo'}, {'token': 'admiradores', 'poss': 'NCMP', 'lemma': 'admirador'}, {'token': 'e', 'poss': 'CC', 'lemma': 'e'}, {'token': 'fazer', 'poss': 'VMN', 'lemma': 'fazer'}, {'token': 'juz', 'poss': 'NCMS', 'lemma': '<unknown>'}, {'token': 'a', 'poss': 'SPS', 'lemma': 'a'}, {'token': 'a', 'poss': 'DA0', 'lemma': 'o'}, {'token': 'grandeza', 'poss': 'NCFS', 'lemma': 'grandeza'}, {'token': 'de', 'poss': 'SPS', 'lemma': 'de'}, {'token': 'essa', 'poss': 'DD0', 'lemma': 'esse'}, {'token': 'personagem', 'poss': 'NCFS', 'lemma': 'personagem'}, {'token': 'que', 'poss': 'PR0', 'lemma': 'que'}, {'token': 'volta', 'poss': 'VMI', 'lemma': 'voltar'}, {'token': 'a', 'poss': 'SPS', 'lemma': 'a'}, {'token': 'os', 'poss': 'DA0', 'lemma': 'o'}, {'token': 'holofotes', 'poss': 'NCMP', 'lemma': 'holofote'}, {'token': 'com', 'poss': 'SPS', 'lemma': 'com'}, {'token': 'força', 'poss': 'NCFS', 'lemma': 'força'}, {'token': 'total', 'poss': 'AQ0', 'lemma': 'total'}, {'token': 'após', 'poss': 'SPS', 'lemma': 'após'}, {'token': 'o', 'poss': 'DA0', 'lemma': 'o'}, {'token': 'lançamento', 'poss': 'NCMS', 'lemma': 'lançamento'}, {'token': 'de', 'poss': 'SPS', 'lemma': 'de'}, {'token': 'o', 'poss': 'DA0', 'lemma': 'o'}, {'token': 'filme', 'poss': 'NCMS', 'lemma': 'filme'}, {'token': 'que', 'poss': 'PR0', 'lemma': 'que'}, {'token': 'leva', 'poss': 'VMI', 'lemma': 'levar'}, {'token': 'seu', 'poss': 'DP3', 'lemma': 'seu'}, {'token': 'nome', 'poss': 'NCMS', 'lemma': 'nome'}]\n"
     ]
    }
   ],
   "source": [
    "print(r)"
   ]
  },
  {
   "cell_type": "code",
   "execution_count": 8,
   "metadata": {},
   "outputs": [],
   "source": [
    "def executarEtiquetagemMorfossintatica(texto):\n",
    "    payload = {'texto': texto}\n",
    "    response = requests.get('http://portservice.pythonanywhere.com/analise/morfossintatica/freeling', params=payload).json()\n",
    "    string = []\n",
    "    for word in response:\n",
    "        string.append(word['lemma'] if word['lemma'] != '<unknown>' else word['token'])\n",
    "    finalString = \" \".join(string)\n",
    "\n",
    "    return finalString.replace('+',' ')"
   ]
  },
  {
   "cell_type": "code",
   "execution_count": 13,
   "metadata": {},
   "outputs": [
    {
     "name": "stdout",
     "output_type": "stream",
     "text": [
      "diana prince mais conhecer como mulher maravilha ser desde @card@ quando ir criar por wiliam marston um de o mais amar personagem de o história de o quadro mas ele ir muito além de o amazona que deixar paraíso seu ilha natal para combater o crime em o américa símbolo sexual e ícone feminista o mulher maravilha tornar se um paradigma de representação feminino em um universo dominar por homem super poderoso e em quase oitenta ano de existência passar por inúmero desenhista aventura e transformação esse história pouco conhecer até por seu mais ardoroso fã ser contar em todo o detalhe em mulher maravilhar amazona heroína ícone de robert greenberger um edição luxuoso totalmente ilustrar enriquecer por capa e tira raro que trazer o evolução de o personagem e demonstrar o real dimensão de seu impacto em o mundo de o super herói em o história de o dc comic e em o cenário de o cultura pop mundial trazer novamente a o holofote por produção cinematográfico recente como o filme que levar seu nome e também o futuro lançamento ligar de o justiça a mulher maravilha viver hoje um novo momento de glória totalmente alinhar com o ascensão de um novo ideário feminista e movimento de empoderamento de mulher um livro imperdível que prometer conquistar de o fã mais antigo a o novo admirador e fazer juz a o grandeza de esse personagem que voltar a o holofote com força total após o lançamento de o filme que levar seu nome\n"
     ]
    }
   ],
   "source": [
    "#text = \"resgate foi a primeira palavra que ouvi quando os tiros cessaram ele está ferido tire o daqui foi o que ouvi quando fui levado para cima arranque isso dele foi a última coisa que ouvi antes de me render a escuridão uma década depois e essas palavras ainda permeiam meus pensamentos antes elas me causavam medo mas aprendi a lidar com ele transformei o medo em ódio em uma motivação o combustível que precisava e a justificativa perfeita para a escuridão dentro de mim hoje eu tenho um plano e não vou desviar nem que isso signifique silenciar a única voz capaz de acalmar os demônios na minha cabeça danificada eles roubaram a minha vida e não a quero de volta meu único desejo é acabar com a deles\"\n",
    "print(executarEtiquetagemMorfossintatica(text))"
   ]
  }
 ],
 "metadata": {
  "kernelspec": {
   "display_name": "Python 3",
   "language": "python",
   "name": "python3"
  },
  "language_info": {
   "codemirror_mode": {
    "name": "ipython",
    "version": 3
   },
   "file_extension": ".py",
   "mimetype": "text/x-python",
   "name": "python",
   "nbconvert_exporter": "python",
   "pygments_lexer": "ipython3",
   "version": "3.7.0"
  }
 },
 "nbformat": 4,
 "nbformat_minor": 2
}
