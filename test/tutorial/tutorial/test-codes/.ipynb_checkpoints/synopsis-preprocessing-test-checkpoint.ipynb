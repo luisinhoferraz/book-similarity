{
 "cells": [
  {
   "cell_type": "code",
   "execution_count": 1,
   "metadata": {},
   "outputs": [],
   "source": [
    "#Import packages\n",
    "import pandas as pd\n",
    "from pandas import DataFrame\n",
    "import numpy as np\n",
    "import re"
   ]
  },
  {
   "cell_type": "code",
   "execution_count": 2,
   "metadata": {},
   "outputs": [],
   "source": [
    "#Define where's the CSV file\n",
    "filePath = 'C:/Users/LuisRicardoFerraz/Documents/personal/projects/book-similarity/test/tutorial/tutorial/spiders/newDataSetClean.csv'"
   ]
  },
  {
   "cell_type": "code",
   "execution_count": 3,
   "metadata": {},
   "outputs": [],
   "source": [
    "#Import CSV file to a DataFrame\n",
    "df = pd.read_csv(filePath)"
   ]
  },
  {
   "cell_type": "code",
   "execution_count": 24,
   "metadata": {},
   "outputs": [
    {
     "name": "stdout",
     "output_type": "stream",
     "text": [
      "isbn-10 0.0\n",
      "isbn-13 0.0\n",
      "titulo 0.0\n",
      "autor 0.0\n",
      "editora 0.0\n",
      "ano 0.0\n",
      "paginas 0.0\n",
      "idioma 0.0\n",
      "leram 0.0\n",
      "lendo 0.0\n",
      "queremLer 0.0\n",
      "relendo 0.0\n",
      "abandonos 0.0\n",
      "resenhas 0.0\n",
      "nota 0.0\n",
      "favoritos 0.0\n",
      "desejados 0.0\n",
      "trocam 0.0\n",
      "avaliaram 0.0\n",
      "cincoEstrelas 0.0\n",
      "quatroEstrelas 0.0\n",
      "tresEstrelas 0.0\n",
      "duasEstrelas 0.0\n",
      "umaEstrela 0.0\n",
      "avaliacoesHomens 0.0\n",
      "avaliacoesMulheres 0.0\n",
      "sinopse 0.0\n"
     ]
    }
   ],
   "source": [
    "i = 0\n",
    "for column in df:\n",
    "    for record in df[column]:\n",
    "        if (str(record) == 'nan'):\n",
    "            i = i+1\n",
    "    print(column+' '+str(i*100/df.shape[0]))\n",
    "    i = 0"
   ]
  },
  {
   "cell_type": "code",
   "execution_count": 5,
   "metadata": {},
   "outputs": [],
   "source": [
    "df = df.drop(['subtitulo','generos','tags'],1)"
   ]
  },
  {
   "cell_type": "code",
   "execution_count": 6,
   "metadata": {},
   "outputs": [
    {
     "data": {
      "text/plain": [
       "(11302, 28)"
      ]
     },
     "execution_count": 6,
     "metadata": {},
     "output_type": "execute_result"
    }
   ],
   "source": [
    "df.shape"
   ]
  },
  {
   "cell_type": "code",
   "execution_count": 23,
   "metadata": {},
   "outputs": [],
   "source": [
    "df.to_csv('C:/Users/LuisRicardoFerraz/Documents/personal/projects/book-similarity/test/tutorial/tutorial/spiders/dataSetNewSteps.csv')"
   ]
  },
  {
   "cell_type": "code",
   "execution_count": 39,
   "metadata": {},
   "outputs": [],
   "source": [
    "filePath = 'C:/Users/LuisRicardoFerraz/Documents/personal/projects/book-similarity/test/tutorial/tutorial/spiders/dataSetNewSteps.csv'"
   ]
  },
  {
   "cell_type": "code",
   "execution_count": 3,
   "metadata": {},
   "outputs": [],
   "source": [
    "df = pd.read_csv(filePath)"
   ]
  },
  {
   "cell_type": "code",
   "execution_count": 7,
   "metadata": {},
   "outputs": [],
   "source": [
    "df = df.drop(['Unnamed: 0'],1)"
   ]
  },
  {
   "cell_type": "code",
   "execution_count": 27,
   "metadata": {},
   "outputs": [
    {
     "data": {
      "text/plain": [
       "isbn-10                object\n",
       "isbn-13                 int64\n",
       "titulo                 object\n",
       "autor                  object\n",
       "editora                object\n",
       "ano                     int64\n",
       "paginas                 int64\n",
       "idioma                 object\n",
       "leram                   int64\n",
       "lendo                   int64\n",
       "queremLer               int64\n",
       "relendo                 int64\n",
       "abandonos               int64\n",
       "resenhas                int64\n",
       "nota                  float64\n",
       "favoritos               int64\n",
       "desejados               int64\n",
       "trocam                  int64\n",
       "avaliaram               int64\n",
       "cincoEstrelas         float64\n",
       "quatroEstrelas        float64\n",
       "tresEstrelas          float64\n",
       "duasEstrelas          float64\n",
       "umaEstrela            float64\n",
       "avaliacoesHomens      float64\n",
       "avaliacoesMulheres    float64\n",
       "sinopse                object\n",
       "dtype: object"
      ]
     },
     "execution_count": 27,
     "metadata": {},
     "output_type": "execute_result"
    }
   ],
   "source": [
    "df.dtypes"
   ]
  },
  {
   "cell_type": "code",
   "execution_count": 40,
   "metadata": {},
   "outputs": [],
   "source": [
    "df.to_csv(filePath)"
   ]
  },
  {
   "cell_type": "code",
   "execution_count": 9,
   "metadata": {},
   "outputs": [],
   "source": [
    "df = df.dropna(axis=0,how='any',subset=['sinopse'],inplace=False)"
   ]
  },
  {
   "cell_type": "code",
   "execution_count": 10,
   "metadata": {},
   "outputs": [
    {
     "data": {
      "text/plain": [
       "(11299, 27)"
      ]
     },
     "execution_count": 10,
     "metadata": {},
     "output_type": "execute_result"
    }
   ],
   "source": [
    "df.shape"
   ]
  },
  {
   "cell_type": "code",
   "execution_count": 14,
   "metadata": {},
   "outputs": [
    {
     "name": "stdout",
     "output_type": "stream",
     "text": [
      "Volume 1 das Obras completas\n",
      "Coleção Contos para jovens.\n",
      "participação no governo Lula\n",
      "Ciência da Informação\n"
     ]
    }
   ],
   "source": [
    "for synopsis in df['sinopse']:\n",
    "    if len(str(synopsis)) <= 30:\n",
    "        print(synopsis)"
   ]
  },
  {
   "cell_type": "code",
   "execution_count": 13,
   "metadata": {},
   "outputs": [
    {
     "name": "stdout",
     "output_type": "stream",
     "text": [
      "11292\n"
     ]
    }
   ],
   "source": [
    "synopsisLength = []\n",
    "for synopsis in df['sinopse']:\n",
    "    synopsisLength.append(len(str(synopsis)))\n",
    "print(len(synopsisLength))"
   ]
  },
  {
   "cell_type": "code",
   "execution_count": 11,
   "metadata": {},
   "outputs": [],
   "source": [
    "df = df[df['sinopse'].map(len) > 20]"
   ]
  },
  {
   "cell_type": "code",
   "execution_count": 21,
   "metadata": {
    "scrolled": true
   },
   "outputs": [
    {
     "name": "stdout",
     "output_type": "stream",
     "text": [
      "Média: 914.43668083599\n",
      "Mediana: 795.0\n",
      "Máximo: 8374\n",
      "Mínimo: 21\n",
      "Intervalo médio: 4176.5\n",
      "Variância: 305112.18685030536\n",
      "desvio-padrão: 552.3696107230243\n"
     ]
    }
   ],
   "source": [
    "def extrairEstatisticas(synopsisLength):\n",
    "    synopsisLength = np.array(synopsisLength)\n",
    "\n",
    "    # Média\n",
    "    print(\"Média: \"+str(np.mean(synopsisLength)))\n",
    "\n",
    "    # Mediana\n",
    "    print(\"Mediana: \"+str(np.median(synopsisLength)))\n",
    "\n",
    "    # Máximo e Mínimo\n",
    "    print(\"Máximo: \"+str(np.max(synopsisLength)))\n",
    "    print(\"Mínimo: \"+str(np.min(synopsisLength)))\n",
    "\n",
    "    # Intervalo médio\n",
    "    print(\"Intervalo médio: \"+str((np.max(synopsisLength)-np.min(synopsisLength))/2))\n",
    "\n",
    "    # Variância e desvio-padrão\n",
    "    print(\"Variância: \"+str(np.var(synopsisLength,ddof=1)))\n",
    "    print(\"desvio-padrão: \"+str(np.std(synopsisLength,ddof=1)))\n",
    "\n",
    "extrairEstatisticas(synopsisLength)"
   ]
  },
  {
   "cell_type": "code",
   "execution_count": 20,
   "metadata": {},
   "outputs": [
    {
     "name": "stdout",
     "output_type": "stream",
     "text": [
      "19.182301876225146\n",
      "0.7187529170167086\n",
      "0.0\n",
      "0.0\n",
      "0.0\n"
     ]
    }
   ],
   "source": [
    "# Considerar a correção do arredondamento já no Crawler, e depois remover os dados que permanecerem incorretos.\n",
    "\n",
    "array = [value for value in df['cincoEstrelas']+df['quatroEstrelas']+df['tresEstrelas']+df['duasEstrelas']+df['umaEstrela'] > 1 if value == True]\n",
    "print(len(array)*100/df.shape[0])\n",
    "sort = [value for value in df['avaliacoesHomens'] + df['avaliacoesMulheres'] > 1 if value == True]\n",
    "print(len(sort)*100/df.shape[0])\n",
    "list = [value for value in df['avaliaram'] > df['leram'] if value == True]\n",
    "print(len(list)*100/df.shape[0])\n",
    "sample = [value for value in df['favoritos'] > df['leram'] if value == True]\n",
    "print(len(sample)*100/df.shape[0])\n",
    "bypass = [value for value in df['relendo'] > df['leram'] if value == True]\n",
    "print(len(bypass)*100/df.shape[0])"
   ]
  },
  {
   "cell_type": "code",
   "execution_count": 17,
   "metadata": {},
   "outputs": [],
   "source": [
    "df = df[df['avaliaram'] <= df['leram']]"
   ]
  },
  {
   "cell_type": "code",
   "execution_count": 18,
   "metadata": {},
   "outputs": [],
   "source": [
    "df = df[df['favoritos'] <= df['leram']]"
   ]
  },
  {
   "cell_type": "code",
   "execution_count": 19,
   "metadata": {},
   "outputs": [],
   "source": [
    "df = df[df['relendo'] <= df['leram']]"
   ]
  },
  {
   "cell_type": "code",
   "execution_count": 13,
   "metadata": {},
   "outputs": [
    {
     "data": {
      "text/plain": [
       "'\\ndef transformarEditora(atual,correto):\\n    if correto in atual:\\n        return correto\\n    else:\\n        return atual\\n'"
      ]
     },
     "execution_count": 13,
     "metadata": {},
     "output_type": "execute_result"
    }
   ],
   "source": [
    "\"\"\"\n",
    "def transformarEditora(atual,correto):\n",
    "    if correto in atual:\n",
    "        return correto\n",
    "    else:\n",
    "        return atual\n",
    "\"\"\""
   ]
  },
  {
   "cell_type": "code",
   "execution_count": 14,
   "metadata": {},
   "outputs": [
    {
     "data": {
      "text/plain": [
       "\"\\neditorasOficiais = ['Intrínseca','Harlequin','Sextante','Arqueiro','Galera Record','Leya','Rocco','Valentina','Planeta','Verus','HarperCollins','Universo','Gift Box']\\nlistaEditoras = df['editora']\\nlistaEditoras = [editora.lower() for editora in listaEditoras]\\neditorasOficiais = [editora.lower() for editora in editorasOficiais]\\nprint(transformarEditora(listaEditoras[17],editorasOficiais[1]))\\n\""
      ]
     },
     "execution_count": 14,
     "metadata": {},
     "output_type": "execute_result"
    }
   ],
   "source": [
    "\"\"\"\n",
    "editorasOficiais = ['Intrínseca','Harlequin','Sextante','Arqueiro','Galera Record','Leya','Rocco','Valentina','Planeta','Verus','HarperCollins','Universo','Gift Box']\n",
    "listaEditoras = df['editora']\n",
    "listaEditoras = [editora.lower() for editora in listaEditoras]\n",
    "editorasOficiais = [editora.lower() for editora in editorasOficiais]\n",
    "print(transformarEditora(listaEditoras[17],editorasOficiais[1]))\n",
    "\"\"\""
   ]
  },
  {
   "cell_type": "code",
   "execution_count": 15,
   "metadata": {},
   "outputs": [
    {
     "data": {
      "text/plain": [
       "\"\\neditorasOficiais = ['Intrínseca','Harlequin','Sextante','Arqueiro','Record','Leya','Rocco','Valentina','Planeta','Verus','HarperCollins','Universo','Gift Box']\\nlistaEditoras = df['editora']\\n\\nlistaEditoras = [editora.lower() for editora in listaEditoras]\\neditorasOficiais = [editora.lower() for editora in editorasOficiais]\\n\\ni = 0\\nj = 0\\n\\nwhile i < len(editorasOficiais):\\n    j = 0\\n    while j < len(listaEditoras):\\n        listaEditoras[j] = transformarEditora(listaEditoras[j],editorasOficiais[i])\\n        j = j+1\\n    i = i+1\\n\\nfor editora in listaEditoras:\\n    if editora not in editorasOficiais:\\n        print(editora)\\n\""
      ]
     },
     "execution_count": 15,
     "metadata": {},
     "output_type": "execute_result"
    }
   ],
   "source": [
    "\"\"\"\n",
    "editorasOficiais = ['Intrínseca','Harlequin','Sextante','Arqueiro','Record','Leya','Rocco','Valentina','Planeta','Verus','HarperCollins','Universo','Gift Box']\n",
    "listaEditoras = df['editora']\n",
    "\n",
    "listaEditoras = [editora.lower() for editora in listaEditoras]\n",
    "editorasOficiais = [editora.lower() for editora in editorasOficiais]\n",
    "\n",
    "i = 0\n",
    "j = 0\n",
    "\n",
    "while i < len(editorasOficiais):\n",
    "    j = 0\n",
    "    while j < len(listaEditoras):\n",
    "        listaEditoras[j] = transformarEditora(listaEditoras[j],editorasOficiais[i])\n",
    "        j = j+1\n",
    "    i = i+1\n",
    "\n",
    "for editora in listaEditoras:\n",
    "    if editora not in editorasOficiais:\n",
    "        print(editora)\n",
    "\"\"\""
   ]
  },
  {
   "cell_type": "code",
   "execution_count": 22,
   "metadata": {},
   "outputs": [
    {
     "data": {
      "text/plain": [
       "0        uma jovem garota brasileira resolve se aventur...\n",
       "1        \"resgate\" foi a primeira palavra que ouvi quan...\n",
       "2        cage: substantivo: cela, prisão.  verbo: prend...\n",
       "3        feyre has returned to the spring court, determ...\n",
       "4        quebrado. irritado. abandonado. era assim que ...\n",
       "5        uma distopia atual, próxima dos dias de hoje, ...\n",
       "6        as histórias de contos de fadas que as criança...\n",
       "7        maitê passos é uma garota linda, de dezessete ...\n",
       "9        existe uma forma de leveza e de graça no simpl...\n",
       "11       um thriller sobre a luta secreta entre o bem e...\n",
       "12       as crônicas de gelo e fogo. jon snow, daenerys...\n",
       "13       duke é um homem simples com uma vida modesta, ...\n",
       "14       o oitavo volume de wild cards injeta ainda mai...\n",
       "15       diana prince, mais conhecida como mulher-marav...\n",
       "16       na são paulo do início do século xx, a jovem g...\n",
       "17       antes de se tornar a mulher-maravilha, ela era...\n",
       "18       podemos até não viver no paraíso, mas passamos...\n",
       "19       henry cavanaugh, duque de torquil, anseia por ...\n",
       "20       viviane acaba de perder o pai. com a mãe em de...\n",
       "21       nas primeiras horas do dia 16 de dezembro de 1...\n",
       "22       escrito pelo biógrafo oficial de churchill, o ...\n",
       "23       lizzie bennet é uma jovem estudante de comunic...\n",
       "25       ainda recém-casado, o conde tristan deixou sua...\n",
       "26       autoras best-seller do usa today.  melodia do ...\n",
       "27       sterling é uma cidadezinha comum do interior, ...\n",
       "28       o passado de mirabelle está envolto em segredo...\n",
       "29       uma receita apaixonante!  pegue uma dose de ma...\n",
       "32       na pequena ilha de thisby, poucos cavaleiros s...\n",
       "33       livro em formato de bolso e com ilustrações de...\n",
       "35       união de sentimentos – anna cleary cate summer...\n",
       "                               ...                        \n",
       "11268    é 1969 no lower east side de nova york e os ru...\n",
       "11269    este livro é a história dos inúmeros e imprová...\n",
       "11271    encontrando gobi é o relato milagroso de dion ...\n",
       "11272    quando os pais de cameron post morrem em um ac...\n",
       "11273    altares ruíram e templos se perderam nas areia...\n",
       "11274    um unicórnio, um menino e o vento, juntos em u...\n",
       "11275    de revoltas populares a golpes militares, de g...\n",
       "11276    newt, tina, queenie e jacob, os amados heróis ...\n",
       "11277    cora é escrava em uma plantação de algodão da ...\n",
       "11278    você conhece o tasty: o popular canal de culin...\n",
       "11279    em tempos difíceis, há uma urgência de entende...\n",
       "11280    neste livro, o premiado autor ilan brenman apr...\n",
       "11281    o conto de beren e lúthien foi, ou tornou-se, ...\n",
       "11282    nova edição do guinness world records, o mais ...\n",
       "11284    guerra, amor e vida se unem neste drama profun...\n",
       "11285    bella, uma linda cadelinha vira-lata, adotou l...\n",
       "11286    antes do holocausto e da segunda guerra mundia...\n",
       "11287    você já sabe tudo sobre as bff girls? não? ent...\n",
       "11288    não adianta se enganar: o ano só começa mesmo ...\n",
       "11289    \"quando adam st. james colocou os olhos na doc...\n",
       "11290    'um grande barulho ecoou ao redor do mundo, tr...\n",
       "11291    ramon amorim cresceu na pequena cidade de ando...\n",
       "11292    neste livro, o conhecido escritor ilan brenman...\n",
       "11293    o dr. oscar serrallach é um especialista neoze...\n",
       "11295    a vida de rhys cole sempre girou em torno do h...\n",
       "11296    nunca era um grito de vitória, mas sim de dor....\n",
       "11297    sawyer quer ter a própria vida. finn quer esqu...\n",
       "11298    o amor que o finn e eu compartilhamos é do tip...\n",
       "11299    james bradley sabia o que imprensa era capaz d...\n",
       "11301    neste livro você será envolvido por temas emoc...\n",
       "Name: sinopse, Length: 10713, dtype: object"
      ]
     },
     "execution_count": 22,
     "metadata": {},
     "output_type": "execute_result"
    }
   ],
   "source": [
    "df['sinopse'] = [sinopse.lower() for sinopse in df['sinopse']]\n",
    "df['sinopse']"
   ]
  }
 ],
 "metadata": {
  "kernelspec": {
   "display_name": "Python 3",
   "language": "python",
   "name": "python3"
  },
  "language_info": {
   "codemirror_mode": {
    "name": "ipython",
    "version": 3
   },
   "file_extension": ".py",
   "mimetype": "text/x-python",
   "name": "python",
   "nbconvert_exporter": "python",
   "pygments_lexer": "ipython3",
   "version": "3.7.0"
  }
 },
 "nbformat": 4,
 "nbformat_minor": 2
}
