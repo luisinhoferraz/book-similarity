{
 "cells": [
  {
   "cell_type": "code",
   "execution_count": 1,
   "metadata": {},
   "outputs": [],
   "source": [
    "#Import packages\n",
    "import pandas as pd\n",
    "from pandas import DataFrame\n",
    "import numpy as np\n",
    "import re"
   ]
  },
  {
   "cell_type": "code",
   "execution_count": 95,
   "metadata": {},
   "outputs": [],
   "source": [
    "#Define where's the CSV file\n",
    "filePath = 'C:/Users/LuisRicardoFerraz/Documents/personal/projects/book-similarity/test/tutorial/tutorial/spiders/newDataSetClean.csv'"
   ]
  },
  {
   "cell_type": "code",
   "execution_count": 98,
   "metadata": {},
   "outputs": [],
   "source": [
    "#Import CSV file to a DataFrame\n",
    "df = pd.read_csv(filePath)"
   ]
  },
  {
   "cell_type": "code",
   "execution_count": 4,
   "metadata": {},
   "outputs": [
    {
     "name": "stdout",
     "output_type": "stream",
     "text": [
      "Unnamed: 0 0.0\n",
      "isbn-10 0.0\n",
      "isbn-13 0.0\n",
      "titulo 0.0\n",
      "autor 0.0\n",
      "editora 0.0\n",
      "ano 0.0\n",
      "paginas 0.0\n",
      "idioma 0.0\n",
      "leram 0.0\n",
      "lendo 0.0\n",
      "queremLer 0.0\n",
      "relendo 0.0\n",
      "abandonos 0.0\n",
      "resenhas 0.0\n",
      "nota 0.0\n",
      "favoritos 0.0\n",
      "desejados 0.0\n",
      "trocam 0.0\n",
      "avaliaram 0.0\n",
      "cincoEstrelas 0.0\n",
      "quatroEstrelas 0.0\n",
      "tresEstrelas 0.0\n",
      "duasEstrelas 0.0\n",
      "umaEstrela 0.0\n",
      "avaliacoesHomens 0.0\n",
      "avaliacoesMulheres 0.0\n",
      "sinopse 0.0\n"
     ]
    }
   ],
   "source": [
    "i = 0\n",
    "for column in df:\n",
    "    for record in df[column]:\n",
    "        if (str(record) == 'nan'):\n",
    "            i = i+1\n",
    "    print(column+' '+str(i*100/df.shape[0]))\n",
    "    i = 0"
   ]
  },
  {
   "cell_type": "code",
   "execution_count": 99,
   "metadata": {},
   "outputs": [],
   "source": [
    "df = df.drop(['subtitulo','generos','tags'],1)"
   ]
  },
  {
   "cell_type": "code",
   "execution_count": 6,
   "metadata": {},
   "outputs": [
    {
     "data": {
      "text/plain": [
       "(10713, 27)"
      ]
     },
     "execution_count": 6,
     "metadata": {},
     "output_type": "execute_result"
    }
   ],
   "source": [
    "df.shape"
   ]
  },
  {
   "cell_type": "code",
   "execution_count": 108,
   "metadata": {},
   "outputs": [],
   "source": [
    "df.to_csv('C:/Users/LuisRicardoFerraz/Documents/personal/projects/book-similarity/test/tutorial/tutorial/spiders/dataSetNewSteps.csv')"
   ]
  },
  {
   "cell_type": "code",
   "execution_count": 2,
   "metadata": {},
   "outputs": [],
   "source": [
    "filePath = 'C:/Users/LuisRicardoFerraz/Documents/personal/projects/book-similarity/test/tutorial/tutorial/spiders/dataSetNewSteps.csv'"
   ]
  },
  {
   "cell_type": "code",
   "execution_count": 25,
   "metadata": {},
   "outputs": [],
   "source": [
    "df = pd.read_csv(filePath)"
   ]
  },
  {
   "cell_type": "code",
   "execution_count": 26,
   "metadata": {},
   "outputs": [],
   "source": [
    "df = df.drop(['Unnamed: 0'],1)"
   ]
  },
  {
   "cell_type": "code",
   "execution_count": 27,
   "metadata": {},
   "outputs": [
    {
     "data": {
      "text/plain": [
       "isbn-10                object\n",
       "isbn-13                 int64\n",
       "titulo                 object\n",
       "autor                  object\n",
       "editora                object\n",
       "ano                     int64\n",
       "paginas                 int64\n",
       "idioma                 object\n",
       "leram                   int64\n",
       "lendo                   int64\n",
       "queremLer               int64\n",
       "relendo                 int64\n",
       "abandonos               int64\n",
       "resenhas                int64\n",
       "nota                  float64\n",
       "favoritos               int64\n",
       "desejados               int64\n",
       "trocam                  int64\n",
       "avaliaram               int64\n",
       "cincoEstrelas         float64\n",
       "quatroEstrelas        float64\n",
       "tresEstrelas          float64\n",
       "duasEstrelas          float64\n",
       "umaEstrela            float64\n",
       "avaliacoesHomens      float64\n",
       "avaliacoesMulheres    float64\n",
       "sinopse                object\n",
       "dtype: object"
      ]
     },
     "execution_count": 27,
     "metadata": {},
     "output_type": "execute_result"
    }
   ],
   "source": [
    "df.dtypes"
   ]
  },
  {
   "cell_type": "code",
   "execution_count": 29,
   "metadata": {},
   "outputs": [],
   "source": [
    "df.to_csv(filePath)"
   ]
  },
  {
   "cell_type": "code",
   "execution_count": 54,
   "metadata": {},
   "outputs": [],
   "source": [
    "df = df.dropna(axis=0,how='any',subset=['sinopse'],inplace=False)"
   ]
  },
  {
   "cell_type": "code",
   "execution_count": 24,
   "metadata": {},
   "outputs": [
    {
     "data": {
      "text/plain": [
       "(10713, 27)"
      ]
     },
     "execution_count": 24,
     "metadata": {},
     "output_type": "execute_result"
    }
   ],
   "source": [
    "df.shape"
   ]
  },
  {
   "cell_type": "code",
   "execution_count": 8,
   "metadata": {},
   "outputs": [
    {
     "name": "stdout",
     "output_type": "stream",
     "text": [
      "Volume 1 das Obras completas\n",
      "Coleção Contos para jovens.\n",
      "participação no governo Lula\n",
      "Ciência da Informação\n"
     ]
    }
   ],
   "source": [
    "for synopsis in df['sinopse']:\n",
    "    if len(str(synopsis)) <= 30:\n",
    "        print(synopsis)"
   ]
  },
  {
   "cell_type": "code",
   "execution_count": 9,
   "metadata": {},
   "outputs": [
    {
     "name": "stdout",
     "output_type": "stream",
     "text": [
      "10713\n"
     ]
    }
   ],
   "source": [
    "synopsisLength = []\n",
    "for synopsis in df['sinopse']:\n",
    "    synopsisLength.append(len(str(synopsis)))\n",
    "print(len(synopsisLength))"
   ]
  },
  {
   "cell_type": "code",
   "execution_count": 78,
   "metadata": {},
   "outputs": [],
   "source": [
    "df = df[df['sinopse'].map(len) > 20]"
   ]
  },
  {
   "cell_type": "code",
   "execution_count": 10,
   "metadata": {
    "scrolled": true
   },
   "outputs": [
    {
     "name": "stdout",
     "output_type": "stream",
     "text": [
      "Média: 914.7290208158312\n",
      "Mediana: 792.0\n",
      "Máximo: 8374\n",
      "Mínimo: 21\n",
      "Intervalo médio: 4176.5\n",
      "Variância: 311598.5541773178\n",
      "desvio-padrão: 558.2101344272762\n"
     ]
    }
   ],
   "source": [
    "synopsisLength = np.array(synopsisLength)\n",
    "\n",
    "# Média\n",
    "print(\"Média: \"+str(np.mean(synopsisLength)))\n",
    "\n",
    "# Mediana\n",
    "print(\"Mediana: \"+str(np.median(synopsisLength)))\n",
    "\n",
    "# Máximo e Mínimo\n",
    "print(\"Máximo: \"+str(np.max(synopsisLength)))\n",
    "print(\"Mínimo: \"+str(np.min(synopsisLength)))\n",
    "\n",
    "# Intervalo médio\n",
    "print(\"Intervalo médio: \"+str((np.max(synopsisLength)-np.min(synopsisLength))/2))\n",
    "\n",
    "# Variância e desvio-padrão\n",
    "print(\"Variância: \"+str(np.var(synopsisLength,ddof=1)))\n",
    "print(\"desvio-padrão: \"+str(np.std(synopsisLength,ddof=1)))"
   ]
  },
  {
   "cell_type": "code",
   "execution_count": 28,
   "metadata": {},
   "outputs": [
    {
     "name": "stdout",
     "output_type": "stream",
     "text": [
      "19.182301876225146\n",
      "0.7187529170167086\n",
      "0.0\n",
      "0.0\n",
      "0.0\n"
     ]
    }
   ],
   "source": [
    "# Considerar a correção do arredondamento já no Crawler, e depois remover os dados que permanecerem incorretos.\n",
    "\n",
    "array = [value for value in df['cincoEstrelas']+df['quatroEstrelas']+df['tresEstrelas']+df['duasEstrelas']+df['umaEstrela'] > 1 if value == True]\n",
    "print(len(array)*100/df.shape[0])\n",
    "sort = [value for value in df['avaliacoesHomens'] + df['avaliacoesMulheres'] > 1 if value == True]\n",
    "print(len(sort)*100/df.shape[0])\n",
    "list = [value for value in df['avaliaram'] > df['leram'] if value == True]\n",
    "print(len(list)*100/df.shape[0])\n",
    "sample = [value for value in df['favoritos'] > df['leram'] if value == True]\n",
    "print(len(sample)*100/df.shape[0])\n",
    "bypass = [value for value in df['relendo'] > df['leram'] if value == True]\n",
    "print(len(bypass)*100/df.shape[0])"
   ]
  },
  {
   "cell_type": "code",
   "execution_count": 135,
   "metadata": {},
   "outputs": [],
   "source": [
    "df = df[df['avaliaram'] <= df['leram']]"
   ]
  },
  {
   "cell_type": "code",
   "execution_count": 143,
   "metadata": {},
   "outputs": [],
   "source": [
    "df = df[df['favoritos'] <= df['leram']]"
   ]
  },
  {
   "cell_type": "code",
   "execution_count": 168,
   "metadata": {},
   "outputs": [],
   "source": [
    "df = df[df['relendo'] <= df['leram']]"
   ]
  },
  {
   "cell_type": "code",
   "execution_count": 6,
   "metadata": {},
   "outputs": [],
   "source": [
    "def transformarEditora(atual,correto):\n",
    "    if correto in atual:\n",
    "        return correto\n",
    "    else:\n",
    "        return atual"
   ]
  },
  {
   "cell_type": "code",
   "execution_count": 17,
   "metadata": {},
   "outputs": [
    {
     "name": "stdout",
     "output_type": "stream",
     "text": [
      "harpercollins\n",
      "harlequin\n"
     ]
    }
   ],
   "source": [
    "editorasOficiais = ['Intrínseca','Harlequin','Sextante','Arqueiro','Galera Record','Leya','Rocco','Valentina','Planeta','Verus','HarperCollins','Universo','Gift Box']\n",
    "listaEditoras = df['editora']\n",
    "listaEditoras = [editora.lower() for editora in listaEditoras]\n",
    "editorasOficiais = [editora.lower() for editora in editorasOficiais]\n",
    "print(transformarEditora(listaEditoras[17],editorasOficiais[1]))"
   ]
  },
  {
   "cell_type": "code",
   "execution_count": 22,
   "metadata": {},
   "outputs": [
    {
     "name": "stdout",
     "output_type": "stream",
     "text": [
      "bloomsbury childrens\n",
      "lua de mel\n",
      "edições saraiva\n",
      "tradução não oficial\n",
      "nova cultural\n",
      "best seller\n",
      "halerquin books\n",
      "pensamento\n",
      "dom quixote\n",
      "harlerquin books\n",
      "academia de inteligência\n",
      "lua de papel\n",
      "academia\n",
      "academia de inteligência\n",
      "lua de papel\n",
      "quinta essência\n",
      "quinta essência\n",
      "quinta essência\n",
      "quinta essência\n",
      "quinta essência\n",
      "quinta essência\n",
      "quinta essência\n",
      "casa da palavra\n",
      "essência\n",
      "quinta essência\n",
      "quinta essência\n",
      "269\n",
      "harlequn books brasil\n",
      "tusquets editores\n",
      "crítica\n",
      "academia\n",
      "vozes\n",
      "no bolso\n",
      "no bolso\n",
      "no bolso\n",
      "no bolso\n",
      "no bolso\n",
      "crítica\n",
      "academia de inteligência\n",
      "academia de inteligência\n",
      "sociedade bíblica ibero-americana, casa da palavra, abba press\n",
      "essência\n",
      "intrinseca\n",
      "landscape\n",
      "intrinseca\n",
      "intrinseca\n",
      "intrinseca\n",
      "intrinseca\n",
      "intrinseca\n",
      "intrinseca\n",
      "intrinseca\n",
      "intrinseca\n",
      "intriseca\n",
      "intrinseca\n",
      "domínio público\n",
      "gmt\n",
      "cultrix\n",
      "ediouro\n",
      "mundo cristão\n",
      "primeira pessoa\n",
      "hoo\n",
      "pavio\n",
      "companhia das letras\n",
      "gold\n",
      "pavio\n",
      "objetiva\n",
      "nova fronteira\n",
      "best seller\n",
      "correcotia\n",
      "pavio\n",
      "gailivro\n",
      "companhia das letras\n",
      "pavio\n",
      "l&pm pocket\n",
      "pavio\n",
      "pavio\n",
      "rosa dos tempos\n",
      "arquipélago\n",
      "galera júnior\n",
      "galera junior\n",
      "galera junior\n",
      "galerinha\n",
      "galera junior\n",
      "galera junior\n",
      "galera\n",
      "galera\n",
      "bestbolso\n",
      "galera\n",
      "galera junior\n",
      "galera júnior\n",
      "galera junior\n",
      "galera\n",
      "galera júnior\n",
      "galera\n",
      "galera junior\n",
      "galera júnior\n",
      "galera junior\n",
      "galera júnior\n",
      "galera junior\n",
      "galera\n",
      "galera junior\n",
      "galera júnior\n",
      "galera júnior\n",
      "galera junior\n",
      "galera\n",
      "galera\n",
      "galera junior\n",
      "galera\n",
      "galera\n",
      "galera júnior\n",
      "galera júnior\n",
      "galera júnior\n",
      "harper collins brasil\n",
      "harper collins\n",
      "nova fronteira\n",
      "harper collins\n",
      "nova fronteira\n",
      "harper collins\n",
      "nova fronteira\n",
      "nova fronteira\n",
      "nova fronteira\n",
      "agir\n",
      "nova fronteira\n",
      "nova fronteira\n",
      "nova fronteira\n",
      "harper collins\n",
      "harper collins\n",
      "nova fronteira\n",
      "nova fronteira\n",
      "nova fronteira\n",
      "harper collins brasil\n",
      "agir\n",
      "nova fronteira\n",
      "nova fronteira\n",
      "nova fronteira\n",
      "harper collins brasil\n",
      "harper collins brasil\n",
      "harper collins\n",
      "harper collins brasil\n",
      "harper collins brasil\n",
      "harper collins brasil\n",
      "casa dos livros - harper collins\n",
      "harper collins\n",
      "harper collins brasil\n",
      "hapercollins brasil\n"
     ]
    }
   ],
   "source": [
    "editorasOficiais = ['Intrínseca','Harlequin','Sextante','Arqueiro','Record','Leya','Rocco','Valentina','Planeta','Verus','HarperCollins','Universo','Gift Box']\n",
    "listaEditoras = df['editora']\n",
    "\n",
    "listaEditoras = [editora.lower() for editora in listaEditoras]\n",
    "editorasOficiais = [editora.lower() for editora in editorasOficiais]\n",
    "\n",
    "i = 0\n",
    "j = 0\n",
    "\n",
    "while i < len(editorasOficiais):\n",
    "    j = 0\n",
    "    while j < len(listaEditoras):\n",
    "        listaEditoras[j] = transformarEditora(listaEditoras[j],editorasOficiais[i])\n",
    "        j = j+1\n",
    "    i = i+1\n",
    "\n",
    "for editora in listaEditoras:\n",
    "    if editora not in editorasOficiais:\n",
    "        print(editora)"
   ]
  }
 ],
 "metadata": {
  "kernelspec": {
   "display_name": "Python 3",
   "language": "python",
   "name": "python3"
  },
  "language_info": {
   "codemirror_mode": {
    "name": "ipython",
    "version": 3
   },
   "file_extension": ".py",
   "mimetype": "text/x-python",
   "name": "python",
   "nbconvert_exporter": "python",
   "pygments_lexer": "ipython3",
   "version": "3.7.0"
  }
 },
 "nbformat": 4,
 "nbformat_minor": 2
}
