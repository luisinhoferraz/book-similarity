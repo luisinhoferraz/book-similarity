{
 "cells": [
  {
   "cell_type": "code",
   "execution_count": 3,
   "metadata": {},
   "outputs": [],
   "source": [
    "import nltk\n",
    "\n",
    "from nltk.tokenize import word_tokenize\n",
    "from nltk.corpus import stopwords\n",
    "from string import punctuation"
   ]
  },
  {
   "cell_type": "code",
   "execution_count": 2,
   "metadata": {},
   "outputs": [],
   "source": [
    "text = \"resgate foi a primeira palavra que ouvi quando os tiros cessaram ele está ferido tire o daqui foi o que ouvi quando fui levado para cima arranque isso dele foi a última coisa que ouvi antes de me render a escuridão uma década depois e essas palavras ainda permeiam meus pensamentos antes elas me causavam medo mas aprendi a lidar com ele transformei o medo em ódio em uma motivação o combustível que precisava e a justificativa perfeita para a escuridão dentro de mim hoje eu tenho um plano e não vou desviar nem que isso signifique silenciar a única voz capaz de acalmar os demônios na minha cabeça danificada eles roubaram a minha vida e não a quero de volta meu único desejo é acabar com a deles\""
   ]
  },
  {
   "cell_type": "code",
   "execution_count": 13,
   "metadata": {},
   "outputs": [
    {
     "name": "stdout",
     "output_type": "stream",
     "text": [
      "129\n",
      "['resgate', 'foi', 'a', 'primeira', 'palavra', 'que', 'ouvi', 'quando', 'os', 'tiros', 'cessaram', 'ele', 'está', 'ferido', 'tire', 'o', 'daqui', 'foi', 'o', 'que', 'ouvi', 'quando', 'fui', 'levado', 'para', 'cima', 'arranque', 'isso', 'dele', 'foi', 'a', 'última', 'coisa', 'que', 'ouvi', 'antes', 'de', 'me', 'render', 'a', 'escuridão', 'uma', 'década', 'depois', 'e', 'essas', 'palavras', 'ainda', 'permeiam', 'meus', 'pensamentos', 'antes', 'elas', 'me', 'causavam', 'medo', 'mas', 'aprendi', 'a', 'lidar', 'com', 'ele', 'transformei', 'o', 'medo', 'em', 'ódio', 'em', 'uma', 'motivação', 'o', 'combustível', 'que', 'precisava', 'e', 'a', 'justificativa', 'perfeita', 'para', 'a', 'escuridão', 'dentro', 'de', 'mim', 'hoje', 'eu', 'tenho', 'um', 'plano', 'e', 'não', 'vou', 'desviar', 'nem', 'que', 'isso', 'signifique', 'silenciar', 'a', 'única', 'voz', 'capaz', 'de', 'acalmar', 'os', 'demônios', 'na', 'minha', 'cabeça', 'danificada', 'eles', 'roubaram', 'a', 'minha', 'vida', 'e', 'não', 'a', 'quero', 'de', 'volta', 'meu', 'único', 'desejo', 'é', 'acabar', 'com', 'a', 'deles']\n"
     ]
    }
   ],
   "source": [
    "palavras = word_tokenize(text)\n",
    "print(len(palavras))\n",
    "print(palavras)"
   ]
  },
  {
   "cell_type": "code",
   "execution_count": 7,
   "metadata": {},
   "outputs": [],
   "source": [
    "stopwords = set(stopwords.words('portuguese') + list(punctuation))\n",
    "palavras_sem_stopwords = [palavra for palavra in palavras if palavra not in stopwords]"
   ]
  },
  {
   "cell_type": "code",
   "execution_count": 17,
   "metadata": {},
   "outputs": [
    {
     "name": "stdout",
     "output_type": "stream",
     "text": [
      "61\n",
      "resgate primeira palavra ouvi tiros cessaram ferido tire daqui ouvi levado cima arranque última coisa ouvi antes render escuridão década palavras ainda permeiam pensamentos antes causavam medo aprendi lidar transformei medo ódio motivação combustível precisava justificativa perfeita escuridão dentro mim hoje plano vou desviar signifique silenciar única voz capaz acalmar demônios cabeça danificada roubaram vida quero volta único desejo é acabar\n"
     ]
    }
   ],
   "source": [
    "print(len(palavras_sem_stopwords))\n",
    "final_string = \" \".join(palavras_sem_stopwords)\n",
    "print(final_string)"
   ]
  }
 ],
 "metadata": {
  "kernelspec": {
   "display_name": "Python 3",
   "language": "python",
   "name": "python3"
  },
  "language_info": {
   "codemirror_mode": {
    "name": "ipython",
    "version": 3
   },
   "file_extension": ".py",
   "mimetype": "text/x-python",
   "name": "python",
   "nbconvert_exporter": "python",
   "pygments_lexer": "ipython3",
   "version": "3.7.0"
  }
 },
 "nbformat": 4,
 "nbformat_minor": 2
}
